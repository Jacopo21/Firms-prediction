{
 "cells": [
  {
   "cell_type": "code",
   "execution_count": 2,
   "metadata": {},
   "outputs": [],
   "source": [
    "import os\n",
    "import sys\n",
    "import warnings\n",
    "\n",
    "import matplotlib.pyplot as plt\n",
    "import numpy as np\n",
    "import pandas as pd\n",
    "import patsy\n",
    "import sklearn.metrics as metrics\n",
    "import statsmodels.formula.api as smf\n",
    "from plotnine import *\n",
    "from sklearn.ensemble import RandomForestClassifier\n",
    "from sklearn.linear_model import (\n",
    "    LinearRegression,\n",
    "    LogisticRegression,\n",
    "    LogisticRegressionCV,\n",
    ")\n",
    "from sklearn.metrics import (\n",
    "    auc,\n",
    "    brier_score_loss,\n",
    "    confusion_matrix,\n",
    "    mean_squared_error,\n",
    "    roc_auc_score,\n",
    "    roc_curve,\n",
    ")\n",
    "from sklearn.model_selection import GridSearchCV, KFold, train_test_split\n",
    "from sklearn.preprocessing import StandardScaler\n",
    "from statsmodels.tools.eval_measures import rmse\n",
    "warnings.filterwarnings(\"ignore\")"
   ]
  },
  {
   "cell_type": "code",
   "execution_count": 3,
   "metadata": {},
   "outputs": [],
   "source": [
    "data = pd.read_csv(\"/Users/jacopobinati/Desktop/Prediction ML/assignment 3/datafinal2.csv\")"
   ]
  },
  {
   "cell_type": "code",
   "execution_count": 4,
   "metadata": {},
   "outputs": [
    {
     "data": {
      "text/html": [
       "<div>\n",
       "<style scoped>\n",
       "    .dataframe tbody tr th:only-of-type {\n",
       "        vertical-align: middle;\n",
       "    }\n",
       "\n",
       "    .dataframe tbody tr th {\n",
       "        vertical-align: top;\n",
       "    }\n",
       "\n",
       "    .dataframe thead th {\n",
       "        text-align: right;\n",
       "    }\n",
       "</style>\n",
       "<table border=\"1\" class=\"dataframe\">\n",
       "  <thead>\n",
       "    <tr style=\"text-align: right;\">\n",
       "      <th></th>\n",
       "      <th>year</th>\n",
       "      <th>comp_id</th>\n",
       "      <th>begin</th>\n",
       "      <th>end</th>\n",
       "      <th>amort</th>\n",
       "      <th>curr_assets</th>\n",
       "      <th>curr_liab</th>\n",
       "      <th>extra_exp</th>\n",
       "      <th>extra_inc</th>\n",
       "      <th>extra_profit_loss</th>\n",
       "      <th>...</th>\n",
       "      <th>default_f</th>\n",
       "      <th>sales_mil_log_sq</th>\n",
       "      <th>ebtda</th>\n",
       "      <th>t2_ebtda</th>\n",
       "      <th>ebtda_to_assets</th>\n",
       "      <th>f_d1_sales_mil_log_low</th>\n",
       "      <th>f_d1_sales_mil_log_high</th>\n",
       "      <th>d1_sales_mil_log_mod</th>\n",
       "      <th>d1_sales_mil_log_mod_sq</th>\n",
       "      <th>fast_growth</th>\n",
       "    </tr>\n",
       "  </thead>\n",
       "  <tbody>\n",
       "    <tr>\n",
       "      <th>0</th>\n",
       "      <td>2010</td>\n",
       "      <td>1.002029e+06</td>\n",
       "      <td>2010-01-01</td>\n",
       "      <td>2010-12-31</td>\n",
       "      <td>22114.814453</td>\n",
       "      <td>230781.484375</td>\n",
       "      <td>202551.859375</td>\n",
       "      <td>0.0</td>\n",
       "      <td>0.000000</td>\n",
       "      <td>0.000000</td>\n",
       "      <td>...</td>\n",
       "      <td>no_default</td>\n",
       "      <td>0.028856</td>\n",
       "      <td>58244.443359</td>\n",
       "      <td>26748.148438</td>\n",
       "      <td>-0.113955</td>\n",
       "      <td>0</td>\n",
       "      <td>0</td>\n",
       "      <td>0.000000</td>\n",
       "      <td>0.000000</td>\n",
       "      <td>False</td>\n",
       "    </tr>\n",
       "    <tr>\n",
       "      <th>1</th>\n",
       "      <td>2010</td>\n",
       "      <td>1.003200e+06</td>\n",
       "      <td>2010-01-01</td>\n",
       "      <td>2010-12-31</td>\n",
       "      <td>74.074074</td>\n",
       "      <td>922.222229</td>\n",
       "      <td>5388.888672</td>\n",
       "      <td>0.0</td>\n",
       "      <td>0.000000</td>\n",
       "      <td>0.000000</td>\n",
       "      <td>...</td>\n",
       "      <td>no_default</td>\n",
       "      <td>18.349431</td>\n",
       "      <td>359.259254</td>\n",
       "      <td>-2311.111183</td>\n",
       "      <td>-1.427723</td>\n",
       "      <td>0</td>\n",
       "      <td>0</td>\n",
       "      <td>0.000000</td>\n",
       "      <td>0.000000</td>\n",
       "      <td>False</td>\n",
       "    </tr>\n",
       "    <tr>\n",
       "      <th>2</th>\n",
       "      <td>2010</td>\n",
       "      <td>1.011889e+06</td>\n",
       "      <td>2010-01-01</td>\n",
       "      <td>2010-12-31</td>\n",
       "      <td>27514.814453</td>\n",
       "      <td>105433.343750</td>\n",
       "      <td>6611.111328</td>\n",
       "      <td>0.0</td>\n",
       "      <td>0.000000</td>\n",
       "      <td>0.000000</td>\n",
       "      <td>...</td>\n",
       "      <td>no_default</td>\n",
       "      <td>1.154608</td>\n",
       "      <td>72477.779297</td>\n",
       "      <td>133377.777344</td>\n",
       "      <td>0.066279</td>\n",
       "      <td>0</td>\n",
       "      <td>0</td>\n",
       "      <td>0.000000</td>\n",
       "      <td>0.000000</td>\n",
       "      <td>True</td>\n",
       "    </tr>\n",
       "    <tr>\n",
       "      <th>3</th>\n",
       "      <td>2010</td>\n",
       "      <td>1.014183e+06</td>\n",
       "      <td>2010-01-01</td>\n",
       "      <td>2010-12-31</td>\n",
       "      <td>10281.481445</td>\n",
       "      <td>149503.703125</td>\n",
       "      <td>3622.222168</td>\n",
       "      <td>0.0</td>\n",
       "      <td>0.000000</td>\n",
       "      <td>0.000000</td>\n",
       "      <td>...</td>\n",
       "      <td>no_default</td>\n",
       "      <td>4.979001</td>\n",
       "      <td>14403.703613</td>\n",
       "      <td>11114.814517</td>\n",
       "      <td>-0.011698</td>\n",
       "      <td>0</td>\n",
       "      <td>0</td>\n",
       "      <td>0.000000</td>\n",
       "      <td>0.000000</td>\n",
       "      <td>False</td>\n",
       "    </tr>\n",
       "    <tr>\n",
       "      <th>4</th>\n",
       "      <td>2010</td>\n",
       "      <td>1.022796e+06</td>\n",
       "      <td>2010-01-01</td>\n",
       "      <td>2010-12-31</td>\n",
       "      <td>1537.036987</td>\n",
       "      <td>8192.592773</td>\n",
       "      <td>1577.777832</td>\n",
       "      <td>0.0</td>\n",
       "      <td>0.000000</td>\n",
       "      <td>0.000000</td>\n",
       "      <td>...</td>\n",
       "      <td>no_default</td>\n",
       "      <td>12.497002</td>\n",
       "      <td>-7992.592896</td>\n",
       "      <td>-574.074097</td>\n",
       "      <td>0.502257</td>\n",
       "      <td>0</td>\n",
       "      <td>0</td>\n",
       "      <td>0.000000</td>\n",
       "      <td>0.000000</td>\n",
       "      <td>True</td>\n",
       "    </tr>\n",
       "    <tr>\n",
       "      <th>...</th>\n",
       "      <td>...</td>\n",
       "      <td>...</td>\n",
       "      <td>...</td>\n",
       "      <td>...</td>\n",
       "      <td>...</td>\n",
       "      <td>...</td>\n",
       "      <td>...</td>\n",
       "      <td>...</td>\n",
       "      <td>...</td>\n",
       "      <td>...</td>\n",
       "      <td>...</td>\n",
       "      <td>...</td>\n",
       "      <td>...</td>\n",
       "      <td>...</td>\n",
       "      <td>...</td>\n",
       "      <td>...</td>\n",
       "      <td>...</td>\n",
       "      <td>...</td>\n",
       "      <td>...</td>\n",
       "      <td>...</td>\n",
       "      <td>...</td>\n",
       "    </tr>\n",
       "    <tr>\n",
       "      <th>57080</th>\n",
       "      <td>2013</td>\n",
       "      <td>4.633865e+11</td>\n",
       "      <td>2013-01-01</td>\n",
       "      <td>2013-12-31</td>\n",
       "      <td>1722.222168</td>\n",
       "      <td>3325.926025</td>\n",
       "      <td>337.037048</td>\n",
       "      <td>0.0</td>\n",
       "      <td>0.000000</td>\n",
       "      <td>0.000000</td>\n",
       "      <td>...</td>\n",
       "      <td>no_default</td>\n",
       "      <td>15.463885</td>\n",
       "      <td>1899.999939</td>\n",
       "      <td>4018.518491</td>\n",
       "      <td>0.046763</td>\n",
       "      <td>0</td>\n",
       "      <td>0</td>\n",
       "      <td>-0.147677</td>\n",
       "      <td>0.021808</td>\n",
       "      <td>False</td>\n",
       "    </tr>\n",
       "    <tr>\n",
       "      <th>57081</th>\n",
       "      <td>2013</td>\n",
       "      <td>4.635828e+11</td>\n",
       "      <td>2013-01-01</td>\n",
       "      <td>2013-12-31</td>\n",
       "      <td>44.444443</td>\n",
       "      <td>1522.222168</td>\n",
       "      <td>166.666672</td>\n",
       "      <td>0.0</td>\n",
       "      <td>185.185181</td>\n",
       "      <td>185.185181</td>\n",
       "      <td>...</td>\n",
       "      <td>no_default</td>\n",
       "      <td>23.525539</td>\n",
       "      <td>1733.333359</td>\n",
       "      <td>-5944.444336</td>\n",
       "      <td>-3.300955</td>\n",
       "      <td>0</td>\n",
       "      <td>0</td>\n",
       "      <td>0.060980</td>\n",
       "      <td>0.003719</td>\n",
       "      <td>False</td>\n",
       "    </tr>\n",
       "    <tr>\n",
       "      <th>57082</th>\n",
       "      <td>2013</td>\n",
       "      <td>4.637275e+11</td>\n",
       "      <td>2013-01-01</td>\n",
       "      <td>2013-12-31</td>\n",
       "      <td>0.000000</td>\n",
       "      <td>9311.111328</td>\n",
       "      <td>211.111115</td>\n",
       "      <td>0.0</td>\n",
       "      <td>0.000000</td>\n",
       "      <td>0.000000</td>\n",
       "      <td>...</td>\n",
       "      <td>no_default</td>\n",
       "      <td>28.580871</td>\n",
       "      <td>-2007.407349</td>\n",
       "      <td>-7188.888916</td>\n",
       "      <td>-0.556484</td>\n",
       "      <td>0</td>\n",
       "      <td>0</td>\n",
       "      <td>0.000000</td>\n",
       "      <td>0.000000</td>\n",
       "      <td>False</td>\n",
       "    </tr>\n",
       "    <tr>\n",
       "      <th>57083</th>\n",
       "      <td>2013</td>\n",
       "      <td>4.639820e+11</td>\n",
       "      <td>2013-01-01</td>\n",
       "      <td>2013-12-31</td>\n",
       "      <td>12003.704102</td>\n",
       "      <td>109114.812500</td>\n",
       "      <td>150618.515625</td>\n",
       "      <td>0.0</td>\n",
       "      <td>0.000000</td>\n",
       "      <td>0.000000</td>\n",
       "      <td>...</td>\n",
       "      <td>no_default</td>\n",
       "      <td>0.987503</td>\n",
       "      <td>52311.110352</td>\n",
       "      <td>24096.295898</td>\n",
       "      <td>-0.128010</td>\n",
       "      <td>0</td>\n",
       "      <td>0</td>\n",
       "      <td>0.662642</td>\n",
       "      <td>0.439095</td>\n",
       "      <td>False</td>\n",
       "    </tr>\n",
       "    <tr>\n",
       "      <th>57084</th>\n",
       "      <td>2013</td>\n",
       "      <td>4.641050e+11</td>\n",
       "      <td>2013-01-01</td>\n",
       "      <td>2013-12-31</td>\n",
       "      <td>633.333313</td>\n",
       "      <td>39714.816406</td>\n",
       "      <td>13429.629883</td>\n",
       "      <td>0.0</td>\n",
       "      <td>0.000000</td>\n",
       "      <td>0.000000</td>\n",
       "      <td>...</td>\n",
       "      <td>no_default</td>\n",
       "      <td>3.406607</td>\n",
       "      <td>4570.370422</td>\n",
       "      <td>19440.741419</td>\n",
       "      <td>0.309155</td>\n",
       "      <td>0</td>\n",
       "      <td>0</td>\n",
       "      <td>0.019419</td>\n",
       "      <td>0.000377</td>\n",
       "      <td>True</td>\n",
       "    </tr>\n",
       "  </tbody>\n",
       "</table>\n",
       "<p>57085 rows × 121 columns</p>\n",
       "</div>"
      ],
      "text/plain": [
       "       year       comp_id       begin         end         amort   \n",
       "0      2010  1.002029e+06  2010-01-01  2010-12-31  22114.814453  \\\n",
       "1      2010  1.003200e+06  2010-01-01  2010-12-31     74.074074   \n",
       "2      2010  1.011889e+06  2010-01-01  2010-12-31  27514.814453   \n",
       "3      2010  1.014183e+06  2010-01-01  2010-12-31  10281.481445   \n",
       "4      2010  1.022796e+06  2010-01-01  2010-12-31   1537.036987   \n",
       "...     ...           ...         ...         ...           ...   \n",
       "57080  2013  4.633865e+11  2013-01-01  2013-12-31   1722.222168   \n",
       "57081  2013  4.635828e+11  2013-01-01  2013-12-31     44.444443   \n",
       "57082  2013  4.637275e+11  2013-01-01  2013-12-31      0.000000   \n",
       "57083  2013  4.639820e+11  2013-01-01  2013-12-31  12003.704102   \n",
       "57084  2013  4.641050e+11  2013-01-01  2013-12-31    633.333313   \n",
       "\n",
       "         curr_assets      curr_liab  extra_exp   extra_inc  extra_profit_loss   \n",
       "0      230781.484375  202551.859375        0.0    0.000000           0.000000  \\\n",
       "1         922.222229    5388.888672        0.0    0.000000           0.000000   \n",
       "2      105433.343750    6611.111328        0.0    0.000000           0.000000   \n",
       "3      149503.703125    3622.222168        0.0    0.000000           0.000000   \n",
       "4        8192.592773    1577.777832        0.0    0.000000           0.000000   \n",
       "...              ...            ...        ...         ...                ...   \n",
       "57080    3325.926025     337.037048        0.0    0.000000           0.000000   \n",
       "57081    1522.222168     166.666672        0.0  185.185181         185.185181   \n",
       "57082    9311.111328     211.111115        0.0    0.000000           0.000000   \n",
       "57083  109114.812500  150618.515625        0.0    0.000000           0.000000   \n",
       "57084   39714.816406   13429.629883        0.0    0.000000           0.000000   \n",
       "\n",
       "       ...   default_f  sales_mil_log_sq         ebtda       t2_ebtda   \n",
       "0      ...  no_default          0.028856  58244.443359   26748.148438  \\\n",
       "1      ...  no_default         18.349431    359.259254   -2311.111183   \n",
       "2      ...  no_default          1.154608  72477.779297  133377.777344   \n",
       "3      ...  no_default          4.979001  14403.703613   11114.814517   \n",
       "4      ...  no_default         12.497002  -7992.592896    -574.074097   \n",
       "...    ...         ...               ...           ...            ...   \n",
       "57080  ...  no_default         15.463885   1899.999939    4018.518491   \n",
       "57081  ...  no_default         23.525539   1733.333359   -5944.444336   \n",
       "57082  ...  no_default         28.580871  -2007.407349   -7188.888916   \n",
       "57083  ...  no_default          0.987503  52311.110352   24096.295898   \n",
       "57084  ...  no_default          3.406607   4570.370422   19440.741419   \n",
       "\n",
       "       ebtda_to_assets  f_d1_sales_mil_log_low  f_d1_sales_mil_log_high   \n",
       "0            -0.113955                       0                        0  \\\n",
       "1            -1.427723                       0                        0   \n",
       "2             0.066279                       0                        0   \n",
       "3            -0.011698                       0                        0   \n",
       "4             0.502257                       0                        0   \n",
       "...                ...                     ...                      ...   \n",
       "57080         0.046763                       0                        0   \n",
       "57081        -3.300955                       0                        0   \n",
       "57082        -0.556484                       0                        0   \n",
       "57083        -0.128010                       0                        0   \n",
       "57084         0.309155                       0                        0   \n",
       "\n",
       "       d1_sales_mil_log_mod  d1_sales_mil_log_mod_sq  fast_growth  \n",
       "0                  0.000000                 0.000000        False  \n",
       "1                  0.000000                 0.000000        False  \n",
       "2                  0.000000                 0.000000         True  \n",
       "3                  0.000000                 0.000000        False  \n",
       "4                  0.000000                 0.000000         True  \n",
       "...                     ...                      ...          ...  \n",
       "57080             -0.147677                 0.021808        False  \n",
       "57081              0.060980                 0.003719        False  \n",
       "57082              0.000000                 0.000000        False  \n",
       "57083              0.662642                 0.439095        False  \n",
       "57084              0.019419                 0.000377         True  \n",
       "\n",
       "[57085 rows x 121 columns]"
      ]
     },
     "execution_count": 4,
     "metadata": {},
     "output_type": "execute_result"
    }
   ],
   "source": [
    "data"
   ]
  },
  {
   "cell_type": "markdown",
   "metadata": {},
   "source": [
    "## Define helper functions"
   ]
  },
  {
   "cell_type": "code",
   "execution_count": 5,
   "metadata": {},
   "outputs": [],
   "source": [
    "color=['#406390', 'green']\n",
    "def regression_results(y_true, y_pred):\n",
    "    \n",
    "    # Regression metrics\n",
    "    explained_variance=metrics.explained_variance_score(y_true, y_pred)\n",
    "    mean_absolute_error=metrics.mean_absolute_error(y_true, y_pred) \n",
    "    mse=metrics.mean_squared_error(y_true, y_pred) \n",
    "    median_absolute_error=metrics.median_absolute_error(y_true, y_pred)\n",
    "    r2=metrics.r2_score(y_true, y_pred)\n",
    "\n",
    "    print('explained_variance: ', round(explained_variance,4))    \n",
    "    print('r2: ', round(r2,4))\n",
    "    print('MAE: ', round(mean_absolute_error,4))\n",
    "    print('MSE: ', round(mse,4))\n",
    "    print('RMSE: ', round(np.sqrt(mse),4))\n",
    "    \n",
    "def coef_matrix(X, model):\n",
    "\n",
    "    coef_matrix = pd.concat([pd.DataFrame(X.columns),pd.DataFrame(np.transpose(model.coef_))], axis = 1)\n",
    "    coef_matrix.columns = ['variable', 'coefficient']\n",
    "    coef_matrix = coef_matrix.append({'variable': 'Intercept', 'coefficient': np.asscalar(model.intercept_)}, ignore_index=True)\n",
    "    return(coef_matrix)\n",
    "\n",
    "def cv_summary(lambdas, C_values, model):\n",
    "    d = {'lambdas': lambdas, 'C_values': C_values, 'mean_cv_score': model.scores_[1].mean(axis = 0)}\n",
    "    return(pd.DataFrame(data=d))\n",
    "\n",
    "def create_roc_plot(y_true, y_pred):\n",
    "    fpr, tpr, thresholds = roc_curve(y_true, y_pred)\n",
    "    all_coords = pd.DataFrame({\n",
    "        'fpr': fpr,\n",
    "        'tpr': tpr,\n",
    "        'thresholds': thresholds\n",
    "    })\n",
    "    \n",
    "    plot = ggplot(all_coords, aes(x = 'fpr', y = 'tpr')) \\\n",
    "        + geom_line(color=color[0], size = 0.7) \\\n",
    "        + geom_area(position = 'identity', fill = 'mediumaquamarine', alpha = 0.3) \\\n",
    "        + xlab(\"False Positive Rate (1-Specifity)\") \\\n",
    "        + ylab(\"True Positive Rate (Sensitivity)\") \\\n",
    "        + geom_abline(intercept = 0, slope = 1,  linetype = \"dotted\", color = \"black\") \\\n",
    "        + scale_y_continuous(limits = (0, 1), breaks = (0, 1, .1), expand = (0, 0.01)) \\\n",
    "        + scale_x_continuous(limits = (0, 1), breaks = (0, 1, .1), expand = (0.01, 0)) \\\n",
    "        + theme_bw()\n",
    "    return(plot)\n",
    "\n",
    "def sigmoid_array(x):\n",
    "    return(1 / (1 + np.exp(-x)))\n",
    "\n",
    "def generate_fold_prediction(model, X, fold, param_index):\n",
    "    fold_coef = model.coefs_paths_[1][fold,param_index,:]\n",
    "    return(sigmoid_array(np.dot(X, np.transpose(fold_coef)[:-1]) +  np.transpose(fold_coef)[-1]))\n",
    "\n",
    "def create_loss_plot(all_coords, optimal_threshold, curr_exp_loss):\n",
    "    all_coords_copy = all_coords.copy()\n",
    "    all_coords_copy['loss'] = (all_coords_copy.false_pos*FP + all_coords_copy.false_neg*FN)/all_coords_copy.n\n",
    "    \n",
    "    t = optimal_threshold\n",
    "    l = curr_exp_loss\n",
    "    \n",
    "    plot = ggplot(all_coords_copy, aes(x = 'thresholds', y = 'loss')) + \\\n",
    "        geom_line(color=color[0], size=0.7) + \\\n",
    "        scale_x_continuous(breaks=np.arange(0, 1.1, 0.1)) + \\\n",
    "        coord_cartesian(xlim=(0,1))+ \\\n",
    "        geom_vline(xintercept = t , color = color[0] ) + \\\n",
    "        annotate(geom = \"text\", x = t - 0.01, y= max(all_coords_copy.loss) - 0.4,\n",
    "                 label=\"best threshold: \" + str(round(t,2)),\n",
    "                 colour=color[1], angle=90, size = 7) +\\\n",
    "        annotate(geom = \"text\", x = t + 0.06, y= l,\\\n",
    "                 label= str(round(l, 2)), size = 7) +\\\n",
    "        theme_bw()\n",
    "    return(plot)\n",
    "\n",
    "\n",
    "def create_roc_plot_with_optimal(all_coords, optimal_threshold):\n",
    "    all_coords_copy = all_coords.copy()\n",
    "    all_coords_copy['sp'] = all_coords_copy.true_neg/all_coords_copy.neg\n",
    "    all_coords_copy['se'] = all_coords_copy.true_pos/all_coords_copy.pos\n",
    "    \n",
    "    best_coords = all_coords_copy[all_coords_copy.thresholds == optimal_threshold]\n",
    "    sp = best_coords.sp.values[0]\n",
    "    se = best_coords.se.values[0]\n",
    "\n",
    "    plot = ggplot(all_coords_copy, aes(x = 'sp', y = 'se')) +\\\n",
    "        geom_line(color=color[0], size=0.7) +\\\n",
    "        scale_y_continuous(breaks=np.arange(0, 1.1, 0.1)) +\\\n",
    "        scale_x_reverse(breaks=np.arange(0, 1.1, 0.1)) +\\\n",
    "        geom_point(data = pd.DataFrame({'sp': [sp], 'se': [se]})) +\\\n",
    "        annotate(geom = \"text\", x = sp, y = se + 0.03,\n",
    "                 label = str(round(sp, 2)) + ', ' + str(round(se, 2)), size = 7) +\\\n",
    "        theme_bw()\n",
    "    return(plot)"
   ]
  },
  {
   "cell_type": "markdown",
   "metadata": {},
   "source": [
    "## Define variable sets "
   ]
  },
  {
   "cell_type": "code",
   "execution_count": 6,
   "metadata": {},
   "outputs": [],
   "source": [
    "rawvars = [\"curr_assets\", \"curr_liab\", \"extra_exp\", \"extra_inc\", \"extra_profit_loss\", \"fixed_assets\",\n",
    "              \"inc_bef_tax\", \"intang_assets\", \"inventories\", \"liq_assets\", \"material_exp\", \"personnel_exp\",\n",
    "              \"profit_loss_year\", \"sales\", \"share_eq\", \"subscribed_cap\"]\n",
    "qualityvars = [\"balsheet_flag\", \"balsheet_length\", \"balsheet_notfullyear\"]\n",
    "engvar = [\"total_assets_bs\", \"fixed_assets_bs\", \"liq_assets_bs\", \"curr_assets_bs\",\n",
    "            \"share_eq_bs\", \"subscribed_cap_bs\", \"intang_assets_bs\", \"extra_exp_pl\",\n",
    "            \"extra_inc_pl\", \"extra_profit_loss_pl\", \"inc_bef_tax_pl\", \"inventories_pl\",\n",
    "            \"material_exp_pl\", \"personnel_exp_pl\"]\n",
    "engvar2 = [\"extra_profit_loss_pl_quad\", \"inc_bef_tax_pl_quad\",\n",
    "             \"profit_loss_year_pl_quad\", \"share_eq_bs_quad\"]\n",
    "engvar3=[]\n",
    "for col in data.columns:\n",
    "    if col.endswith('flag_low') or col.endswith('flag_high') or col.endswith('flag_error') or col.endswith('flag_zero'):\n",
    "        engvar3.append(col)\n",
    "\n",
    "\n",
    "hr = [\"female\", \"ceo_age\", \"flag_high_ceo_age\", \"flag_low_ceo_age\",\n",
    "        \"flag_miss_ceo_age\", \"ceo_count\", \"labor_avg_mod\",\n",
    "        \"flag_miss_labor_avg\", \"foreign_management\"]"
   ]
  },
  {
   "cell_type": "code",
   "execution_count": 7,
   "metadata": {},
   "outputs": [],
   "source": [
    "#Creat dummy columns from category variables and drop first level\n",
    "ind2_catmat = patsy.dmatrix(\"0 + C(ind2_cat)\",data, return_type=\"dataframe\")\n",
    "ind2_catmat = ind2_catmat.drop(['C(ind2_cat)[26.0]'], axis=1)\n",
    "\n",
    "m_region_locmat = patsy.dmatrix(\"0 + C(m_region_loc)\",data, return_type=\"dataframe\")\n",
    "m_region_locmat = m_region_locmat.drop(['C(m_region_loc)[Central]'], axis=1)\n",
    "\n",
    "urban_mmat = patsy.dmatrix(\"0 + C(urban_m)\",data, return_type=\"dataframe\")\n",
    "urban_mmat = urban_mmat.drop(['C(urban_m)[1.0]'], axis=1)"
   ]
  },
  {
   "cell_type": "code",
   "execution_count": 8,
   "metadata": {},
   "outputs": [],
   "source": [
    "basevars = data[[\"profit_loss_year_pl\", \"profit_loss_year2_pl\"]]\n",
    "P1 = pd.concat([basevars, ind2_catmat], axis=1)\n",
    "P2additional_vars = data[[\"fixed_assets_bs\", \"share_eq_bs\",\"curr_liab_bs\", \"curr_liab_bs_flag_high\", \\\n",
    "                          \"curr_liab_bs_flag_error\",  \"age\", \"foreign_management\"]]\n",
    "P2 = pd.concat([P1, P2additional_vars], axis=1)\n",
    "firm = pd.concat([data[[\"age\", \"age2\", \"new\"]], ind2_catmat, m_region_locmat, urban_mmat], axis=1)\n",
    "P3 = pd.concat([data[[\"profit_loss_year_pl\", \"profit_loss_year2_pl\"] + engvar], firm], axis=1)\n",
    "P4 = pd.concat([data[[\"profit_loss_year_pl\", \"profit_loss_year2_pl\"] + engvar \\\n",
    "                                 + engvar2 + engvar3 + hr + qualityvars], firm], axis=1)"
   ]
  },
  {
   "cell_type": "code",
   "execution_count": 9,
   "metadata": {},
   "outputs": [],
   "source": [
    "int1mat = patsy.dmatrix(\"0 + C(ind2_cat):age + C(ind2_cat):age2 + C(ind2_cat):total_assets_bs \\\n",
    "                + C(ind2_cat):sales_mil_log + C(ind2_cat):ceo_age + C(ind2_cat):foreign_management \\\n",
    "                + C(ind2_cat):female + C(ind2_cat):C(urban_m) + C(ind2_cat):labor_avg_mod \\\n",
    "                + foreign_management:female + foreign_management:ceo_young\", data, return_type=\"dataframe\")\n",
    "for col in int1mat.columns:\n",
    "    if col.startswith('C(ind2_cat)[26.0]') or col.endswith('C(urban_m)[1.0]'):\n",
    "        int1mat = int1mat.drop([col], axis=1)\n",
    "        \n",
    "int2mat = patsy.dmatrix(\"0 + profit_loss_year_pl:age + profit_loss_year_pl:female + C(urban_m):foreign_management\", data, return_type=\"dataframe\")\n",
    "P5 = pd.concat([P4, int1mat, int2mat], axis=1)"
   ]
  },
  {
   "cell_type": "code",
   "execution_count": 10,
   "metadata": {},
   "outputs": [],
   "source": [
    "# Define logitvars for LASSO\n",
    "#logitvars = pd.concat([P4, int1mat, int2mat], axis=1)\n",
    "logitvars = pd.concat([P5], axis=1)"
   ]
  },
  {
   "cell_type": "code",
   "execution_count": 11,
   "metadata": {},
   "outputs": [],
   "source": [
    "# for Random Forest we don't use interactions\n",
    "rfvars  = pd.concat([data[[\"profit_loss_year_pl\", \"profit_loss_year2_pl\"] + rawvars + hr + qualityvars], firm], axis=1)"
   ]
  },
  {
   "cell_type": "code",
   "execution_count": 12,
   "metadata": {},
   "outputs": [],
   "source": [
    "y = data['fast_growth']"
   ]
  },
  {
   "cell_type": "code",
   "execution_count": 13,
   "metadata": {},
   "outputs": [],
   "source": [
    "index_train, index_holdout= train_test_split(\n",
    "    data.index.values, train_size=round(0.8*len(data.index)), random_state=42)\n",
    "\n",
    "y_train = y.iloc[index_train]\n",
    "y_holdout = y.iloc[index_holdout]"
   ]
  },
  {
   "cell_type": "code",
   "execution_count": 14,
   "metadata": {},
   "outputs": [],
   "source": [
    "data = data.query(\"year==2013 & status_alive == 1\")"
   ]
  },
  {
   "cell_type": "code",
   "execution_count": 15,
   "metadata": {},
   "outputs": [
    {
     "name": "stdout",
     "output_type": "stream",
     "text": [
      "year                       0\n",
      "comp_id                    0\n",
      "begin                      0\n",
      "end                        0\n",
      "amort                      0\n",
      "                          ..\n",
      "f_d1_sales_mil_log_low     0\n",
      "f_d1_sales_mil_log_high    0\n",
      "d1_sales_mil_log_mod       0\n",
      "d1_sales_mil_log_mod_sq    0\n",
      "fast_growth                0\n",
      "Length: 121, dtype: int64\n"
     ]
    }
   ],
   "source": [
    "x = data.isna().sum()\n",
    "print(x)"
   ]
  },
  {
   "cell_type": "markdown",
   "metadata": {},
   "source": [
    "# TASK 1"
   ]
  },
  {
   "cell_type": "markdown",
   "metadata": {},
   "source": [
    "# 1. Probability Prediction"
   ]
  },
  {
   "cell_type": "markdown",
   "metadata": {},
   "source": [
    "## Logit"
   ]
  },
  {
   "cell_type": "code",
   "execution_count": 16,
   "metadata": {},
   "outputs": [],
   "source": [
    "# no regularisation needed so setting the paremeter to very high value\n",
    "C_value_logit=[1e20]"
   ]
  },
  {
   "cell_type": "code",
   "execution_count": 17,
   "metadata": {},
   "outputs": [],
   "source": [
    "logit_model_vars = [P1.iloc[index_train], P2.iloc[index_train], P3.iloc[index_train], P4.iloc[index_train], P5.iloc[index_train]]\n",
    "\n",
    "logit_models = dict()\n",
    "CV_RMSE_folds = dict()\n",
    "\n",
    "for i in range(len(logit_model_vars)):\n",
    "    LRCV_brier = LogisticRegressionCV(Cs=C_value_logit, cv=5, refit=True, scoring='neg_brier_score', \n",
    "                            solver=\"newton-cg\", tol=1e-7, random_state=42)\n",
    "    logit_models['M'+str(i+1)] = LRCV_brier.fit(logit_model_vars[i], y_train)\n",
    "    # Calculate RMSE on test for each fold\n",
    "    CV_RMSE_folds['M'+str(i+1)] = np.sqrt(-1*(logit_models['M'+str(i+1)].scores_[1])).tolist()"
   ]
  },
  {
   "cell_type": "markdown",
   "metadata": {},
   "source": [
    "## LASSO"
   ]
  },
  {
   "cell_type": "code",
   "execution_count": 18,
   "metadata": {},
   "outputs": [],
   "source": [
    "normalized_logitvars=pd.DataFrame(StandardScaler().fit_transform(logitvars.iloc[index_train]))\n",
    "normalized_logitvars.columns=logitvars.columns"
   ]
  },
  {
   "cell_type": "code",
   "execution_count": 19,
   "metadata": {},
   "outputs": [],
   "source": [
    "lambdas=list(10**np.arange(-1,-4.01, -1/3))\n",
    "n_obs = normalized_logitvars.shape[0]*4/5\n",
    "C_values = [1/(l*n_obs) for l in lambdas]\n",
    "\n",
    "logLasso = LogisticRegressionCV(Cs=C_values, penalty='l1', cv=5, refit=True, scoring='accuracy', solver='liblinear', \n",
    "                                n_jobs=-1, random_state=42)"
   ]
  },
  {
   "cell_type": "code",
   "execution_count": 20,
   "metadata": {},
   "outputs": [],
   "source": [
    "logit_models[\"LASSO\"] = logLasso.fit(normalized_logitvars, y_train)"
   ]
  },
  {
   "cell_type": "code",
   "execution_count": 21,
   "metadata": {},
   "outputs": [
    {
     "data": {
      "text/html": [
       "<div>\n",
       "<style scoped>\n",
       "    .dataframe tbody tr th:only-of-type {\n",
       "        vertical-align: middle;\n",
       "    }\n",
       "\n",
       "    .dataframe tbody tr th {\n",
       "        vertical-align: top;\n",
       "    }\n",
       "\n",
       "    .dataframe thead th {\n",
       "        text-align: right;\n",
       "    }\n",
       "</style>\n",
       "<table border=\"1\" class=\"dataframe\">\n",
       "  <thead>\n",
       "    <tr style=\"text-align: right;\">\n",
       "      <th></th>\n",
       "      <th>lambdas</th>\n",
       "      <th>C_values</th>\n",
       "      <th>mean_cv_score</th>\n",
       "    </tr>\n",
       "  </thead>\n",
       "  <tbody>\n",
       "    <tr>\n",
       "      <th>0</th>\n",
       "      <td>0.100000</td>\n",
       "      <td>0.000274</td>\n",
       "      <td>0.699549</td>\n",
       "    </tr>\n",
       "    <tr>\n",
       "      <th>1</th>\n",
       "      <td>0.046416</td>\n",
       "      <td>0.000590</td>\n",
       "      <td>0.727796</td>\n",
       "    </tr>\n",
       "    <tr>\n",
       "      <th>2</th>\n",
       "      <td>0.021544</td>\n",
       "      <td>0.001270</td>\n",
       "      <td>0.733687</td>\n",
       "    </tr>\n",
       "    <tr>\n",
       "      <th>3</th>\n",
       "      <td>0.010000</td>\n",
       "      <td>0.002737</td>\n",
       "      <td>0.741876</td>\n",
       "    </tr>\n",
       "    <tr>\n",
       "      <th>4</th>\n",
       "      <td>0.004642</td>\n",
       "      <td>0.005897</td>\n",
       "      <td>0.745927</td>\n",
       "    </tr>\n",
       "    <tr>\n",
       "      <th>5</th>\n",
       "      <td>0.002154</td>\n",
       "      <td>0.012705</td>\n",
       "      <td>0.747241</td>\n",
       "    </tr>\n",
       "    <tr>\n",
       "      <th>6</th>\n",
       "      <td>0.001000</td>\n",
       "      <td>0.027371</td>\n",
       "      <td>0.748708</td>\n",
       "    </tr>\n",
       "    <tr>\n",
       "      <th>7</th>\n",
       "      <td>0.000464</td>\n",
       "      <td>0.058970</td>\n",
       "      <td>0.749934</td>\n",
       "    </tr>\n",
       "    <tr>\n",
       "      <th>8</th>\n",
       "      <td>0.000215</td>\n",
       "      <td>0.127047</td>\n",
       "      <td>0.750306</td>\n",
       "    </tr>\n",
       "    <tr>\n",
       "      <th>9</th>\n",
       "      <td>0.000100</td>\n",
       "      <td>0.273715</td>\n",
       "      <td>0.749978</td>\n",
       "    </tr>\n",
       "  </tbody>\n",
       "</table>\n",
       "</div>"
      ],
      "text/plain": [
       "    lambdas  C_values  mean_cv_score\n",
       "0  0.100000  0.000274       0.699549\n",
       "1  0.046416  0.000590       0.727796\n",
       "2  0.021544  0.001270       0.733687\n",
       "3  0.010000  0.002737       0.741876\n",
       "4  0.004642  0.005897       0.745927\n",
       "5  0.002154  0.012705       0.747241\n",
       "6  0.001000  0.027371       0.748708\n",
       "7  0.000464  0.058970       0.749934\n",
       "8  0.000215  0.127047       0.750306\n",
       "9  0.000100  0.273715       0.749978"
      ]
     },
     "execution_count": 21,
     "metadata": {},
     "output_type": "execute_result"
    }
   ],
   "source": [
    "cv_summary_lasso = cv_summary(lambdas, C_values, logit_models[\"LASSO\"])\n",
    "cv_summary_lasso"
   ]
  },
  {
   "cell_type": "code",
   "execution_count": 22,
   "metadata": {},
   "outputs": [],
   "source": [
    "best_lambda = cv_summary_lasso.sort_values('mean_cv_score', ascending = False).iloc[0,0]"
   ]
  },
  {
   "cell_type": "code",
   "execution_count": 23,
   "metadata": {},
   "outputs": [],
   "source": [
    "logLasso_brier = LogisticRegressionCV(Cs=C_values, penalty='l1', cv=5, refit=True, scoring='neg_brier_score', \n",
    "                            solver=\"liblinear\", random_state=42)\n",
    "logLasso_brier_fitted = logLasso_brier.fit(normalized_logitvars, y_train)"
   ]
  },
  {
   "cell_type": "code",
   "execution_count": 24,
   "metadata": {},
   "outputs": [],
   "source": [
    "for i, l in enumerate(lambdas):\n",
    "    if l == best_lambda:\n",
    "        best_lambda_i = i\n",
    "        CV_RMSE_folds['LASSO'] = np.sqrt(-1*(logLasso_brier_fitted.scores_[1][:,i])).tolist()"
   ]
  },
  {
   "cell_type": "code",
   "execution_count": 25,
   "metadata": {},
   "outputs": [],
   "source": [
    "CV_AUC_folds = dict()\n",
    "for i in range(len(logit_model_vars)):\n",
    "    LRCV_auc = LogisticRegressionCV(Cs=C_value_logit, cv=5, refit=True, scoring='roc_auc', \n",
    "                            solver=\"newton-cg\", tol=1e-7, random_state=42)\n",
    "    LRCV_auc_fit = LRCV_auc.fit(logit_model_vars[i], y_train)\n",
    "    #AUC on test 4 each fold\n",
    "    CV_AUC_folds['M'+str(i+1)] = LRCV_auc_fit.scores_[1][:,0].tolist()"
   ]
  },
  {
   "cell_type": "code",
   "execution_count": 26,
   "metadata": {},
   "outputs": [],
   "source": [
    "#refit with AUC so we have AUC values for the same cv split\n",
    "logLasso_auc = LogisticRegressionCV(Cs=C_values, penalty='l1', cv=5, refit=True, scoring='roc_auc', \n",
    "                            solver=\"liblinear\", random_state=42)\n",
    "logLasso_auc_fitted = logLasso_auc.fit(normalized_logitvars, y_train)\n",
    "CV_AUC_folds['LASSO'] = logLasso_auc_fitted.scores_[1][:,best_lambda_i].tolist()"
   ]
  },
  {
   "cell_type": "code",
   "execution_count": 27,
   "metadata": {},
   "outputs": [],
   "source": [
    "# For each model: average RMSE and average AUC for models ----------------------------------\n",
    "CV_RMSE = dict()\n",
    "CV_AUC = dict()\n",
    "nvars = dict()\n",
    "\n",
    "for key in logit_models:\n",
    "    CV_RMSE[key] = np.mean(CV_RMSE_folds[key])\n",
    "    CV_AUC[key] = np.mean(CV_AUC_folds[key])\n",
    "    \n",
    "for key in logit_models:\n",
    "    if key != 'LASSO':\n",
    "        nvars[key] = logit_models[key].n_features_in_\n",
    "    else:\n",
    "        nvars[key] = sum(x != 0 for x in logit_models[key].coef_[0].tolist())"
   ]
  },
  {
   "cell_type": "markdown",
   "metadata": {},
   "source": [
    "## Random Forest"
   ]
  },
  {
   "cell_type": "code",
   "execution_count": 28,
   "metadata": {},
   "outputs": [],
   "source": [
    "rfvars_train = rfvars.iloc[index_train]\n",
    "rfvars_holdout = rfvars.iloc[index_holdout]"
   ]
  },
  {
   "cell_type": "markdown",
   "metadata": {},
   "source": [
    "The grid is chosen as below. The best performing parameters are used for later"
   ]
  },
  {
   "cell_type": "code",
   "execution_count": 29,
   "metadata": {},
   "outputs": [],
   "source": [
    "grid = {'max_features': [4, 5, 7],\n",
    "        'criterion':['gini'],\n",
    "        'min_samples_split': [10, 15]}"
   ]
  },
  {
   "cell_type": "code",
   "execution_count": 30,
   "metadata": {},
   "outputs": [],
   "source": [
    "prob_forest = RandomForestClassifier(random_state=42, n_estimators=50, oob_score=True)\n",
    "prob_forest_grid = GridSearchCV(prob_forest, grid, cv=5, refit='accuracy',\n",
    "                                scoring = ['accuracy', 'roc_auc', 'neg_brier_score'], n_jobs=-1)"
   ]
  },
  {
   "cell_type": "code",
   "execution_count": 31,
   "metadata": {},
   "outputs": [],
   "source": [
    "prob_forest_fit = prob_forest_grid.fit(rfvars_train, y_train)"
   ]
  },
  {
   "cell_type": "code",
   "execution_count": 32,
   "metadata": {},
   "outputs": [],
   "source": [
    "#create CV summary table\n",
    "cv_accuracy = np.zeros([6])\n",
    "for i in range(5):\n",
    "    cv_accuracy = cv_accuracy + prob_forest_fit.cv_results_['split' + str(i) + '_test_accuracy']\n",
    "cv_accuracy = cv_accuracy/5\n",
    "\n",
    "cv_auc = np.zeros([6])\n",
    "for i in range(5):\n",
    "    cv_auc = cv_auc + prob_forest_fit.cv_results_['split' + str(i) + '_test_roc_auc']\n",
    "cv_auc = cv_auc/5\n",
    "\n",
    "cv_rmse = np.zeros([6])\n",
    "for i in range(5):\n",
    "    cv_rmse = cv_rmse +np.sqrt(-1*(prob_forest_fit.cv_results_['split' + str(i) + '_test_neg_brier_score'])).tolist()\n",
    "cv_rmse = cv_rmse/5\n",
    "\n",
    "prob_forest_cv_results = pd.DataFrame({\n",
    "    'max_features': prob_forest_fit.cv_results_['param_max_features'],\n",
    "    'min_samples_split': prob_forest_fit.cv_results_['param_min_samples_split'],\n",
    "    'cv_accuracy': cv_accuracy,\n",
    "    'cv_auc': cv_auc,\n",
    "    'cv_rmse': cv_rmse\n",
    "})"
   ]
  },
  {
   "cell_type": "code",
   "execution_count": 33,
   "metadata": {},
   "outputs": [
    {
     "data": {
      "text/html": [
       "<div>\n",
       "<style scoped>\n",
       "    .dataframe tbody tr th:only-of-type {\n",
       "        vertical-align: middle;\n",
       "    }\n",
       "\n",
       "    .dataframe tbody tr th {\n",
       "        vertical-align: top;\n",
       "    }\n",
       "\n",
       "    .dataframe thead th {\n",
       "        text-align: right;\n",
       "    }\n",
       "</style>\n",
       "<table border=\"1\" class=\"dataframe\">\n",
       "  <thead>\n",
       "    <tr style=\"text-align: right;\">\n",
       "      <th></th>\n",
       "      <th>max_features</th>\n",
       "      <th>min_samples_split</th>\n",
       "      <th>cv_accuracy</th>\n",
       "      <th>cv_auc</th>\n",
       "      <th>cv_rmse</th>\n",
       "    </tr>\n",
       "  </thead>\n",
       "  <tbody>\n",
       "    <tr>\n",
       "      <th>0</th>\n",
       "      <td>4</td>\n",
       "      <td>10</td>\n",
       "      <td>0.766</td>\n",
       "      <td>0.785</td>\n",
       "      <td>0.404</td>\n",
       "    </tr>\n",
       "    <tr>\n",
       "      <th>1</th>\n",
       "      <td>4</td>\n",
       "      <td>15</td>\n",
       "      <td>0.768</td>\n",
       "      <td>0.787</td>\n",
       "      <td>0.404</td>\n",
       "    </tr>\n",
       "    <tr>\n",
       "      <th>2</th>\n",
       "      <td>5</td>\n",
       "      <td>10</td>\n",
       "      <td>0.767</td>\n",
       "      <td>0.786</td>\n",
       "      <td>0.403</td>\n",
       "    </tr>\n",
       "    <tr>\n",
       "      <th>3</th>\n",
       "      <td>5</td>\n",
       "      <td>15</td>\n",
       "      <td>0.767</td>\n",
       "      <td>0.788</td>\n",
       "      <td>0.403</td>\n",
       "    </tr>\n",
       "    <tr>\n",
       "      <th>4</th>\n",
       "      <td>7</td>\n",
       "      <td>10</td>\n",
       "      <td>0.768</td>\n",
       "      <td>0.788</td>\n",
       "      <td>0.403</td>\n",
       "    </tr>\n",
       "    <tr>\n",
       "      <th>5</th>\n",
       "      <td>7</td>\n",
       "      <td>15</td>\n",
       "      <td>0.767</td>\n",
       "      <td>0.789</td>\n",
       "      <td>0.402</td>\n",
       "    </tr>\n",
       "  </tbody>\n",
       "</table>\n",
       "</div>"
      ],
      "text/plain": [
       "  max_features min_samples_split  cv_accuracy  cv_auc  cv_rmse\n",
       "0            4                10        0.766   0.785    0.404\n",
       "1            4                15        0.768   0.787    0.404\n",
       "2            5                10        0.767   0.786    0.403\n",
       "3            5                15        0.767   0.788    0.403\n",
       "4            7                10        0.768   0.788    0.403\n",
       "5            7                15        0.767   0.789    0.402"
      ]
     },
     "execution_count": 33,
     "metadata": {},
     "output_type": "execute_result"
    }
   ],
   "source": [
    "prob_forest_cv_results.round(3)"
   ]
  },
  {
   "cell_type": "code",
   "execution_count": 34,
   "metadata": {},
   "outputs": [
    {
     "data": {
      "text/plain": [
       "{'criterion': 'gini', 'max_features': 7, 'min_samples_split': 10}"
      ]
     },
     "execution_count": 34,
     "metadata": {},
     "output_type": "execute_result"
    }
   ],
   "source": [
    "#obtain optimal parameter values\n",
    "best_mtry = prob_forest_fit.best_params_['max_features']\n",
    "best_min_node_size = prob_forest_fit.best_params_['min_samples_split']\n",
    "prob_forest_fit.best_params_"
   ]
  },
  {
   "cell_type": "code",
   "execution_count": 35,
   "metadata": {},
   "outputs": [],
   "source": [
    "prob_forest_best_results = prob_forest_cv_results[(prob_forest_cv_results.max_features == best_mtry) & \n",
    "                      (prob_forest_cv_results.min_samples_split == best_min_node_size)]\n",
    "prob_forest_best_results_index = prob_forest_best_results.index.values[0]\n",
    "\n",
    "CV_RMSE['randomforestprob'] = prob_forest_best_results.cv_rmse.values[0]\n",
    "CV_AUC['randomforestprob'] = prob_forest_best_results.cv_auc.values[0]"
   ]
  },
  {
   "cell_type": "code",
   "execution_count": 36,
   "metadata": {},
   "outputs": [],
   "source": [
    "CV_RMSE_folds_rf_p = list()\n",
    "for i in range(5):\n",
    "    rmse = np.sqrt(-1*(prob_forest_fit.cv_results_['split' + str(i) + '_test_neg_brier_score'])).tolist()[prob_forest_best_results_index]\n",
    "    CV_RMSE_folds_rf_p.append(rmse)\n",
    "CV_RMSE_folds['rf_p'] = CV_RMSE_folds_rf_p\n",
    "\n",
    "CV_AUC_folds_rf_p = list()\n",
    "for i in range(5):\n",
    "    rmse = prob_forest_fit.cv_results_['split' + str(i) + '_test_roc_auc'][prob_forest_best_results_index]\n",
    "    CV_AUC_folds_rf_p.append(rmse)\n",
    "CV_AUC_folds['randomforestprob'] = CV_AUC_folds_rf_p"
   ]
  },
  {
   "cell_type": "markdown",
   "metadata": {},
   "source": [
    "# CART"
   ]
  },
  {
   "cell_type": "code",
   "execution_count": 1,
   "metadata": {},
   "outputs": [
    {
     "ename": "NameError",
     "evalue": "name 'data' is not defined",
     "output_type": "error",
     "traceback": [
      "\u001b[0;31m---------------------------------------------------------------------------\u001b[0m",
      "\u001b[0;31mNameError\u001b[0m                                 Traceback (most recent call last)",
      "\u001b[1;32m/Users/jacopobinati/Desktop/Prediction ML/assignment 3/0Analysis.ipynb Cella 44\u001b[0m line \u001b[0;36m6\n\u001b[1;32m      <a href='vscode-notebook-cell:/Users/jacopobinati/Desktop/Prediction%20ML/assignment%203/0Analysis.ipynb#Y226sZmlsZQ%3D%3D?line=2'>3</a>\u001b[0m \u001b[39mfrom\u001b[39;00m \u001b[39msklearn\u001b[39;00m\u001b[39m.\u001b[39;00m\u001b[39mmetrics\u001b[39;00m \u001b[39mimport\u001b[39;00m mean_squared_error, roc_auc_score\n\u001b[1;32m      <a href='vscode-notebook-cell:/Users/jacopobinati/Desktop/Prediction%20ML/assignment%203/0Analysis.ipynb#Y226sZmlsZQ%3D%3D?line=4'>5</a>\u001b[0m \u001b[39m# Create a new dataframe with the required columns for CART\u001b[39;00m\n\u001b[0;32m----> <a href='vscode-notebook-cell:/Users/jacopobinati/Desktop/Prediction%20ML/assignment%203/0Analysis.ipynb#Y226sZmlsZQ%3D%3D?line=5'>6</a>\u001b[0m cart_data \u001b[39m=\u001b[39m data[[\u001b[39m'\u001b[39m\u001b[39myear\u001b[39m\u001b[39m'\u001b[39m, \u001b[39m'\u001b[39m\u001b[39mfast_growth\u001b[39m\u001b[39m'\u001b[39m]]\n\u001b[1;32m      <a href='vscode-notebook-cell:/Users/jacopobinati/Desktop/Prediction%20ML/assignment%203/0Analysis.ipynb#Y226sZmlsZQ%3D%3D?line=7'>8</a>\u001b[0m \u001b[39m# Split the data into features (X) and target variable (y)\u001b[39;00m\n\u001b[1;32m      <a href='vscode-notebook-cell:/Users/jacopobinati/Desktop/Prediction%20ML/assignment%203/0Analysis.ipynb#Y226sZmlsZQ%3D%3D?line=8'>9</a>\u001b[0m X \u001b[39m=\u001b[39m cart_data\u001b[39m.\u001b[39mdrop(\u001b[39m'\u001b[39m\u001b[39mfast_growth\u001b[39m\u001b[39m'\u001b[39m, axis\u001b[39m=\u001b[39m\u001b[39m1\u001b[39m)\n",
      "\u001b[0;31mNameError\u001b[0m: name 'data' is not defined"
     ]
    }
   ],
   "source": [
    "from sklearn.tree import DecisionTreeClassifier\n",
    "from sklearn.model_selection import cross_val_score\n",
    "from sklearn.metrics import mean_squared_error, roc_auc_score\n",
    "\n",
    "# Create a new dataframe with the required columns for CART\n",
    "cart_data = data[['year', 'fast_growth']]\n",
    "\n",
    "# Split the data into features (X) and target variable (y)\n",
    "X = cart_data.drop('fast_growth', axis=1)\n",
    "y = cart_data['fast_growth']\n",
    "\n",
    "# Create and fit the CART model\n",
    "model = DecisionTreeClassifier()\n",
    "\n",
    "# Perform cross-validation and calculate RMSE and AUC\n",
    "rmse_scores = np.sqrt(-cross_val_score(model, X, y, cv=5, scoring='neg_mean_squared_error'))\n",
    "auc_scores = cross_val_score(model, X, y, cv=5, scoring='roc_auc')\n",
    "\n",
    "# Display the RMSE and AUC\n",
    "print('RMSE (Cross-Validated):', np.mean(rmse_scores))\n",
    "print('AUC (Cross-Validated):', np.mean(auc_scores))\n",
    "\n"
   ]
  },
  {
   "cell_type": "markdown",
   "metadata": {},
   "source": [
    "## Results"
   ]
  },
  {
   "cell_type": "code",
   "execution_count": 37,
   "metadata": {},
   "outputs": [],
   "source": [
    "nvars['randomforestprob'] = len(rfvars.columns)"
   ]
  },
  {
   "cell_type": "code",
   "execution_count": 38,
   "metadata": {},
   "outputs": [],
   "source": [
    "summary_results1 = pd.DataFrame({\"Model\": list(nvars.keys()),\n",
    "                              \"Number of predictors\": list(nvars.values()),\n",
    "                              \"CV RMSE\": list(CV_RMSE.values()),\n",
    "                              \"CV AUC\": list(CV_AUC.values())\n",
    "                               })"
   ]
  },
  {
   "cell_type": "code",
   "execution_count": 39,
   "metadata": {},
   "outputs": [
    {
     "data": {
      "text/html": [
       "<div>\n",
       "<style scoped>\n",
       "    .dataframe tbody tr th:only-of-type {\n",
       "        vertical-align: middle;\n",
       "    }\n",
       "\n",
       "    .dataframe tbody tr th {\n",
       "        vertical-align: top;\n",
       "    }\n",
       "\n",
       "    .dataframe thead th {\n",
       "        text-align: right;\n",
       "    }\n",
       "</style>\n",
       "<table border=\"1\" class=\"dataframe\">\n",
       "  <thead>\n",
       "    <tr style=\"text-align: right;\">\n",
       "      <th></th>\n",
       "      <th>Model</th>\n",
       "      <th>Number of predictors</th>\n",
       "      <th>CV RMSE</th>\n",
       "      <th>CV AUC</th>\n",
       "    </tr>\n",
       "  </thead>\n",
       "  <tbody>\n",
       "    <tr>\n",
       "      <th>0</th>\n",
       "      <td>M1</td>\n",
       "      <td>9</td>\n",
       "      <td>0.456</td>\n",
       "      <td>0.621</td>\n",
       "    </tr>\n",
       "    <tr>\n",
       "      <th>1</th>\n",
       "      <td>M2</td>\n",
       "      <td>16</td>\n",
       "      <td>0.444</td>\n",
       "      <td>0.649</td>\n",
       "    </tr>\n",
       "    <tr>\n",
       "      <th>2</th>\n",
       "      <td>M3</td>\n",
       "      <td>30</td>\n",
       "      <td>0.423</td>\n",
       "      <td>0.734</td>\n",
       "    </tr>\n",
       "    <tr>\n",
       "      <th>3</th>\n",
       "      <td>M4</td>\n",
       "      <td>74</td>\n",
       "      <td>0.420</td>\n",
       "      <td>0.743</td>\n",
       "    </tr>\n",
       "    <tr>\n",
       "      <th>4</th>\n",
       "      <td>M5</td>\n",
       "      <td>151</td>\n",
       "      <td>0.423</td>\n",
       "      <td>0.736</td>\n",
       "    </tr>\n",
       "    <tr>\n",
       "      <th>5</th>\n",
       "      <td>LASSO</td>\n",
       "      <td>129</td>\n",
       "      <td>0.415</td>\n",
       "      <td>0.758</td>\n",
       "    </tr>\n",
       "    <tr>\n",
       "      <th>6</th>\n",
       "      <td>randomforestprob</td>\n",
       "      <td>44</td>\n",
       "      <td>0.403</td>\n",
       "      <td>0.788</td>\n",
       "    </tr>\n",
       "  </tbody>\n",
       "</table>\n",
       "</div>"
      ],
      "text/plain": [
       "              Model  Number of predictors  CV RMSE  CV AUC\n",
       "0                M1                     9    0.456   0.621\n",
       "1                M2                    16    0.444   0.649\n",
       "2                M3                    30    0.423   0.734\n",
       "3                M4                    74    0.420   0.743\n",
       "4                M5                   151    0.423   0.736\n",
       "5             LASSO                   129    0.415   0.758\n",
       "6  randomforestprob                    44    0.403   0.788"
      ]
     },
     "execution_count": 39,
     "metadata": {},
     "output_type": "execute_result"
    }
   ],
   "source": [
    "summary_results1.round(3)"
   ]
  },
  {
   "cell_type": "markdown",
   "metadata": {},
   "source": [
    "# Classification\n",
    "### I define a loss function such that for a False Positive we will loose 100 thousand dollars while for a False Negative we will loose 50 thousand dollar . "
   ]
  },
  {
   "cell_type": "code",
   "execution_count": 183,
   "metadata": {},
   "outputs": [],
   "source": [
    "# Loss function\n",
    "# relative cost of a false negative classification (as compared with a false positive classification)\n",
    "FP = 100\n",
    "FN = 60\n",
    "cost = FN/FP\n",
    "prevalence = y_train.sum()/len(y_train)"
   ]
  },
  {
   "cell_type": "code",
   "execution_count": 184,
   "metadata": {},
   "outputs": [],
   "source": [
    "k = 5"
   ]
  },
  {
   "cell_type": "code",
   "execution_count": 185,
   "metadata": {},
   "outputs": [],
   "source": [
    "\n",
    "best_thresholds_cv = dict()\n",
    "expected_loss_cv = dict()\n",
    "fold5_threshold = dict()\n",
    "fold5_expected_loss = dict()\n",
    "fold5_all_coords = dict()\n",
    "\n",
    "models = logit_models.copy()\n",
    "models['randomforestprob'] = RandomForestClassifier(random_state=42, n_estimators=500, oob_score=True,\n",
    "                                                criterion='gini', max_features=best_mtry,\n",
    "                                                min_samples_split=best_min_node_size)\n",
    "\n",
    "k = KFold(n_splits=5)\n",
    "\n",
    "for i, model_name in enumerate(models):\n",
    "    best_thresholds = []\n",
    "    expected_loss = []\n",
    "    if model_name == 'LASSO':\n",
    "        X = normalized_logitvars\n",
    "    elif model_name != 'randomforestprob':\n",
    "        X = logit_model_vars[i]\n",
    "    else:\n",
    "        X = rfvars_train\n",
    "    c_index = best_lambda_i if model_name == 'LASSO' else 0\n",
    "    fold = 0\n",
    "    for train_index, test_index in k.split(X):\n",
    "        y_fold = y_train.iloc[test_index]\n",
    "        if model_name != 'randomforestprob':\n",
    "            X_fold = X.iloc[test_index, :]\n",
    "            pred_fold = generate_fold_prediction(models[model_name], X_fold, fold, c_index)\n",
    "        else:\n",
    "            X_fold = rfvars_train.iloc[test_index,:]\n",
    "            X_fold_train = rfvars_train.iloc[train_index,:]\n",
    "            y_fold_train = y_train.iloc[train_index]\n",
    "\n",
    "            prob_forest_best = models['randomforestprob']\n",
    "            prob_forest_best_fold = prob_forest_best.fit(X_fold_train, y_fold_train)\n",
    "            pred_fold = prob_forest_best_fold.predict_proba(X_fold)[:,1]\n",
    "\n",
    "\n",
    "        false_pos_rate, true_pos_rate, thresholds = roc_curve(y_fold, pred_fold)\n",
    "        optimal_threshold = sorted(list(zip(\n",
    "            np.abs(true_pos_rate + (1 - prevalence) / (cost * prevalence) * (1 - false_pos_rate)),\n",
    "            thresholds)), key=lambda i: i[0], reverse=True)[0][1]\n",
    "        if optimal_threshold > 1:\n",
    "            optimal_threshold = 1\n",
    "        best_thresholds.append(optimal_threshold)\n",
    "        threshold_prediction = np.where(pred_fold < optimal_threshold, 0, 1)\n",
    "        tn, fp, fn, tp = confusion_matrix(y_fold, threshold_prediction, labels=[0, 1]).ravel()\n",
    "        curr_exp_loss = (fp * FP + fn * FN) / len(y_fold)\n",
    "        expected_loss.append(curr_exp_loss)\n",
    "        fold += 1\n",
    "\n",
    "    best_thresholds_cv[model_name] = np.mean(best_thresholds)\n",
    "    expected_loss_cv[model_name] = np.mean(expected_loss)\n",
    "\n",
    "    # For fold #5\n",
    "    fold5_threshold[model_name] = optimal_threshold\n",
    "    fold5_expected_loss[model_name] = curr_exp_loss\n",
    "\n",
    "    all_coords = pd.DataFrame({\n",
    "        'false_pos': false_pos_rate * sum(y_fold == 0),\n",
    "        'true_pos': true_pos_rate * sum(y_fold == 1),\n",
    "        'false_neg': sum(y_fold == 1) - true_pos_rate * sum(y_fold == 1),\n",
    "        'true_neg': sum(y_fold == 0) - false_pos_rate * sum(y_fold == 0),\n",
    "        'pos': sum(y_fold == 1),\n",
    "        'neg': sum(y_fold == 0),\n",
    "        'n': len(y_fold),\n",
    "        'thresholds': thresholds\n",
    "    })\n",
    "\n",
    "    fold5_all_coords[model_name] = all_coords\n"
   ]
  },
  {
   "cell_type": "code",
   "execution_count": 186,
   "metadata": {},
   "outputs": [],
   "source": [
    "logit_summary2 = pd.DataFrame(best_thresholds_cv.items(),columns=['Model', 'Avg of optimal thresholds'])\n",
    "logit_summary2['Threshold for Fold5'] = fold5_threshold.values()\n",
    "logit_summary2['Avg expected loss'] = expected_loss_cv.values()\n",
    "logit_summary2['Expected loss for Fold5'] = fold5_expected_loss.values()"
   ]
  },
  {
   "cell_type": "code",
   "execution_count": 187,
   "metadata": {},
   "outputs": [
    {
     "data": {
      "text/html": [
       "<div>\n",
       "<style scoped>\n",
       "    .dataframe tbody tr th:only-of-type {\n",
       "        vertical-align: middle;\n",
       "    }\n",
       "\n",
       "    .dataframe tbody tr th {\n",
       "        vertical-align: top;\n",
       "    }\n",
       "\n",
       "    .dataframe thead th {\n",
       "        text-align: right;\n",
       "    }\n",
       "</style>\n",
       "<table border=\"1\" class=\"dataframe\">\n",
       "  <thead>\n",
       "    <tr style=\"text-align: right;\">\n",
       "      <th></th>\n",
       "      <th>Model</th>\n",
       "      <th>Avg of optimal thresholds</th>\n",
       "      <th>Threshold for Fold5</th>\n",
       "      <th>Avg expected loss</th>\n",
       "      <th>Expected loss for Fold5</th>\n",
       "    </tr>\n",
       "  </thead>\n",
       "  <tbody>\n",
       "    <tr>\n",
       "      <th>0</th>\n",
       "      <td>M1</td>\n",
       "      <td>0.767</td>\n",
       "      <td>0.712</td>\n",
       "      <td>17.998</td>\n",
       "      <td>18.077</td>\n",
       "    </tr>\n",
       "    <tr>\n",
       "      <th>1</th>\n",
       "      <td>M2</td>\n",
       "      <td>0.596</td>\n",
       "      <td>0.607</td>\n",
       "      <td>17.591</td>\n",
       "      <td>17.631</td>\n",
       "    </tr>\n",
       "    <tr>\n",
       "      <th>2</th>\n",
       "      <td>M3</td>\n",
       "      <td>0.622</td>\n",
       "      <td>0.672</td>\n",
       "      <td>17.159</td>\n",
       "      <td>17.433</td>\n",
       "    </tr>\n",
       "    <tr>\n",
       "      <th>3</th>\n",
       "      <td>M4</td>\n",
       "      <td>0.608</td>\n",
       "      <td>0.618</td>\n",
       "      <td>16.843</td>\n",
       "      <td>17.250</td>\n",
       "    </tr>\n",
       "    <tr>\n",
       "      <th>4</th>\n",
       "      <td>M5</td>\n",
       "      <td>0.563</td>\n",
       "      <td>0.561</td>\n",
       "      <td>17.080</td>\n",
       "      <td>17.431</td>\n",
       "    </tr>\n",
       "    <tr>\n",
       "      <th>5</th>\n",
       "      <td>LASSO</td>\n",
       "      <td>0.605</td>\n",
       "      <td>0.647</td>\n",
       "      <td>16.518</td>\n",
       "      <td>16.833</td>\n",
       "    </tr>\n",
       "    <tr>\n",
       "      <th>6</th>\n",
       "      <td>randomforestprob</td>\n",
       "      <td>0.583</td>\n",
       "      <td>0.560</td>\n",
       "      <td>15.649</td>\n",
       "      <td>16.043</td>\n",
       "    </tr>\n",
       "  </tbody>\n",
       "</table>\n",
       "</div>"
      ],
      "text/plain": [
       "              Model  Avg of optimal thresholds  Threshold for Fold5   \n",
       "0                M1                      0.767                0.712  \\\n",
       "1                M2                      0.596                0.607   \n",
       "2                M3                      0.622                0.672   \n",
       "3                M4                      0.608                0.618   \n",
       "4                M5                      0.563                0.561   \n",
       "5             LASSO                      0.605                0.647   \n",
       "6  randomforestprob                      0.583                0.560   \n",
       "\n",
       "   Avg expected loss  Expected loss for Fold5  \n",
       "0             17.998                   18.077  \n",
       "1             17.591                   17.631  \n",
       "2             17.159                   17.433  \n",
       "3             16.843                   17.250  \n",
       "4             17.080                   17.431  \n",
       "5             16.518                   16.833  \n",
       "6             15.649                   16.043  "
      ]
     },
     "execution_count": 187,
     "metadata": {},
     "output_type": "execute_result"
    }
   ],
   "source": [
    "logit_summary2_rounded = logit_summary2.round(3)\n",
    "logit_summary2_rounded"
   ]
  },
  {
   "cell_type": "markdown",
   "metadata": {},
   "source": [
    "# 3. Confusion Table and Discussion"
   ]
  },
  {
   "cell_type": "code",
   "execution_count": 188,
   "metadata": {},
   "outputs": [],
   "source": [
    "# Take the best model - RF - and predict on holdout data\n",
    "\n",
    "best_model = models['randomforestprob']\n",
    "best_model_X_holdout = rfvars_holdout\n",
    "\n",
    "\n",
    "logit_fit_probabilities = best_model.fit(rfvars_train, y_train)\n",
    "logit_predicted_probabilities_holdout = logit_fit_probabilities.predict_proba(best_model_X_holdout)[:,1]\n"
   ]
  },
  {
   "cell_type": "code",
   "execution_count": 189,
   "metadata": {},
   "outputs": [],
   "source": [
    "# Pick best model based on average expected loss ----------------------------------\n",
    "#RF\n",
    "best_logit_optimal_treshold = best_thresholds_cv[\"randomforestprob\"]\n",
    "\n",
    "# Confusion table on holdout\n",
    "holdout_treshold = np.where(logit_predicted_probabilities_holdout < best_logit_optimal_treshold, 0, 1)\n",
    "\n",
    "cm_object1 = confusion_matrix(y_holdout, holdout_treshold, labels=[0,1])\n",
    "cm1 = pd.DataFrame(cm_object1, \n",
    "    index=['Actual slow growth', 'Actual fast growth'], \n",
    "    columns=['Predicted slow growth', 'Predicted fast growth'])\n",
    "cm1\n",
    "\n",
    "cm1_percentage = cm1 / cm1.values.sum() * 100\n",
    "cm1_percentage_rounded = cm1_percentage.round(1)"
   ]
  },
  {
   "cell_type": "code",
   "execution_count": 190,
   "metadata": {},
   "outputs": [
    {
     "data": {
      "text/html": [
       "<div>\n",
       "<style scoped>\n",
       "    .dataframe tbody tr th:only-of-type {\n",
       "        vertical-align: middle;\n",
       "    }\n",
       "\n",
       "    .dataframe tbody tr th {\n",
       "        vertical-align: top;\n",
       "    }\n",
       "\n",
       "    .dataframe thead th {\n",
       "        text-align: right;\n",
       "    }\n",
       "</style>\n",
       "<table border=\"1\" class=\"dataframe\">\n",
       "  <thead>\n",
       "    <tr style=\"text-align: right;\">\n",
       "      <th></th>\n",
       "      <th>Actual slow growth</th>\n",
       "      <th>Actual fast growth</th>\n",
       "    </tr>\n",
       "  </thead>\n",
       "  <tbody>\n",
       "    <tr>\n",
       "      <th>Predicted slow growth</th>\n",
       "      <td>66.3</td>\n",
       "      <td>19.9</td>\n",
       "    </tr>\n",
       "    <tr>\n",
       "      <th>Predicted fast growth</th>\n",
       "      <td>3.8</td>\n",
       "      <td>10.0</td>\n",
       "    </tr>\n",
       "  </tbody>\n",
       "</table>\n",
       "</div>"
      ],
      "text/plain": [
       "                       Actual slow growth  Actual fast growth\n",
       "Predicted slow growth                66.3                19.9\n",
       "Predicted fast growth                 3.8                10.0"
      ]
     },
     "execution_count": 190,
     "metadata": {},
     "output_type": "execute_result"
    }
   ],
   "source": [
    "cm1_percentage_rounded.T"
   ]
  },
  {
   "cell_type": "markdown",
   "metadata": {},
   "source": [
    "Loss plot with the optimal threshold for the RF model in fold 5"
   ]
  },
  {
   "cell_type": "code",
   "execution_count": 191,
   "metadata": {},
   "outputs": [
    {
     "data": {
      "image/png": "[encoded data removed]",
      "text/plain": [
       "<Figure size 640x480 with 1 Axes>"
      ]
     },
     "metadata": {
      "image/png": {
       "height": 480,
       "width": 640
      }
     },
     "output_type": "display_data"
    },
    {
     "data": {
      "text/plain": [
       "<Figure Size: (640 x 480)>"
      ]
     },
     "execution_count": 191,
     "metadata": {},
     "output_type": "execute_result"
    }
   ],
   "source": [
    "fig = create_loss_plot(fold5_all_coords['randomforestprob'], fold5_threshold['randomforestprob'], fold5_expected_loss['randomforestprob'])\n",
    "fig.save('/Users/jacopobinati/Desktop/Prediction ML/assignment 3/visualisations/TASK1/loss_plot.png')\n",
    "fig"
   ]
  },
  {
   "cell_type": "markdown",
   "metadata": {},
   "source": [
    "ROC plot with the optimal threshold for the RF model in fold 5"
   ]
  },
  {
   "cell_type": "code",
   "execution_count": 192,
   "metadata": {},
   "outputs": [
    {
     "data": {
      "image/png": "[encoded data removed]",
      "text/plain": [
       "<Figure size 640x480 with 1 Axes>"
      ]
     },
     "metadata": {
      "image/png": {
       "height": 480,
       "width": 640
      }
     },
     "output_type": "display_data"
    },
    {
     "data": {
      "text/plain": [
       "<Figure Size: (640 x 480)>"
      ]
     },
     "execution_count": 192,
     "metadata": {},
     "output_type": "execute_result"
    }
   ],
   "source": [
    "fig = create_roc_plot_with_optimal(fold5_all_coords['randomforestprob'], fold5_threshold['randomforestprob'])\n",
    "fig.save('/Users/jacopobinati/Desktop/Prediction ML/assignment 3/visualisations/TASK1/ROC_opt.png')\n",
    "fig"
   ]
  },
  {
   "cell_type": "markdown",
   "metadata": {},
   "source": [
    "# TASK 2"
   ]
  },
  {
   "cell_type": "markdown",
   "metadata": {},
   "source": [
    "# Categorize manufacturing and service firms"
   ]
  },
  {
   "cell_type": "code",
   "execution_count": 193,
   "metadata": {},
   "outputs": [
    {
     "data": {
      "text/plain": [
       "ind2\n",
       "56.0    8102\n",
       "55.0    1752\n",
       "28.0    1523\n",
       "33.0    1518\n",
       "26.0     828\n",
       "27.0     497\n",
       "29.0     206\n",
       "30.0     121\n",
       "Name: count, dtype: int64"
      ]
     },
     "execution_count": 193,
     "metadata": {},
     "output_type": "execute_result"
    }
   ],
   "source": [
    "data['ind2'].value_counts()"
   ]
  },
  {
   "cell_type": "code",
   "execution_count": 194,
   "metadata": {},
   "outputs": [],
   "source": [
    "# Create a dummy variable for manufacturing sector\n",
    "manufacturing_list = [27, 29, 28, 26, 30]\n",
    "data['manufacturing_dummy'] = data['ind2'].isin(manufacturing_list).astype(int)"
   ]
  },
  {
   "cell_type": "markdown",
   "metadata": {},
   "source": [
    "There are a lot more service firms than manufacturing ones:"
   ]
  },
  {
   "cell_type": "code",
   "execution_count": 195,
   "metadata": {},
   "outputs": [
    {
     "data": {
      "text/plain": [
       "manufacturing_dummy\n",
       "0    11372\n",
       "1     3175\n",
       "Name: count, dtype: int64"
      ]
     },
     "execution_count": 195,
     "metadata": {},
     "output_type": "execute_result"
    }
   ],
   "source": [
    "data['manufacturing_dummy'].value_counts()"
   ]
  },
  {
   "cell_type": "code",
   "execution_count": 196,
   "metadata": {},
   "outputs": [],
   "source": [
    "# Create a dataframe for the manufacturing sector\n",
    "data_manu = data[data['manufacturing_dummy'] == 1]\n",
    "\n",
    "# Create a dataframe for the service sector\n",
    "data_serv = data[data['manufacturing_dummy'] == 0]"
   ]
  },
  {
   "cell_type": "markdown",
   "metadata": {},
   "source": [
    "There are around 8% of manufacturing firms that grow fast."
   ]
  },
  {
   "cell_type": "code",
   "execution_count": 197,
   "metadata": {},
   "outputs": [
    {
     "data": {
      "text/plain": [
       "fast_growth\n",
       "False    2221\n",
       "True      954\n",
       "Name: count, dtype: int64"
      ]
     },
     "execution_count": 197,
     "metadata": {},
     "output_type": "execute_result"
    }
   ],
   "source": [
    "data_manu['fast_growth'].value_counts()"
   ]
  },
  {
   "cell_type": "markdown",
   "metadata": {},
   "source": [
    "Around 11% of service firms have fast growth rate."
   ]
  },
  {
   "cell_type": "code",
   "execution_count": 198,
   "metadata": {},
   "outputs": [
    {
     "data": {
      "text/plain": [
       "fast_growth\n",
       "False    7959\n",
       "True     3413\n",
       "Name: count, dtype: int64"
      ]
     },
     "execution_count": 198,
     "metadata": {},
     "output_type": "execute_result"
    }
   ],
   "source": [
    "data_serv['fast_growth'].value_counts()"
   ]
  },
  {
   "cell_type": "markdown",
   "metadata": {},
   "source": [
    "## Manufacturing"
   ]
  },
  {
   "cell_type": "code",
   "execution_count": 199,
   "metadata": {},
   "outputs": [],
   "source": [
    "# Define rfvars for RF\n",
    "rfvars_manu  = pd.concat([data_manu[[\"profit_loss_year_pl\", \"profit_loss_year2_pl\"] + rawvars + hr + qualityvars], firm], axis=1)"
   ]
  },
  {
   "cell_type": "code",
   "execution_count": 200,
   "metadata": {},
   "outputs": [],
   "source": [
    "y_manu = data_manu['fast_growth']"
   ]
  },
  {
   "cell_type": "code",
   "execution_count": 201,
   "metadata": {},
   "outputs": [],
   "source": [
    "indices = np.arange(len(data_manu))\n",
    "index_train, index_holdout= train_test_split(\n",
    "    indices, train_size=0.8, random_state=42)"
   ]
  },
  {
   "cell_type": "code",
   "execution_count": 202,
   "metadata": {},
   "outputs": [],
   "source": [
    "y_train_manu = y_manu.iloc[index_train]\n",
    "y_holdout_manu = y_manu.iloc[index_holdout]"
   ]
  },
  {
   "cell_type": "code",
   "execution_count": 203,
   "metadata": {},
   "outputs": [],
   "source": [
    "rfvars_train_manu = rfvars_manu.iloc[index_train]\n",
    "rfvars_holdout_manu = rfvars_manu.iloc[index_holdout]"
   ]
  },
  {
   "cell_type": "code",
   "execution_count": 204,
   "metadata": {},
   "outputs": [],
   "source": [
    "prob_forest_manu = RandomForestClassifier(random_state=42, n_estimators=500, oob_score=True)\n",
    "prob_forest_grid_manu = GridSearchCV(prob_forest_manu, grid, cv=5, refit='accuracy',\n",
    "                                scoring = ['accuracy', 'roc_auc', 'neg_brier_score'], n_jobs=-1)"
   ]
  },
  {
   "cell_type": "code",
   "execution_count": 205,
   "metadata": {},
   "outputs": [],
   "source": [
    "prob_forest_fit_manu = prob_forest_grid_manu.fit(rfvars_train_manu, y_train_manu)"
   ]
  },
  {
   "cell_type": "code",
   "execution_count": 206,
   "metadata": {},
   "outputs": [],
   "source": [
    "#create CV summary table\n",
    "cv_accuracy_manu = np.zeros([6])\n",
    "for i in range(5):\n",
    "    cv_accuracy_manu = cv_accuracy_manu + prob_forest_fit_manu.cv_results_['split' + str(i) + '_test_accuracy']\n",
    "cv_accuracy_manu = cv_accuracy_manu/5\n",
    "\n",
    "cv_auc_manu = np.zeros([6])\n",
    "for i in range(5):\n",
    "    cv_auc_manu = cv_auc_manu + prob_forest_fit_manu.cv_results_['split' + str(i) + '_test_roc_auc']\n",
    "cv_auc_manu = cv_auc_manu/5\n",
    "\n",
    "cv_rmse_manu = np.zeros([6])\n",
    "for i in range(5):\n",
    "    cv_rmse_manu = cv_rmse_manu +np.sqrt(-1*(prob_forest_fit_manu.cv_results_['split' + str(i) + '_test_neg_brier_score'])).tolist()\n",
    "cv_rmse_manu = cv_rmse_manu/5\n",
    "\n",
    "prob_forest_cv_results_manu = pd.DataFrame({\n",
    "    'max_features': prob_forest_fit_manu.cv_results_['param_max_features'],\n",
    "    'min_samples_split': prob_forest_fit_manu.cv_results_['param_min_samples_split'],\n",
    "    'cv_accuracy_manu': cv_accuracy_manu,\n",
    "    'cv_auc_manu': cv_auc_manu,\n",
    "    'cv_rmse_manu': cv_rmse_manu\n",
    "})"
   ]
  },
  {
   "cell_type": "code",
   "execution_count": 207,
   "metadata": {},
   "outputs": [
    {
     "data": {
      "text/html": [
       "<div>\n",
       "<style scoped>\n",
       "    .dataframe tbody tr th:only-of-type {\n",
       "        vertical-align: middle;\n",
       "    }\n",
       "\n",
       "    .dataframe tbody tr th {\n",
       "        vertical-align: top;\n",
       "    }\n",
       "\n",
       "    .dataframe thead th {\n",
       "        text-align: right;\n",
       "    }\n",
       "</style>\n",
       "<table border=\"1\" class=\"dataframe\">\n",
       "  <thead>\n",
       "    <tr style=\"text-align: right;\">\n",
       "      <th></th>\n",
       "      <th>max_features</th>\n",
       "      <th>min_samples_split</th>\n",
       "      <th>cv_accuracy_manu</th>\n",
       "      <th>cv_auc_manu</th>\n",
       "      <th>cv_rmse_manu</th>\n",
       "    </tr>\n",
       "  </thead>\n",
       "  <tbody>\n",
       "    <tr>\n",
       "      <th>0</th>\n",
       "      <td>4</td>\n",
       "      <td>10</td>\n",
       "      <td>0.751575</td>\n",
       "      <td>0.691246</td>\n",
       "      <td>0.426834</td>\n",
       "    </tr>\n",
       "    <tr>\n",
       "      <th>1</th>\n",
       "      <td>4</td>\n",
       "      <td>15</td>\n",
       "      <td>0.747244</td>\n",
       "      <td>0.693122</td>\n",
       "      <td>0.426647</td>\n",
       "    </tr>\n",
       "    <tr>\n",
       "      <th>2</th>\n",
       "      <td>5</td>\n",
       "      <td>10</td>\n",
       "      <td>0.749606</td>\n",
       "      <td>0.691997</td>\n",
       "      <td>0.426658</td>\n",
       "    </tr>\n",
       "    <tr>\n",
       "      <th>3</th>\n",
       "      <td>5</td>\n",
       "      <td>15</td>\n",
       "      <td>0.749606</td>\n",
       "      <td>0.691219</td>\n",
       "      <td>0.426824</td>\n",
       "    </tr>\n",
       "    <tr>\n",
       "      <th>4</th>\n",
       "      <td>7</td>\n",
       "      <td>10</td>\n",
       "      <td>0.751969</td>\n",
       "      <td>0.689945</td>\n",
       "      <td>0.427258</td>\n",
       "    </tr>\n",
       "    <tr>\n",
       "      <th>5</th>\n",
       "      <td>7</td>\n",
       "      <td>15</td>\n",
       "      <td>0.747638</td>\n",
       "      <td>0.691654</td>\n",
       "      <td>0.426905</td>\n",
       "    </tr>\n",
       "  </tbody>\n",
       "</table>\n",
       "</div>"
      ],
      "text/plain": [
       "  max_features min_samples_split  cv_accuracy_manu  cv_auc_manu  cv_rmse_manu\n",
       "0            4                10          0.751575     0.691246      0.426834\n",
       "1            4                15          0.747244     0.693122      0.426647\n",
       "2            5                10          0.749606     0.691997      0.426658\n",
       "3            5                15          0.749606     0.691219      0.426824\n",
       "4            7                10          0.751969     0.689945      0.427258\n",
       "5            7                15          0.747638     0.691654      0.426905"
      ]
     },
     "execution_count": 207,
     "metadata": {},
     "output_type": "execute_result"
    }
   ],
   "source": [
    "prob_forest_cv_results_manu"
   ]
  },
  {
   "cell_type": "code",
   "execution_count": 208,
   "metadata": {},
   "outputs": [
    {
     "data": {
      "text/plain": [
       "{'criterion': 'gini', 'max_features': 7, 'min_samples_split': 10}"
      ]
     },
     "execution_count": 208,
     "metadata": {},
     "output_type": "execute_result"
    }
   ],
   "source": [
    "#obtain optimal parameter values\n",
    "best_mtry_manu = prob_forest_fit_manu.best_params_['max_features']\n",
    "best_min_node_size_manu = prob_forest_fit_manu.best_params_['min_samples_split']\n",
    "prob_forest_fit_manu.best_params_"
   ]
  },
  {
   "cell_type": "code",
   "execution_count": 209,
   "metadata": {},
   "outputs": [],
   "source": [
    "# Get average (ie over the folds) RMSE and AUC ------------------------------------\n",
    "prob_forest_best_results_manu = prob_forest_cv_results_manu[(prob_forest_cv_results_manu.max_features == best_mtry_manu) & \n",
    "                      (prob_forest_cv_results_manu.min_samples_split == best_min_node_size_manu)]\n",
    "prob_forest_best_results_index_manu = prob_forest_best_results_manu.index.values[0]\n",
    "\n",
    "CV_RMSE_manu = {}\n",
    "CV_AUC_manu = {}\n",
    "\n",
    "CV_RMSE_manu['randomforestprob'] = prob_forest_best_results_manu.cv_rmse_manu.values[0]\n",
    "CV_AUC_manu['randomforestprob'] = prob_forest_best_results_manu.cv_auc_manu.values[0]"
   ]
  },
  {
   "cell_type": "code",
   "execution_count": 210,
   "metadata": {},
   "outputs": [],
   "source": [
    "# Get fold level RMSE and AUC ------------------------------------\n",
    "\n",
    "CV_RMSE_folds_rf_p = list()\n",
    "for i in range(5):\n",
    "    rmse = np.sqrt(-1*(prob_forest_fit.cv_results_['split' + str(i) + '_test_neg_brier_score'])).tolist()[prob_forest_best_results_index]\n",
    "    CV_RMSE_folds_rf_p.append(rmse)\n",
    "CV_RMSE_folds['randomforestprob'] = CV_RMSE_folds_rf_p\n",
    "\n",
    "CV_AUC_folds_rf_p = list()\n",
    "for i in range(5):\n",
    "    rmse = prob_forest_fit.cv_results_['split' + str(i) + '_test_roc_auc'][prob_forest_best_results_index]\n",
    "    CV_AUC_folds_rf_p.append(rmse)\n",
    "CV_AUC_folds['randomforestprob'] = CV_AUC_folds_rf_p"
   ]
  },
  {
   "cell_type": "code",
   "execution_count": 211,
   "metadata": {},
   "outputs": [],
   "source": [
    "# Loss function\n",
    "# relative cost of of a false positive classification (as compared with a false negative classification)\n",
    "FP_manu = 100\n",
    "FN_manu = 50\n",
    "cost_manu = FN_manu/FP_manu\n",
    "# the prevalence, or the proportion of cases in the population (n.cases/(n.controls+n.cases))\n",
    "prevalence_manu = y_train_manu.sum()/len(y_train_manu)"
   ]
  },
  {
   "cell_type": "code",
   "execution_count": 212,
   "metadata": {},
   "outputs": [],
   "source": [
    "# Now use loss function and search for best thresholds and expected loss over folds -----\n",
    "best_thresholds_manu = list()\n",
    "expected_loss_manu = list()\n",
    "\n",
    "fold = 0\n",
    "for train_index, test_index in k.split(rfvars_train_manu):\n",
    "    X_fold_manu = rfvars_train_manu.iloc[test_index,:]\n",
    "    y_fold_manu = y_train_manu.iloc[test_index]\n",
    "    \n",
    "    X_fold_train_manu = rfvars_train_manu.iloc[train_index,:]\n",
    "    y_fold_train_manu = y_train_manu.iloc[train_index]\n",
    "    \n",
    "    prob_forest_best_manu = RandomForestClassifier(random_state=42, n_estimators=500, oob_score=True,\n",
    "                    criterion = 'gini', max_features = best_mtry_manu, min_samples_split = best_min_node_size_manu)\n",
    "    prob_forest_best_fold_manu = prob_forest_best_manu.fit(X_fold_train_manu, y_fold_train_manu)\n",
    "    pred_fold_manu = prob_forest_best_fold_manu.predict_proba(X_fold_manu)[:,1]\n",
    "\n",
    "    false_pos_rate_manu, true_pos_rate_manu, threshold_manu = roc_curve(y_fold_manu, pred_fold_manu)\n",
    "    best_threshold_manu = sorted(list(zip(np.abs(true_pos_rate_manu + (1 - prevalence_manu)/(cost_manu * prevalence_manu)*(1-false_pos_rate_manu)),\\\n",
    "                                       threshold_manu)), key=lambda x: x[0], reverse=True)[0][1]\n",
    "    if best_threshold_manu > 1:\n",
    "        best_threshold_manu = 1\n",
    "    best_thresholds_manu.append(best_threshold_manu)\n",
    "    threshold_prediction_manu = np.where(pred_fold_manu < best_threshold_manu, 0, 1)\n",
    "    tn_manu, fp_manu, fn_manu, tp_manu = confusion_matrix(y_fold_manu, threshold_prediction_manu, labels=[0,1]).ravel()\n",
    "    curr_exp_loss_manu = (fp_manu*FP_manu + fn_manu*FN_manu)/len(y_fold_manu)\n",
    "    expected_loss_manu.append(curr_exp_loss_manu)\n",
    "    \n",
    "fold5_threshold_rf_manu = best_threshold_manu\n",
    "fold5_expected_loss_rf_manu = curr_exp_loss_manu\n",
    "\n",
    "all_coords_rf_manu = pd.DataFrame({\n",
    "    'false_pos': false_pos_rate_manu*sum(y_fold_manu == 0),\n",
    "    'true_pos': true_pos_rate_manu*sum(y_fold_manu == 1),\n",
    "    'false_neg': sum(y_fold_manu == 1) - true_pos_rate_manu*sum(y_fold_manu == 1),\n",
    "    'true_neg': sum(y_fold_manu == 0) - false_pos_rate_manu*sum(y_fold_manu == 0),\n",
    "    'pos': sum(y_fold_manu == 1),\n",
    "    'neg': sum(y_fold_manu == 0),\n",
    "    'n': len(y_fold_manu),\n",
    "    'thresholds': threshold_manu\n",
    "})"
   ]
  },
  {
   "cell_type": "code",
   "execution_count": 213,
   "metadata": {},
   "outputs": [],
   "source": [
    "expected_loss_cv_manu = {}\n",
    "expected_loss_cv_manu['randomforestprob'] = np.mean(expected_loss_manu)\n",
    "\n",
    "best_thresholds_cv_manu = {}\n",
    "best_thresholds_cv_manu['randomforestprob'] = np.mean(best_thresholds_manu)\n"
   ]
  },
  {
   "cell_type": "code",
   "execution_count": 214,
   "metadata": {},
   "outputs": [
    {
     "data": {
      "text/html": [
       "<div>\n",
       "<style scoped>\n",
       "    .dataframe tbody tr th:only-of-type {\n",
       "        vertical-align: middle;\n",
       "    }\n",
       "\n",
       "    .dataframe tbody tr th {\n",
       "        vertical-align: top;\n",
       "    }\n",
       "\n",
       "    .dataframe thead th {\n",
       "        text-align: right;\n",
       "    }\n",
       "</style>\n",
       "<table border=\"1\" class=\"dataframe\">\n",
       "  <thead>\n",
       "    <tr style=\"text-align: right;\">\n",
       "      <th></th>\n",
       "      <th>CV RMSE</th>\n",
       "      <th>CV AUC</th>\n",
       "      <th>Avg of optimal thresholds</th>\n",
       "      <th>Threshold for Fold5</th>\n",
       "      <th>Avg expected loss</th>\n",
       "      <th>Expected loss for Fold5</th>\n",
       "    </tr>\n",
       "  </thead>\n",
       "  <tbody>\n",
       "    <tr>\n",
       "      <th>0</th>\n",
       "      <td>0.427</td>\n",
       "      <td>0.69</td>\n",
       "      <td>0.699</td>\n",
       "      <td>0.688</td>\n",
       "      <td>13.425</td>\n",
       "      <td>15.059</td>\n",
       "    </tr>\n",
       "  </tbody>\n",
       "</table>\n",
       "</div>"
      ],
      "text/plain": [
       "   CV RMSE  CV AUC  Avg of optimal thresholds  Threshold for Fold5   \n",
       "0    0.427    0.69                      0.699                0.688  \\\n",
       "\n",
       "   Avg expected loss  Expected loss for Fold5  \n",
       "0             13.425                   15.059  "
      ]
     },
     "execution_count": 214,
     "metadata": {},
     "output_type": "execute_result"
    }
   ],
   "source": [
    "rf_summary_manu = pd.DataFrame(\n",
    "    {'CV RMSE': [round(CV_RMSE_manu['randomforestprob'], 3)],\n",
    "     'CV AUC': [round(CV_AUC_manu['randomforestprob'], 3)],\n",
    "     'Avg of optimal thresholds': [round(best_thresholds_cv_manu['randomforestprob'], 3)],\n",
    "     'Threshold for Fold5': [round(best_threshold_manu, 3)],\n",
    "     'Avg expected loss': [round(expected_loss_cv_manu['randomforestprob'], 3)],\n",
    "     'Expected loss for Fold5': [round(curr_exp_loss_manu, 3)]})\n",
    "\n",
    "rf_summary_manu"
   ]
  },
  {
   "cell_type": "markdown",
   "metadata": {},
   "source": [
    "RMSE, AUC, and expected loss of the RF model applied on the holdout data of manufacturing firms"
   ]
  },
  {
   "cell_type": "code",
   "execution_count": 215,
   "metadata": {},
   "outputs": [
    {
     "data": {
      "text/html": [
       "<div>\n",
       "<style scoped>\n",
       "    .dataframe tbody tr th:only-of-type {\n",
       "        vertical-align: middle;\n",
       "    }\n",
       "\n",
       "    .dataframe tbody tr th {\n",
       "        vertical-align: top;\n",
       "    }\n",
       "\n",
       "    .dataframe thead th {\n",
       "        text-align: right;\n",
       "    }\n",
       "</style>\n",
       "<table border=\"1\" class=\"dataframe\">\n",
       "  <thead>\n",
       "    <tr style=\"text-align: right;\">\n",
       "      <th></th>\n",
       "      <th>RMSE</th>\n",
       "      <th>AUC</th>\n",
       "      <th>Expected loss</th>\n",
       "    </tr>\n",
       "  </thead>\n",
       "  <tbody>\n",
       "    <tr>\n",
       "      <th>0</th>\n",
       "      <td>0.441</td>\n",
       "      <td>0.68</td>\n",
       "      <td>14.882</td>\n",
       "    </tr>\n",
       "  </tbody>\n",
       "</table>\n",
       "</div>"
      ],
      "text/plain": [
       "    RMSE   AUC  Expected loss\n",
       "0  0.441  0.68         14.882"
      ]
     },
     "execution_count": 215,
     "metadata": {},
     "output_type": "execute_result"
    }
   ],
   "source": [
    "# Take model to holdout and estimate RMSE, AUC and expected loss ------------------------------------\n",
    "\n",
    "prob_forest_fit_best_manu = prob_forest_fit_manu.best_estimator_\n",
    "rf_predicted_probabilities_holdout_manu = prob_forest_fit_best_manu.predict_proba(rfvars_holdout_manu)[:,1]\n",
    "rmse_rf_manu = np.sqrt(mean_squared_error(y_holdout_manu, rf_predicted_probabilities_holdout_manu))\n",
    "auc_rf_manu = roc_auc_score(y_holdout_manu, rf_predicted_probabilities_holdout_manu)\n",
    "holdout_treshold_manu = np.where(rf_predicted_probabilities_holdout_manu < best_thresholds_cv_manu['randomforestprob'], 0, 1)\n",
    "tn, fp, fn, tp = confusion_matrix(y_holdout_manu, holdout_treshold_manu, labels=[0,1]).ravel()\n",
    "expected_loss_holdout_manu = (fp*FP_manu + fn*FN_manu)/len(y_holdout_manu)\n",
    "\n",
    "rf_holdout_results_manu = pd.DataFrame(\n",
    "    {'RMSE': [round(rmse_rf_manu, 3)],\n",
    "     'AUC': [round(auc_rf_manu, 3)],\n",
    "     'Expected loss': [round(expected_loss_holdout_manu, 3)]})\n",
    "\n",
    "rf_holdout_results_manu"
   ]
  },
  {
   "cell_type": "code",
   "execution_count": 216,
   "metadata": {},
   "outputs": [
    {
     "data": {
      "text/html": [
       "<div>\n",
       "<style scoped>\n",
       "    .dataframe tbody tr th:only-of-type {\n",
       "        vertical-align: middle;\n",
       "    }\n",
       "\n",
       "    .dataframe tbody tr th {\n",
       "        vertical-align: top;\n",
       "    }\n",
       "\n",
       "    .dataframe thead th {\n",
       "        text-align: right;\n",
       "    }\n",
       "</style>\n",
       "<table border=\"1\" class=\"dataframe\">\n",
       "  <thead>\n",
       "    <tr style=\"text-align: right;\">\n",
       "      <th></th>\n",
       "      <th>Predicted slow growth</th>\n",
       "      <th>Predicted fast growth</th>\n",
       "    </tr>\n",
       "  </thead>\n",
       "  <tbody>\n",
       "    <tr>\n",
       "      <th>Actual slow growth</th>\n",
       "      <td>67.6</td>\n",
       "      <td>0.2</td>\n",
       "    </tr>\n",
       "    <tr>\n",
       "      <th>Actual fast growth</th>\n",
       "      <td>29.4</td>\n",
       "      <td>2.8</td>\n",
       "    </tr>\n",
       "  </tbody>\n",
       "</table>\n",
       "</div>"
      ],
      "text/plain": [
       "                    Predicted slow growth  Predicted fast growth\n",
       "Actual slow growth                   67.6                    0.2\n",
       "Actual fast growth                   29.4                    2.8"
      ]
     },
     "execution_count": 216,
     "metadata": {},
     "output_type": "execute_result"
    }
   ],
   "source": [
    "# Confusion table\n",
    "\n",
    "cm_object_manu = confusion_matrix(y_holdout_manu, holdout_treshold_manu, labels=[0,1])\n",
    "cm_manu = pd.DataFrame(cm_object_manu, \n",
    "    index=['Actual slow growth', 'Actual fast growth'], \n",
    "    columns=['Predicted slow growth', 'Predicted fast growth'])\n",
    "cm_manu\n",
    "\n",
    "cm_percentage_manu = cm_manu / cm_manu.values.sum() * 100\n",
    "cm_percentage_rounded_manu = cm_percentage_manu.round(1)\n",
    "cm_percentage_rounded_manu\n"
   ]
  },
  {
   "cell_type": "markdown",
   "metadata": {},
   "source": [
    "Loss plot for the RF model applied for manufacturing firms in Fold 5 "
   ]
  },
  {
   "cell_type": "code",
   "execution_count": 217,
   "metadata": {},
   "outputs": [
    {
     "data": {
      "image/png": "[encoded data removed]",
      "text/plain": [
       "<Figure size 640x480 with 1 Axes>"
      ]
     },
     "metadata": {
      "image/png": {
       "height": 480,
       "width": 640
      }
     },
     "output_type": "display_data"
    },
    {
     "data": {
      "text/plain": [
       "<Figure Size: (640 x 480)>"
      ]
     },
     "execution_count": 217,
     "metadata": {},
     "output_type": "execute_result"
    }
   ],
   "source": [
    "fig = create_loss_plot(all_coords_rf_manu, fold5_threshold_rf_manu, fold5_expected_loss_rf_manu)\n",
    "fig.save('/Users/jacopobinati/Desktop/Prediction ML/assignment 3/visualisations/TASK2/loss_MANUFACTURING.png')\n",
    "fig"
   ]
  },
  {
   "cell_type": "markdown",
   "metadata": {},
   "source": [
    "ROC plot for the RF model applied for manufacturing firms in Fold 5 "
   ]
  },
  {
   "cell_type": "code",
   "execution_count": 218,
   "metadata": {},
   "outputs": [
    {
     "data": {
      "image/png": "[encoded data removed]",
      "text/plain": [
       "<Figure size 640x480 with 1 Axes>"
      ]
     },
     "metadata": {
      "image/png": {
       "height": 480,
       "width": 640
      }
     },
     "output_type": "display_data"
    },
    {
     "data": {
      "text/plain": [
       "<Figure Size: (640 x 480)>"
      ]
     },
     "execution_count": 218,
     "metadata": {},
     "output_type": "execute_result"
    }
   ],
   "source": [
    "fig = create_roc_plot_with_optimal(all_coords_rf_manu, fold5_threshold_rf_manu)\n",
    "fig.save('/Users/jacopobinati/Desktop/Prediction ML/assignment 3/visualisations/TASK2/ROC_optimal_manufacturing.png')\n",
    "fig"
   ]
  },
  {
   "cell_type": "markdown",
   "metadata": {},
   "source": [
    "## Service"
   ]
  },
  {
   "cell_type": "code",
   "execution_count": 219,
   "metadata": {},
   "outputs": [],
   "source": [
    "# Define rfvars for RF\n",
    "rfvars_serv  = pd.concat([data_serv[[\"profit_loss_year_pl\", \"profit_loss_year2_pl\"] + rawvars + hr + qualityvars], firm], axis=1)"
   ]
  },
  {
   "cell_type": "code",
   "execution_count": 220,
   "metadata": {},
   "outputs": [],
   "source": [
    "y_serv = data_serv['fast_growth']"
   ]
  },
  {
   "cell_type": "code",
   "execution_count": 221,
   "metadata": {},
   "outputs": [],
   "source": [
    "indices = np.arange(len(data_serv))\n",
    "index_train, index_holdout= train_test_split(\n",
    "    indices, train_size=0.8, random_state=42)"
   ]
  },
  {
   "cell_type": "code",
   "execution_count": 222,
   "metadata": {},
   "outputs": [],
   "source": [
    "y_train_serv = y_serv.iloc[index_train]\n",
    "y_holdout_serv = y_serv.iloc[index_holdout]\n",
    "\n",
    "rfvars_train_serv = rfvars_serv.iloc[index_train]\n",
    "rfvars_holdout_serv = rfvars_serv.iloc[index_holdout]"
   ]
  },
  {
   "cell_type": "code",
   "execution_count": 223,
   "metadata": {},
   "outputs": [],
   "source": [
    "prob_forest_serv = RandomForestClassifier(random_state=42, n_estimators=500, oob_score=True)\n",
    "prob_forest_grid_serv = GridSearchCV(prob_forest_serv, grid, cv=5, refit='accuracy',\n",
    "                                scoring = ['accuracy', 'roc_auc', 'neg_brier_score'], n_jobs=-1)"
   ]
  },
  {
   "cell_type": "code",
   "execution_count": 224,
   "metadata": {},
   "outputs": [],
   "source": [
    "prob_forest_fit_serv = prob_forest_grid_serv.fit(rfvars_train_serv, y_train_serv)"
   ]
  },
  {
   "cell_type": "code",
   "execution_count": 225,
   "metadata": {},
   "outputs": [],
   "source": [
    "#create CV summary table\n",
    "cv_accuracy_serv = np.zeros([6])\n",
    "for i in range(5):\n",
    "    cv_accuracy_serv = cv_accuracy_serv + prob_forest_fit_serv.cv_results_['split' + str(i) + '_test_accuracy']\n",
    "cv_accuracy_serv = cv_accuracy_serv/5\n",
    "\n",
    "cv_auc_serv = np.zeros([6])\n",
    "for i in range(5):\n",
    "    cv_auc_serv = cv_auc_serv + prob_forest_fit_serv.cv_results_['split' + str(i) + '_test_roc_auc']\n",
    "cv_auc_serv = cv_auc_serv/5\n",
    "\n",
    "cv_rmse_serv = np.zeros([6])\n",
    "for i in range(5):\n",
    "    cv_rmse_serv = cv_rmse_serv +np.sqrt(-1*(prob_forest_fit_serv.cv_results_['split' + str(i) + '_test_neg_brier_score'])).tolist()\n",
    "cv_rmse_serv = cv_rmse_serv/5\n",
    "\n",
    "prob_forest_cv_results_serv = pd.DataFrame({\n",
    "    'max_features': prob_forest_fit_serv.cv_results_['param_max_features'],\n",
    "    'min_samples_split': prob_forest_fit_serv.cv_results_['param_min_samples_split'],\n",
    "    'cv_accuracy_serv': cv_accuracy_serv,\n",
    "    'cv_auc_serv': cv_auc_serv,\n",
    "    'cv_rmse_serv': cv_rmse_serv\n",
    "})"
   ]
  },
  {
   "cell_type": "code",
   "execution_count": 226,
   "metadata": {},
   "outputs": [
    {
     "data": {
      "text/html": [
       "<div>\n",
       "<style scoped>\n",
       "    .dataframe tbody tr th:only-of-type {\n",
       "        vertical-align: middle;\n",
       "    }\n",
       "\n",
       "    .dataframe tbody tr th {\n",
       "        vertical-align: top;\n",
       "    }\n",
       "\n",
       "    .dataframe thead th {\n",
       "        text-align: right;\n",
       "    }\n",
       "</style>\n",
       "<table border=\"1\" class=\"dataframe\">\n",
       "  <thead>\n",
       "    <tr style=\"text-align: right;\">\n",
       "      <th></th>\n",
       "      <th>max_features</th>\n",
       "      <th>min_samples_split</th>\n",
       "      <th>cv_accuracy_serv</th>\n",
       "      <th>cv_auc_serv</th>\n",
       "      <th>cv_rmse_serv</th>\n",
       "    </tr>\n",
       "  </thead>\n",
       "  <tbody>\n",
       "    <tr>\n",
       "      <th>0</th>\n",
       "      <td>4</td>\n",
       "      <td>10</td>\n",
       "      <td>0.773222</td>\n",
       "      <td>0.784700</td>\n",
       "      <td>0.403126</td>\n",
       "    </tr>\n",
       "    <tr>\n",
       "      <th>1</th>\n",
       "      <td>4</td>\n",
       "      <td>15</td>\n",
       "      <td>0.772893</td>\n",
       "      <td>0.785282</td>\n",
       "      <td>0.402975</td>\n",
       "    </tr>\n",
       "    <tr>\n",
       "      <th>2</th>\n",
       "      <td>5</td>\n",
       "      <td>10</td>\n",
       "      <td>0.772343</td>\n",
       "      <td>0.785756</td>\n",
       "      <td>0.402246</td>\n",
       "    </tr>\n",
       "    <tr>\n",
       "      <th>3</th>\n",
       "      <td>5</td>\n",
       "      <td>15</td>\n",
       "      <td>0.772233</td>\n",
       "      <td>0.785994</td>\n",
       "      <td>0.402361</td>\n",
       "    </tr>\n",
       "    <tr>\n",
       "      <th>4</th>\n",
       "      <td>7</td>\n",
       "      <td>10</td>\n",
       "      <td>0.772343</td>\n",
       "      <td>0.788055</td>\n",
       "      <td>0.401112</td>\n",
       "    </tr>\n",
       "    <tr>\n",
       "      <th>5</th>\n",
       "      <td>7</td>\n",
       "      <td>15</td>\n",
       "      <td>0.772453</td>\n",
       "      <td>0.788308</td>\n",
       "      <td>0.401278</td>\n",
       "    </tr>\n",
       "  </tbody>\n",
       "</table>\n",
       "</div>"
      ],
      "text/plain": [
       "  max_features min_samples_split  cv_accuracy_serv  cv_auc_serv  cv_rmse_serv\n",
       "0            4                10          0.773222     0.784700      0.403126\n",
       "1            4                15          0.772893     0.785282      0.402975\n",
       "2            5                10          0.772343     0.785756      0.402246\n",
       "3            5                15          0.772233     0.785994      0.402361\n",
       "4            7                10          0.772343     0.788055      0.401112\n",
       "5            7                15          0.772453     0.788308      0.401278"
      ]
     },
     "execution_count": 226,
     "metadata": {},
     "output_type": "execute_result"
    }
   ],
   "source": [
    "prob_forest_cv_results_serv"
   ]
  },
  {
   "cell_type": "code",
   "execution_count": 227,
   "metadata": {},
   "outputs": [
    {
     "data": {
      "text/plain": [
       "{'criterion': 'gini', 'max_features': 4, 'min_samples_split': 10}"
      ]
     },
     "execution_count": 227,
     "metadata": {},
     "output_type": "execute_result"
    }
   ],
   "source": [
    "#obtain optimal parameter values\n",
    "best_mtry_serv = prob_forest_fit_serv.best_params_['max_features']\n",
    "best_min_node_size_serv = prob_forest_fit_serv.best_params_['min_samples_split']\n",
    "prob_forest_fit_serv.best_params_"
   ]
  },
  {
   "cell_type": "code",
   "execution_count": 228,
   "metadata": {},
   "outputs": [],
   "source": [
    "# Get average (ie over the folds) RMSE and AUC ------------------------------------\n",
    "prob_forest_best_results_serv = prob_forest_cv_results_serv[(prob_forest_cv_results_serv.max_features == best_mtry_serv) & \n",
    "                      (prob_forest_cv_results_serv.min_samples_split == best_min_node_size_serv)]\n",
    "prob_forest_best_results_index_serv = prob_forest_best_results_serv.index.values[0]\n",
    "\n",
    "CV_RMSE_serv = {}\n",
    "CV_AUC_serv = {}\n",
    "\n",
    "CV_RMSE_serv['randomforestprob'] = prob_forest_best_results_serv.cv_rmse_serv.values[0]\n",
    "CV_AUC_serv['randomforestprob'] = prob_forest_best_results_serv.cv_auc_serv.values[0]"
   ]
  },
  {
   "cell_type": "code",
   "execution_count": 229,
   "metadata": {},
   "outputs": [],
   "source": [
    "# Get fold level RMSE and AUC ------------------------------------\n",
    "\n",
    "CV_RMSE_folds_rf_p_serv = list()\n",
    "for i in range(5):\n",
    "    rmse = np.sqrt(-1*(prob_forest_fit_serv.cv_results_['split' + str(i) + '_test_neg_brier_score'])).tolist()[prob_forest_best_results_index_serv]\n",
    "    CV_RMSE_folds_rf_p_serv.append(rmse)\n",
    "CV_RMSE_folds['rf_p_serv'] = CV_RMSE_folds_rf_p_serv\n",
    "\n",
    "CV_AUC_folds_rf_p_serv = list()\n",
    "for i in range(5):\n",
    "    rmse = prob_forest_fit_serv.cv_results_['split' + str(i) + '_test_roc_auc'][prob_forest_best_results_index_serv]\n",
    "    CV_AUC_folds_rf_p_serv.append(rmse)\n",
    "CV_AUC_folds['rf_p_serv'] = CV_AUC_folds_rf_p_serv"
   ]
  },
  {
   "cell_type": "code",
   "execution_count": 230,
   "metadata": {},
   "outputs": [],
   "source": [
    "# Loss function\n",
    "# relative cost of of a false positive classification (as compared with a false negative classification)\n",
    "FP_serv = 2\n",
    "FN_serv = 1\n",
    "cost_serv = FN_serv/FP_serv\n",
    "# the prevalence, or the proportion of cases in the population (n.cases/(n.controls+n.cases))\n",
    "prevalence_serv = y_train_serv.sum()/len(y_train_serv)"
   ]
  },
  {
   "cell_type": "code",
   "execution_count": 231,
   "metadata": {},
   "outputs": [],
   "source": [
    "# Now use loss function and search for best thresholds and expected loss over folds -----\n",
    "best_thresholds_serv = list()\n",
    "expected_loss_serv = list()\n",
    "\n",
    "fold = 0\n",
    "for train_index, test_index in k.split(rfvars_train_serv):\n",
    "    X_fold_serv = rfvars_train_serv.iloc[test_index,:]\n",
    "    y_fold_serv = y_train_serv.iloc[test_index]\n",
    "    \n",
    "    X_fold_train_serv = rfvars_train_serv.iloc[train_index,:]\n",
    "    y_fold_train_serv = y_train_serv.iloc[train_index]\n",
    "    \n",
    "    prob_forest_best_serv = RandomForestClassifier(random_state=42, n_estimators=500, oob_score=True,\n",
    "                    criterion = 'gini', max_features = best_mtry_serv, min_samples_split = best_min_node_size_serv)\n",
    "    prob_forest_best_fold_serv = prob_forest_best_serv.fit(X_fold_train_serv, y_fold_train_serv)\n",
    "    pred_fold_serv = prob_forest_best_fold_serv.predict_proba(X_fold_serv)[:,1]\n",
    "\n",
    "    false_pos_rate_serv, true_pos_rate_serv, threshold_serv = roc_curve(y_fold_serv, pred_fold_serv)\n",
    "    best_threshold_serv = sorted(list(zip(np.abs(true_pos_rate_serv + (1 - prevalence_serv)/(cost_serv * prevalence_serv)*(1-false_pos_rate_serv)),\\\n",
    "                                       threshold_serv)), key=lambda x: x[0], reverse=True)[0][1]\n",
    "    if best_threshold_serv > 1:\n",
    "        best_threshold_serv = 1\n",
    "    best_thresholds_serv.append(best_threshold_serv)\n",
    "    threshold_prediction_serv = np.where(pred_fold_serv < best_threshold_serv, 0, 1)\n",
    "    tn_serv, fp_serv, fn_serv, tp_serv = confusion_matrix(y_fold_serv, threshold_prediction_serv, labels=[0,1]).ravel()\n",
    "    curr_exp_loss_serv = (fp_serv*FP_serv + fn_serv*FN_serv)/len(y_fold_serv)\n",
    "    expected_loss_serv.append(curr_exp_loss_serv)\n",
    "    \n",
    "fold5_threshold_rf_serv = best_threshold_serv\n",
    "fold5_expected_loss_rf_serv = curr_exp_loss_serv\n",
    "\n",
    "all_coords_rf_serv = pd.DataFrame({\n",
    "    'false_pos': false_pos_rate_serv*sum(y_fold_serv == 0),\n",
    "    'true_pos': true_pos_rate_serv*sum(y_fold_serv == 1),\n",
    "    'false_neg': sum(y_fold_serv == 1) - true_pos_rate_serv*sum(y_fold_serv == 1),\n",
    "    'true_neg': sum(y_fold_serv == 0) - false_pos_rate_serv*sum(y_fold_serv == 0),\n",
    "    'pos': sum(y_fold_serv == 1),\n",
    "    'neg': sum(y_fold_serv == 0),\n",
    "    'n': len(y_fold_serv),\n",
    "    'thresholds': threshold_serv\n",
    "})"
   ]
  },
  {
   "cell_type": "code",
   "execution_count": 232,
   "metadata": {},
   "outputs": [],
   "source": [
    "expected_loss_cv_serv = {}\n",
    "expected_loss_cv_serv['randomforestprob'] = np.mean(expected_loss_serv)\n",
    "\n",
    "best_thresholds_cv_serv = {}\n",
    "best_thresholds_cv_serv['randomforestprob'] = np.mean(best_thresholds_serv)"
   ]
  },
  {
   "cell_type": "code",
   "execution_count": 233,
   "metadata": {},
   "outputs": [
    {
     "data": {
      "text/html": [
       "<div>\n",
       "<style scoped>\n",
       "    .dataframe tbody tr th:only-of-type {\n",
       "        vertical-align: middle;\n",
       "    }\n",
       "\n",
       "    .dataframe tbody tr th {\n",
       "        vertical-align: top;\n",
       "    }\n",
       "\n",
       "    .dataframe thead th {\n",
       "        text-align: right;\n",
       "    }\n",
       "</style>\n",
       "<table border=\"1\" class=\"dataframe\">\n",
       "  <thead>\n",
       "    <tr style=\"text-align: right;\">\n",
       "      <th></th>\n",
       "      <th>CV RMSE</th>\n",
       "      <th>CV AUC</th>\n",
       "      <th>Avg of optimal thresholds</th>\n",
       "      <th>Threshold for Fold5</th>\n",
       "      <th>Avg expected loss</th>\n",
       "      <th>Expected loss for Fold5</th>\n",
       "    </tr>\n",
       "  </thead>\n",
       "  <tbody>\n",
       "    <tr>\n",
       "      <th>0</th>\n",
       "      <td>0.403</td>\n",
       "      <td>0.785</td>\n",
       "      <td>0.563</td>\n",
       "      <td>0.558</td>\n",
       "      <td>0.268</td>\n",
       "      <td>0.278</td>\n",
       "    </tr>\n",
       "  </tbody>\n",
       "</table>\n",
       "</div>"
      ],
      "text/plain": [
       "   CV RMSE  CV AUC  Avg of optimal thresholds  Threshold for Fold5   \n",
       "0    0.403   0.785                      0.563                0.558  \\\n",
       "\n",
       "   Avg expected loss  Expected loss for Fold5  \n",
       "0              0.268                    0.278  "
      ]
     },
     "execution_count": 233,
     "metadata": {},
     "output_type": "execute_result"
    }
   ],
   "source": [
    "rf_summary_serv = pd.DataFrame(\n",
    "    {'CV RMSE': [round(CV_RMSE_serv['randomforestprob'], 3)],\n",
    "     'CV AUC': [round(CV_AUC_serv['randomforestprob'], 3)],\n",
    "     'Avg of optimal thresholds': [round(best_thresholds_cv_serv['randomforestprob'], 3)],\n",
    "     'Threshold for Fold5': [round(fold5_threshold_rf_serv, 3)],\n",
    "     'Avg expected loss': [round(expected_loss_cv_serv['randomforestprob'], 3)],\n",
    "     'Expected loss for Fold5': [round(fold5_expected_loss_rf_serv, 3)]})\n",
    "\n",
    "rf_summary_serv"
   ]
  },
  {
   "cell_type": "markdown",
   "metadata": {},
   "source": [
    "RMSE, AUC, and expected loss of the RF model applied on the holdout data of service firms"
   ]
  },
  {
   "cell_type": "code",
   "execution_count": 234,
   "metadata": {},
   "outputs": [
    {
     "data": {
      "text/html": [
       "<div>\n",
       "<style scoped>\n",
       "    .dataframe tbody tr th:only-of-type {\n",
       "        vertical-align: middle;\n",
       "    }\n",
       "\n",
       "    .dataframe tbody tr th {\n",
       "        vertical-align: top;\n",
       "    }\n",
       "\n",
       "    .dataframe thead th {\n",
       "        text-align: right;\n",
       "    }\n",
       "</style>\n",
       "<table border=\"1\" class=\"dataframe\">\n",
       "  <thead>\n",
       "    <tr style=\"text-align: right;\">\n",
       "      <th></th>\n",
       "      <th>RMSE</th>\n",
       "      <th>AUC</th>\n",
       "      <th>Expected loss</th>\n",
       "    </tr>\n",
       "  </thead>\n",
       "  <tbody>\n",
       "    <tr>\n",
       "      <th>0</th>\n",
       "      <td>0.403</td>\n",
       "      <td>0.792</td>\n",
       "      <td>0.291</td>\n",
       "    </tr>\n",
       "  </tbody>\n",
       "</table>\n",
       "</div>"
      ],
      "text/plain": [
       "    RMSE    AUC  Expected loss\n",
       "0  0.403  0.792          0.291"
      ]
     },
     "execution_count": 234,
     "metadata": {},
     "output_type": "execute_result"
    }
   ],
   "source": [
    "# Take model to holdout and estimate RMSE, AUC and expected loss ------------------------------------\n",
    "\n",
    "prob_forest_fit_best_serv = prob_forest_fit_serv.best_estimator_\n",
    "rf_predicted_probabilities_holdout_serv = prob_forest_fit_best_serv.predict_proba(rfvars_holdout_serv)[:,1]\n",
    "rmse_rf_serv = np.sqrt(mean_squared_error(y_holdout_serv, rf_predicted_probabilities_holdout_serv))\n",
    "auc_rf_serv = roc_auc_score(y_holdout_serv, rf_predicted_probabilities_holdout_serv)\n",
    "holdout_treshold_serv = np.where(rf_predicted_probabilities_holdout_serv < best_thresholds_cv_serv['randomforestprob'], 0, 1)\n",
    "tn, fp, fn, tp = confusion_matrix(y_holdout_serv, holdout_treshold_serv, labels=[0,1]).ravel()\n",
    "expected_loss_holdout_serv = (fp*FP_serv + fn*FN_serv)/len(y_holdout_serv)\n",
    "\n",
    "rf_holdout_results_serv = pd.DataFrame(\n",
    "    {'RMSE': [round(rmse_rf_serv, 3)],\n",
    "     'AUC': [round(auc_rf_serv, 3)],\n",
    "     'Expected loss': [round(expected_loss_holdout_serv, 3)]})\n",
    "\n",
    "rf_holdout_results_serv"
   ]
  },
  {
   "cell_type": "code",
   "execution_count": 235,
   "metadata": {},
   "outputs": [
    {
     "data": {
      "text/html": [
       "<div>\n",
       "<style scoped>\n",
       "    .dataframe tbody tr th:only-of-type {\n",
       "        vertical-align: middle;\n",
       "    }\n",
       "\n",
       "    .dataframe tbody tr th {\n",
       "        vertical-align: top;\n",
       "    }\n",
       "\n",
       "    .dataframe thead th {\n",
       "        text-align: right;\n",
       "    }\n",
       "</style>\n",
       "<table border=\"1\" class=\"dataframe\">\n",
       "  <thead>\n",
       "    <tr style=\"text-align: right;\">\n",
       "      <th></th>\n",
       "      <th>Actual slow growth</th>\n",
       "      <th>Actual fast growth</th>\n",
       "    </tr>\n",
       "  </thead>\n",
       "  <tbody>\n",
       "    <tr>\n",
       "      <th>Predicted slow growth</th>\n",
       "      <td>65.8</td>\n",
       "      <td>20.2</td>\n",
       "    </tr>\n",
       "    <tr>\n",
       "      <th>Predicted fast growth</th>\n",
       "      <td>4.4</td>\n",
       "      <td>9.5</td>\n",
       "    </tr>\n",
       "  </tbody>\n",
       "</table>\n",
       "</div>"
      ],
      "text/plain": [
       "                       Actual slow growth  Actual fast growth\n",
       "Predicted slow growth                65.8                20.2\n",
       "Predicted fast growth                 4.4                 9.5"
      ]
     },
     "execution_count": 235,
     "metadata": {},
     "output_type": "execute_result"
    }
   ],
   "source": [
    "# Confusion table\n",
    "\n",
    "cm_object_serv = confusion_matrix(y_holdout_serv, holdout_treshold_serv, labels=[0,1])\n",
    "cm_serv = pd.DataFrame(cm_object_serv, \n",
    "    index=['Actual slow growth', 'Actual fast growth'], \n",
    "    columns=['Predicted slow growth', 'Predicted fast growth'])\n",
    "cm_serv\n",
    "\n",
    "cm_percentage_serv = cm_serv / cm_serv.values.sum() * 100\n",
    "cm_percentage_rounded_serv = cm_percentage_serv.round(1)\n",
    "cm_percentage_rounded_serv.T"
   ]
  },
  {
   "cell_type": "code",
   "execution_count": 236,
   "metadata": {},
   "outputs": [
    {
     "data": {
      "text/html": [
       "<div>\n",
       "<style scoped>\n",
       "    .dataframe tbody tr th:only-of-type {\n",
       "        vertical-align: middle;\n",
       "    }\n",
       "\n",
       "    .dataframe tbody tr th {\n",
       "        vertical-align: top;\n",
       "    }\n",
       "\n",
       "    .dataframe thead th {\n",
       "        text-align: right;\n",
       "    }\n",
       "</style>\n",
       "<table border=\"1\" class=\"dataframe\">\n",
       "  <thead>\n",
       "    <tr style=\"text-align: right;\">\n",
       "      <th></th>\n",
       "      <th>Actual slow growth</th>\n",
       "      <th>Actual fast growth</th>\n",
       "    </tr>\n",
       "  </thead>\n",
       "  <tbody>\n",
       "    <tr>\n",
       "      <th>Predicted slow growth</th>\n",
       "      <td>65.8</td>\n",
       "      <td>20.2</td>\n",
       "    </tr>\n",
       "    <tr>\n",
       "      <th>Predicted fast growth</th>\n",
       "      <td>4.4</td>\n",
       "      <td>9.5</td>\n",
       "    </tr>\n",
       "  </tbody>\n",
       "</table>\n",
       "</div>"
      ],
      "text/plain": [
       "                       Actual slow growth  Actual fast growth\n",
       "Predicted slow growth                65.8                20.2\n",
       "Predicted fast growth                 4.4                 9.5"
      ]
     },
     "execution_count": 236,
     "metadata": {},
     "output_type": "execute_result"
    }
   ],
   "source": [
    "cm_percentage_rounded_serv.T"
   ]
  },
  {
   "cell_type": "markdown",
   "metadata": {},
   "source": [
    "Loss plot for the RF model applied for service firms in Fold 5 "
   ]
  },
  {
   "cell_type": "code",
   "execution_count": 237,
   "metadata": {},
   "outputs": [
    {
     "data": {
      "image/png": "[encoded data removed]",
      "text/plain": [
       "<Figure size 640x480 with 1 Axes>"
      ]
     },
     "metadata": {
      "image/png": {
       "height": 480,
       "width": 640
      }
     },
     "output_type": "display_data"
    },
    {
     "data": {
      "text/plain": [
       "<Figure Size: (640 x 480)>"
      ]
     },
     "execution_count": 237,
     "metadata": {},
     "output_type": "execute_result"
    }
   ],
   "source": [
    "fig = create_loss_plot(all_coords_rf_serv, fold5_threshold_rf_serv, fold5_expected_loss_rf_serv)\n",
    "fig.save('/Users/jacopobinati/Desktop/Prediction ML/assignment 3/visualisations/TASK2/loss_services.png')\n",
    "fig"
   ]
  },
  {
   "cell_type": "code",
   "execution_count": 238,
   "metadata": {},
   "outputs": [
    {
     "data": {
      "image/png": "[encoded data removed]",
      "text/plain": [
       "<Figure size 640x480 with 1 Axes>"
      ]
     },
     "metadata": {
      "image/png": {
       "height": 480,
       "width": 640
      }
     },
     "output_type": "display_data"
    },
    {
     "data": {
      "text/plain": [
       "<Figure Size: (640 x 480)>"
      ]
     },
     "execution_count": 238,
     "metadata": {},
     "output_type": "execute_result"
    }
   ],
   "source": [
    "fig = create_roc_plot_with_optimal(all_coords_rf_serv, fold5_threshold_rf_serv)\n",
    "fig.save('/Users/jacopobinati/Desktop/Prediction ML/assignment 3/visualisations/TASK2/ROC_optimal_services.png')\n",
    "fig"
   ]
  }
 ],
 "metadata": {
  "kernelspec": {
   "display_name": "Python 3",
   "language": "python",
   "name": "python3"
  },
  "language_info": {
   "codemirror_mode": {
    "name": "ipython",
    "version": 3
   },
   "file_extension": ".py",
   "mimetype": "text/x-python",
   "name": "python",
   "nbconvert_exporter": "python",
   "pygments_lexer": "ipython3",
   "version": "3.9.17"
  }
 },
 "nbformat": 4,
 "nbformat_minor": 2
}
