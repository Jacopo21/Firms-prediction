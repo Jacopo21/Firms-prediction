{
 "cells": [
  {
   "cell_type": "code",
   "execution_count": 248,
   "metadata": {},
   "outputs": [],
   "source": [
    "import os\n",
    "import sys\n",
    "import warnings\n",
    "\n",
    "import matplotlib.pyplot as plt\n",
    "import numpy as np\n",
    "import pandas as pd\n",
    "import patsy\n",
    "import sklearn.metrics as metrics\n",
    "import statsmodels.formula.api as smf\n",
    "from plotnine import *\n",
    "from sklearn.ensemble import RandomForestClassifier\n",
    "from sklearn.linear_model import (\n",
    "    LinearRegression,\n",
    "    LogisticRegression,\n",
    "    LogisticRegressionCV,\n",
    ")\n",
    "from sklearn.metrics import (\n",
    "    auc,\n",
    "    brier_score_loss,\n",
    "    confusion_matrix,\n",
    "    mean_squared_error,\n",
    "    roc_auc_score,\n",
    "    roc_curve,\n",
    ")\n",
    "from sklearn.model_selection import GridSearchCV, KFold, train_test_split\n",
    "from sklearn.preprocessing import StandardScaler\n",
    "from statsmodels.tools.eval_measures import rmse\n",
    "warnings.filterwarnings(\"ignore\")"
   ]
  },
  {
   "cell_type": "code",
   "execution_count": 249,
   "metadata": {},
   "outputs": [],
   "source": [
    "data = pd.read_csv(\"/Users/jacopobinati/Desktop/Prediction ML/assignment 3/datafinal2.csv\")"
   ]
  },
  {
   "cell_type": "markdown",
   "metadata": {},
   "source": [
    "## Define helper functions"
   ]
  },
  {
   "cell_type": "code",
   "execution_count": 250,
   "metadata": {},
   "outputs": [],
   "source": [
    "color=['#406390', 'green']\n",
    "def regression_results(y_true, y_pred):\n",
    "    \n",
    "    # Regression metrics\n",
    "    explained_variance=metrics.explained_variance_score(y_true, y_pred)\n",
    "    mean_absolute_error=metrics.mean_absolute_error(y_true, y_pred) \n",
    "    mse=metrics.mean_squared_error(y_true, y_pred) \n",
    "    median_absolute_error=metrics.median_absolute_error(y_true, y_pred)\n",
    "    r2=metrics.r2_score(y_true, y_pred)\n",
    "\n",
    "    print('explained_variance: ', round(explained_variance,4))    \n",
    "    print('r2: ', round(r2,4))\n",
    "    print('MAE: ', round(mean_absolute_error,4))\n",
    "    print('MSE: ', round(mse,4))\n",
    "    print('RMSE: ', round(np.sqrt(mse),4))\n",
    "    \n",
    "def coef_matrix(X, model):\n",
    "\n",
    "    coef_matrix = pd.concat([pd.DataFrame(X.columns),pd.DataFrame(np.transpose(model.coef_))], axis = 1)\n",
    "    coef_matrix.columns = ['variable', 'coefficient']\n",
    "    coef_matrix = coef_matrix.append({'variable': 'Intercept', 'coefficient': np.asscalar(model.intercept_)}, ignore_index=True)\n",
    "    return(coef_matrix)\n",
    "\n",
    "def cv_summary(lambdas, C_values, model):\n",
    "    d = {'lambdas': lambdas, 'C_values': C_values, 'mean_cv_score': model.scores_[1].mean(axis = 0)}\n",
    "    return(pd.DataFrame(data=d))\n",
    "\n",
    "def create_roc_plot(y_true, y_pred):\n",
    "    fpr, tpr, thresholds = roc_curve(y_true, y_pred)\n",
    "    all_coords = pd.DataFrame({\n",
    "        'fpr': fpr,\n",
    "        'tpr': tpr,\n",
    "        'thresholds': thresholds\n",
    "    })\n",
    "    \n",
    "    plot = ggplot(all_coords, aes(x = 'fpr', y = 'tpr')) \\\n",
    "        + geom_line(color=color[0], size = 0.7) \\\n",
    "        + geom_area(position = 'identity', fill = 'mediumaquamarine', alpha = 0.3) \\\n",
    "        + xlab(\"False Positive Rate (1-Specifity)\") \\\n",
    "        + ylab(\"True Positive Rate (Sensitivity)\") \\\n",
    "        + geom_abline(intercept = 0, slope = 1,  linetype = \"dotted\", color = \"black\") \\\n",
    "        + scale_y_continuous(limits = (0, 1), breaks = (0, 1, .1), expand = (0, 0.01)) \\\n",
    "        + scale_x_continuous(limits = (0, 1), breaks = (0, 1, .1), expand = (0.01, 0)) \\\n",
    "        + theme_bw()\n",
    "    return(plot)\n",
    "\n",
    "def sigmoid_array(x):\n",
    "    return(1 / (1 + np.exp(-x)))\n",
    "\n",
    "def generate_fold_prediction(model, X, fold, param_index):\n",
    "    fold_coef = model.coefs_paths_[1][fold,param_index,:]\n",
    "    return(sigmoid_array(np.dot(X, np.transpose(fold_coef)[:-1]) +  np.transpose(fold_coef)[-1]))\n",
    "\n",
    "def create_loss_plot(all_coords, optimal_threshold, curr_exp_loss):\n",
    "    all_coords_copy = all_coords.copy()\n",
    "    all_coords_copy['loss'] = (all_coords_copy.false_pos*FP + all_coords_copy.false_neg*FN)/all_coords_copy.n\n",
    "    \n",
    "    t = optimal_threshold\n",
    "    l = curr_exp_loss\n",
    "    \n",
    "    plot = ggplot(all_coords_copy, aes(x = 'thresholds', y = 'loss')) + \\\n",
    "        geom_line(color=color[0], size=0.7) + \\\n",
    "        scale_x_continuous(breaks=np.arange(0, 1.1, 0.1)) + \\\n",
    "        coord_cartesian(xlim=(0,1))+ \\\n",
    "        geom_vline(xintercept = t , color = color[0] ) + \\\n",
    "        annotate(geom = \"text\", x = t - 0.01, y= max(all_coords_copy.loss) - 0.4,\n",
    "                 label=\"best threshold: \" + str(round(t,2)),\n",
    "                 colour=color[1], angle=90, size = 7) +\\\n",
    "        annotate(geom = \"text\", x = t + 0.06, y= l,\\\n",
    "                 label= str(round(l, 2)), size = 7) +\\\n",
    "        theme_bw()\n",
    "    return(plot)\n",
    "\n",
    "\n",
    "def create_roc_plot_with_optimal(all_coords, optimal_threshold):\n",
    "    all_coords_copy = all_coords.copy()\n",
    "    all_coords_copy['sp'] = all_coords_copy.true_neg/all_coords_copy.neg\n",
    "    all_coords_copy['se'] = all_coords_copy.true_pos/all_coords_copy.pos\n",
    "    \n",
    "    best_coords = all_coords_copy[all_coords_copy.thresholds == optimal_threshold]\n",
    "    sp = best_coords.sp.values[0]\n",
    "    se = best_coords.se.values[0]\n",
    "\n",
    "    plot = ggplot(all_coords_copy, aes(x = 'sp', y = 'se')) +\\\n",
    "        geom_line(color=color[0], size=0.7) +\\\n",
    "        scale_y_continuous(breaks=np.arange(0, 1.1, 0.1)) +\\\n",
    "        scale_x_reverse(breaks=np.arange(0, 1.1, 0.1)) +\\\n",
    "        geom_point(data = pd.DataFrame({'sp': [sp], 'se': [se]})) +\\\n",
    "        annotate(geom = \"text\", x = sp, y = se + 0.03,\n",
    "                 label = str(round(sp, 2)) + ', ' + str(round(se, 2)), size = 7) +\\\n",
    "        theme_bw()\n",
    "    return(plot)"
   ]
  },
  {
   "cell_type": "markdown",
   "metadata": {},
   "source": [
    "## Define variable sets "
   ]
  },
  {
   "cell_type": "code",
   "execution_count": 251,
   "metadata": {},
   "outputs": [],
   "source": [
    "variable1 = [\"curr_assets\", \"curr_liab\", \"extra_exp\", \"extra_inc\", \"extra_profit_loss\", \"fixed_assets\",\n",
    "              \"inc_bef_tax\", \"intang_assets\", \"inventories\", \"liq_assets\", \"material_exp\", \"personnel_exp\",\n",
    "              \"profit_loss_year\", \"sales\", \"share_eq\", \"subscribed_cap\"]\n",
    "qualityvars = [\"balsheet_flag\", \"balsheet_length\", \"balsheet_notfullyear\"]\n",
    "engvar = [\"total_assets_bs\", \"fixed_assets_bs\", \"liq_assets_bs\", \"curr_assets_bs\",\n",
    "            \"share_eq_bs\", \"subscribed_cap_bs\", \"intang_assets_bs\", \"extra_exp_pl\",\n",
    "            \"extra_inc_pl\", \"extra_profit_loss_pl\", \"inc_bef_tax_pl\", \"inventories_pl\",\n",
    "            \"material_exp_pl\", \"personnel_exp_pl\"]\n",
    "engvar2 = [\"extra_profit_loss_pl_quad\", \"inc_bef_tax_pl_quad\",\n",
    "             \"profit_loss_year_pl_quad\", \"share_eq_bs_quad\"]\n",
    "engvar3=[]\n",
    "for col in data.columns:\n",
    "    if col.endswith('flag_low') or col.endswith('flag_high') or col.endswith('flag_error') or col.endswith('flag_zero'):\n",
    "        engvar3.append(col)\n",
    "\n",
    "\n",
    "hr = [\"female\", \"ceo_age\", \"flag_high_ceo_age\", \"flag_low_ceo_age\",\n",
    "        \"flag_miss_ceo_age\", \"ceo_count\", \"labor_avg_mod\",\n",
    "        \"flag_miss_labor_avg\", \"foreign_management\"]"
   ]
  },
  {
   "cell_type": "code",
   "execution_count": 252,
   "metadata": {},
   "outputs": [],
   "source": [
    "ind2_catmat = patsy.dmatrix(\"0 + C(ind2_cat)\",data, return_type=\"dataframe\")\n",
    "ind2_catmat = ind2_catmat.drop(['C(ind2_cat)[26.0]'], axis=1)\n",
    "\n",
    "m_region_locmat = patsy.dmatrix(\"0 + C(m_region_loc)\",data, return_type=\"dataframe\")\n",
    "m_region_locmat = m_region_locmat.drop(['C(m_region_loc)[Central]'], axis=1)\n",
    "\n",
    "urban_mmat = patsy.dmatrix(\"0 + C(urban_m)\",data, return_type=\"dataframe\")\n",
    "urban_mmat = urban_mmat.drop(['C(urban_m)[1.0]'], axis=1)"
   ]
  },
  {
   "cell_type": "code",
   "execution_count": 253,
   "metadata": {},
   "outputs": [],
   "source": [
    "basevars = data[[\"profit_loss_year_pl\", \"profit_loss_year2_pl\"]]\n",
    "P1 = pd.concat([basevars, ind2_catmat], axis=1)\n",
    "P2additional_vars = data[[\"fixed_assets_bs\", \"share_eq_bs\",\"curr_liab_bs\", \"curr_liab_bs_flag_high\", \\\n",
    "                          \"curr_liab_bs_flag_error\",  \"age\", \"foreign_management\"]]\n",
    "P2 = pd.concat([P1, P2additional_vars], axis=1)\n",
    "firm = pd.concat([data[[\"age\", \"age2\", \"new\"]], ind2_catmat, m_region_locmat, urban_mmat], axis=1)\n",
    "P3 = pd.concat([data[[\"profit_loss_year_pl\", \"profit_loss_year2_pl\"] + engvar], firm], axis=1)\n",
    "P4 = pd.concat([data[[\"profit_loss_year_pl\", \"profit_loss_year2_pl\"] + engvar \\\n",
    "                                 + engvar2 + engvar3 + hr + qualityvars], firm], axis=1)"
   ]
  },
  {
   "cell_type": "code",
   "execution_count": 254,
   "metadata": {},
   "outputs": [],
   "source": [
    "int1mat = patsy.dmatrix(\"0 + C(ind2_cat):age + C(ind2_cat):age2 + C(ind2_cat):total_assets_bs \\\n",
    "                + C(ind2_cat):sales_mil_log + C(ind2_cat):ceo_age + C(ind2_cat):foreign_management \\\n",
    "                + C(ind2_cat):female + C(ind2_cat):C(urban_m) + C(ind2_cat):labor_avg_mod \\\n",
    "                + foreign_management:female + foreign_management:ceo_young\", data, return_type=\"dataframe\")\n",
    "for col in int1mat.columns:\n",
    "    if col.startswith('C(ind2_cat)[26.0]') or col.endswith('C(urban_m)[1.0]'):\n",
    "        int1mat = int1mat.drop([col], axis=1)\n",
    "        \n",
    "int2mat = patsy.dmatrix(\"0 + profit_loss_year_pl:age + profit_loss_year_pl:female + C(urban_m):foreign_management\", data, return_type=\"dataframe\")\n",
    "P5 = pd.concat([P4, int1mat, int2mat], axis=1)"
   ]
  },
  {
   "cell_type": "code",
   "execution_count": 255,
   "metadata": {},
   "outputs": [],
   "source": [
    "# Define logitvars for LASSO\n",
    "logitvars = pd.concat([P5], axis=1)\n",
    "\n",
    "# for Random Forest we don't use interactions\n",
    "rfvars  = pd.concat([data[[\"profit_loss_year_pl\", \"profit_loss_year2_pl\"] + variable1 + hr + qualityvars], firm], axis=1)\n",
    "\n",
    "y = data['fast_growth']"
   ]
  },
  {
   "cell_type": "code",
   "execution_count": 256,
   "metadata": {},
   "outputs": [],
   "source": [
    "index_train, index_holdout= train_test_split(\n",
    "    data.index.values, train_size=round(0.8*len(data.index)), random_state=42)\n",
    "\n",
    "y_train = y.iloc[index_train]\n",
    "y_holdout = y.iloc[index_holdout]"
   ]
  },
  {
   "cell_type": "code",
   "execution_count": 257,
   "metadata": {},
   "outputs": [],
   "source": [
    "data = data.query(\"year==2013 & status_alive == 1\")"
   ]
  },
  {
   "cell_type": "code",
   "execution_count": 258,
   "metadata": {},
   "outputs": [
    {
     "name": "stdout",
     "output_type": "stream",
     "text": [
      "year                       0\n",
      "comp_id                    0\n",
      "begin                      0\n",
      "end                        0\n",
      "amort                      0\n",
      "                          ..\n",
      "f_d1_sales_mil_log_low     0\n",
      "f_d1_sales_mil_log_high    0\n",
      "d1_sales_mil_log_mod       0\n",
      "d1_sales_mil_log_mod_sq    0\n",
      "fast_growth                0\n",
      "Length: 121, dtype: int64\n"
     ]
    }
   ],
   "source": [
    "x = data.isna().sum()\n",
    "print(x)"
   ]
  },
  {
   "cell_type": "markdown",
   "metadata": {},
   "source": [
    "# TASK 1"
   ]
  },
  {
   "cell_type": "markdown",
   "metadata": {},
   "source": [
    "# Let's build the models"
   ]
  },
  {
   "cell_type": "markdown",
   "metadata": {},
   "source": [
    "## Logit"
   ]
  },
  {
   "cell_type": "code",
   "execution_count": 259,
   "metadata": {},
   "outputs": [],
   "source": [
    "C_value_logit=[1e20]"
   ]
  },
  {
   "cell_type": "code",
   "execution_count": 260,
   "metadata": {},
   "outputs": [],
   "source": [
    "logit_model_vars = [P1.iloc[index_train], P2.iloc[index_train], P3.iloc[index_train], P4.iloc[index_train], P5.iloc[index_train]]\n",
    "\n",
    "logit_models = dict()\n",
    "CV_RMSE_folds = dict()\n",
    "\n",
    "for i in range(len(logit_model_vars)):\n",
    "    LRCV_brier = LogisticRegressionCV(Cs=C_value_logit, cv=5, refit=True, scoring='neg_brier_score', \n",
    "                            solver=\"newton-cg\", tol=1e-7, random_state=42)\n",
    "    logit_models['M'+str(i+1)] = LRCV_brier.fit(logit_model_vars[i], y_train)\n",
    "    # Calculate RMSE on test for each fold\n",
    "    CV_RMSE_folds['M'+str(i+1)] = np.sqrt(-1*(logit_models['M'+str(i+1)].scores_[1])).tolist()"
   ]
  },
  {
   "cell_type": "markdown",
   "metadata": {},
   "source": [
    "## LASSO"
   ]
  },
  {
   "cell_type": "code",
   "execution_count": 261,
   "metadata": {},
   "outputs": [],
   "source": [
    "normalized_logitvars=pd.DataFrame(StandardScaler().fit_transform(logitvars.iloc[index_train]))\n",
    "normalized_logitvars.columns=logitvars.columns"
   ]
  },
  {
   "cell_type": "code",
   "execution_count": 262,
   "metadata": {},
   "outputs": [],
   "source": [
    "lambdas=list(10**np.arange(-1,-4.01, -1/3))\n",
    "n_obs = normalized_logitvars.shape[0]*4/5\n",
    "C_values = [1/(l*n_obs) for l in lambdas]\n",
    "\n",
    "logLasso = LogisticRegressionCV(Cs=C_values, penalty='l1', cv=5, refit=True, scoring='accuracy', solver='liblinear', \n",
    "                                n_jobs=-1, random_state=42)"
   ]
  },
  {
   "cell_type": "code",
   "execution_count": 263,
   "metadata": {},
   "outputs": [],
   "source": [
    "logit_models[\"LASSO\"] = logLasso.fit(normalized_logitvars, y_train)"
   ]
  },
  {
   "cell_type": "code",
   "execution_count": 264,
   "metadata": {},
   "outputs": [
    {
     "data": {
      "text/html": [
       "<div>\n",
       "<style scoped>\n",
       "    .dataframe tbody tr th:only-of-type {\n",
       "        vertical-align: middle;\n",
       "    }\n",
       "\n",
       "    .dataframe tbody tr th {\n",
       "        vertical-align: top;\n",
       "    }\n",
       "\n",
       "    .dataframe thead th {\n",
       "        text-align: right;\n",
       "    }\n",
       "</style>\n",
       "<table border=\"1\" class=\"dataframe\">\n",
       "  <thead>\n",
       "    <tr style=\"text-align: right;\">\n",
       "      <th></th>\n",
       "      <th>lambdas</th>\n",
       "      <th>C_values</th>\n",
       "      <th>mean_cv_score</th>\n",
       "    </tr>\n",
       "  </thead>\n",
       "  <tbody>\n",
       "    <tr>\n",
       "      <th>0</th>\n",
       "      <td>0.100000</td>\n",
       "      <td>0.000274</td>\n",
       "      <td>0.699549</td>\n",
       "    </tr>\n",
       "    <tr>\n",
       "      <th>1</th>\n",
       "      <td>0.046416</td>\n",
       "      <td>0.000590</td>\n",
       "      <td>0.727796</td>\n",
       "    </tr>\n",
       "    <tr>\n",
       "      <th>2</th>\n",
       "      <td>0.021544</td>\n",
       "      <td>0.001270</td>\n",
       "      <td>0.733687</td>\n",
       "    </tr>\n",
       "    <tr>\n",
       "      <th>3</th>\n",
       "      <td>0.010000</td>\n",
       "      <td>0.002737</td>\n",
       "      <td>0.741876</td>\n",
       "    </tr>\n",
       "    <tr>\n",
       "      <th>4</th>\n",
       "      <td>0.004642</td>\n",
       "      <td>0.005897</td>\n",
       "      <td>0.745927</td>\n",
       "    </tr>\n",
       "    <tr>\n",
       "      <th>5</th>\n",
       "      <td>0.002154</td>\n",
       "      <td>0.012705</td>\n",
       "      <td>0.747241</td>\n",
       "    </tr>\n",
       "    <tr>\n",
       "      <th>6</th>\n",
       "      <td>0.001000</td>\n",
       "      <td>0.027371</td>\n",
       "      <td>0.748708</td>\n",
       "    </tr>\n",
       "    <tr>\n",
       "      <th>7</th>\n",
       "      <td>0.000464</td>\n",
       "      <td>0.058970</td>\n",
       "      <td>0.749934</td>\n",
       "    </tr>\n",
       "    <tr>\n",
       "      <th>8</th>\n",
       "      <td>0.000215</td>\n",
       "      <td>0.127047</td>\n",
       "      <td>0.750306</td>\n",
       "    </tr>\n",
       "    <tr>\n",
       "      <th>9</th>\n",
       "      <td>0.000100</td>\n",
       "      <td>0.273715</td>\n",
       "      <td>0.749978</td>\n",
       "    </tr>\n",
       "  </tbody>\n",
       "</table>\n",
       "</div>"
      ],
      "text/plain": [
       "    lambdas  C_values  mean_cv_score\n",
       "0  0.100000  0.000274       0.699549\n",
       "1  0.046416  0.000590       0.727796\n",
       "2  0.021544  0.001270       0.733687\n",
       "3  0.010000  0.002737       0.741876\n",
       "4  0.004642  0.005897       0.745927\n",
       "5  0.002154  0.012705       0.747241\n",
       "6  0.001000  0.027371       0.748708\n",
       "7  0.000464  0.058970       0.749934\n",
       "8  0.000215  0.127047       0.750306\n",
       "9  0.000100  0.273715       0.749978"
      ]
     },
     "execution_count": 264,
     "metadata": {},
     "output_type": "execute_result"
    }
   ],
   "source": [
    "cv_summary_lasso = cv_summary(lambdas, C_values, logit_models[\"LASSO\"])\n",
    "cv_summary_lasso"
   ]
  },
  {
   "cell_type": "code",
   "execution_count": 265,
   "metadata": {},
   "outputs": [],
   "source": [
    "best_lambda = cv_summary_lasso.sort_values('mean_cv_score', ascending = False).iloc[0,0]"
   ]
  },
  {
   "cell_type": "code",
   "execution_count": 266,
   "metadata": {},
   "outputs": [],
   "source": [
    "logLasso_brier = LogisticRegressionCV(Cs=C_values, penalty='l1', cv=5, refit=True, scoring='neg_brier_score', \n",
    "                            solver=\"liblinear\", random_state=42)\n",
    "logLasso_brier_fitted = logLasso_brier.fit(normalized_logitvars, y_train)"
   ]
  },
  {
   "cell_type": "code",
   "execution_count": 267,
   "metadata": {},
   "outputs": [],
   "source": [
    "for i, l in enumerate(lambdas):\n",
    "    if l == best_lambda:\n",
    "        best_lambda_i = i\n",
    "        CV_RMSE_folds['LASSO'] = np.sqrt(-1*(logLasso_brier_fitted.scores_[1][:,i])).tolist()"
   ]
  },
  {
   "cell_type": "code",
   "execution_count": 268,
   "metadata": {},
   "outputs": [],
   "source": [
    "CV_AUC_folds = dict()\n",
    "for i in range(len(logit_model_vars)):\n",
    "    LRCV_auc = LogisticRegressionCV(Cs=C_value_logit, cv=5, refit=True, scoring='roc_auc', \n",
    "                            solver=\"newton-cg\", tol=1e-7, random_state=42)\n",
    "    LRCV_auc_fit = LRCV_auc.fit(logit_model_vars[i], y_train)\n",
    "    CV_AUC_folds['M'+str(i+1)] = LRCV_auc_fit.scores_[1][:,0].tolist()"
   ]
  },
  {
   "cell_type": "code",
   "execution_count": 269,
   "metadata": {},
   "outputs": [],
   "source": [
    "logLasso_auc = LogisticRegressionCV(Cs=C_values, penalty='l1', cv=5, refit=True, scoring='roc_auc', \n",
    "                            solver=\"liblinear\", random_state=42)\n",
    "logLasso_auc_fitted = logLasso_auc.fit(normalized_logitvars, y_train)\n",
    "CV_AUC_folds['LASSO'] = logLasso_auc_fitted.scores_[1][:,best_lambda_i].tolist()"
   ]
  },
  {
   "cell_type": "code",
   "execution_count": 270,
   "metadata": {},
   "outputs": [],
   "source": [
    "CV_RMSE = dict()\n",
    "CV_AUC = dict()\n",
    "nvars = dict()\n",
    "\n",
    "for key in logit_models:\n",
    "    CV_RMSE[key] = np.mean(CV_RMSE_folds[key])\n",
    "    CV_AUC[key] = np.mean(CV_AUC_folds[key])\n",
    "    \n",
    "for key in logit_models:\n",
    "    if key != 'LASSO':\n",
    "        nvars[key] = logit_models[key].n_features_in_\n",
    "    else:\n",
    "        nvars[key] = sum(x != 0 for x in logit_models[key].coef_[0].tolist())"
   ]
  },
  {
   "cell_type": "markdown",
   "metadata": {},
   "source": [
    "## Random Forest"
   ]
  },
  {
   "cell_type": "code",
   "execution_count": 271,
   "metadata": {},
   "outputs": [],
   "source": [
    "rfvars_train = rfvars.iloc[index_train]\n",
    "rfvars_holdout = rfvars.iloc[index_holdout]"
   ]
  },
  {
   "cell_type": "markdown",
   "metadata": {},
   "source": [
    "The grid is chosen as below. The best performing parameters are used for later"
   ]
  },
  {
   "cell_type": "code",
   "execution_count": 272,
   "metadata": {},
   "outputs": [],
   "source": [
    "grid = {'max_features': [5, 6, 7],\n",
    "        'criterion':['gini'],\n",
    "        'min_samples_split': [10, 11]}\n",
    "\n",
    "\n",
    "prob_forest = RandomForestClassifier(random_state=42, n_estimators=100, oob_score=True)\n",
    "prob_forest_grid = GridSearchCV(prob_forest, grid, cv=5, refit='accuracy',\n",
    "                                scoring = ['accuracy', 'roc_auc', 'neg_brier_score'], n_jobs=-1)"
   ]
  },
  {
   "cell_type": "code",
   "execution_count": 273,
   "metadata": {},
   "outputs": [],
   "source": [
    "prob_forest_fit = prob_forest_grid.fit(rfvars_train, y_train)"
   ]
  },
  {
   "cell_type": "code",
   "execution_count": 274,
   "metadata": {},
   "outputs": [
    {
     "data": {
      "text/html": [
       "<div>\n",
       "<style scoped>\n",
       "    .dataframe tbody tr th:only-of-type {\n",
       "        vertical-align: middle;\n",
       "    }\n",
       "\n",
       "    .dataframe tbody tr th {\n",
       "        vertical-align: top;\n",
       "    }\n",
       "\n",
       "    .dataframe thead th {\n",
       "        text-align: right;\n",
       "    }\n",
       "</style>\n",
       "<table border=\"1\" class=\"dataframe\">\n",
       "  <thead>\n",
       "    <tr style=\"text-align: right;\">\n",
       "      <th></th>\n",
       "      <th>max_features</th>\n",
       "      <th>min_samples_split</th>\n",
       "      <th>cv_accuracy</th>\n",
       "      <th>cv_auc</th>\n",
       "      <th>cv_rmse</th>\n",
       "    </tr>\n",
       "  </thead>\n",
       "  <tbody>\n",
       "    <tr>\n",
       "      <th>0</th>\n",
       "      <td>5</td>\n",
       "      <td>10</td>\n",
       "      <td>0.767</td>\n",
       "      <td>0.786</td>\n",
       "      <td>0.403</td>\n",
       "    </tr>\n",
       "    <tr>\n",
       "      <th>1</th>\n",
       "      <td>5</td>\n",
       "      <td>11</td>\n",
       "      <td>0.768</td>\n",
       "      <td>0.787</td>\n",
       "      <td>0.403</td>\n",
       "    </tr>\n",
       "    <tr>\n",
       "      <th>2</th>\n",
       "      <td>6</td>\n",
       "      <td>10</td>\n",
       "      <td>0.767</td>\n",
       "      <td>0.789</td>\n",
       "      <td>0.403</td>\n",
       "    </tr>\n",
       "    <tr>\n",
       "      <th>3</th>\n",
       "      <td>6</td>\n",
       "      <td>11</td>\n",
       "      <td>0.767</td>\n",
       "      <td>0.787</td>\n",
       "      <td>0.403</td>\n",
       "    </tr>\n",
       "    <tr>\n",
       "      <th>4</th>\n",
       "      <td>7</td>\n",
       "      <td>10</td>\n",
       "      <td>0.768</td>\n",
       "      <td>0.788</td>\n",
       "      <td>0.403</td>\n",
       "    </tr>\n",
       "    <tr>\n",
       "      <th>5</th>\n",
       "      <td>7</td>\n",
       "      <td>11</td>\n",
       "      <td>0.767</td>\n",
       "      <td>0.790</td>\n",
       "      <td>0.402</td>\n",
       "    </tr>\n",
       "  </tbody>\n",
       "</table>\n",
       "</div>"
      ],
      "text/plain": [
       "  max_features min_samples_split  cv_accuracy  cv_auc  cv_rmse\n",
       "0            5                10        0.767   0.786    0.403\n",
       "1            5                11        0.768   0.787    0.403\n",
       "2            6                10        0.767   0.789    0.403\n",
       "3            6                11        0.767   0.787    0.403\n",
       "4            7                10        0.768   0.788    0.403\n",
       "5            7                11        0.767   0.790    0.402"
      ]
     },
     "execution_count": 274,
     "metadata": {},
     "output_type": "execute_result"
    }
   ],
   "source": [
    "cv_accuracy = np.mean([prob_forest_fit.cv_results_[f'split{i}_test_accuracy'] for i in range(5)], axis=0)\n",
    "cv_auc = np.mean([prob_forest_fit.cv_results_[f'split{i}_test_roc_auc'] for i in range(5)], axis=0)\n",
    "cv_rmse = np.mean([np.sqrt(-1 * prob_forest_fit.cv_results_[f'split{i}_test_neg_brier_score']) for i in range(5)], axis=0)\n",
    "\n",
    "prob_forest_cv_results = pd.DataFrame({\n",
    "    'max_features': prob_forest_fit.cv_results_['param_max_features'],\n",
    "    'min_samples_split': prob_forest_fit.cv_results_['param_min_samples_split'],\n",
    "    'cv_accuracy': cv_accuracy,\n",
    "    'cv_auc': cv_auc,\n",
    "    'cv_rmse': cv_rmse\n",
    "})\n",
    "\n",
    "prob_forest_cv_results.round(3)"
   ]
  },
  {
   "cell_type": "code",
   "execution_count": 275,
   "metadata": {},
   "outputs": [
    {
     "data": {
      "text/plain": [
       "{'criterion': 'gini', 'max_features': 7, 'min_samples_split': 10}"
      ]
     },
     "execution_count": 275,
     "metadata": {},
     "output_type": "execute_result"
    }
   ],
   "source": [
    "#obtain optimal parameter values\n",
    "best_mtry = prob_forest_fit.best_params_['max_features']\n",
    "best_min_node_size = prob_forest_fit.best_params_['min_samples_split']\n",
    "prob_forest_fit.best_params_"
   ]
  },
  {
   "cell_type": "code",
   "execution_count": 276,
   "metadata": {},
   "outputs": [],
   "source": [
    "prob_forest_best_results = prob_forest_cv_results[(prob_forest_cv_results.max_features == best_mtry) & \n",
    "                      (prob_forest_cv_results.min_samples_split == best_min_node_size)]\n",
    "prob_forest_best_results_index = prob_forest_best_results.index.values[0]\n",
    "\n",
    "CV_RMSE['randomforestprob'] = prob_forest_best_results.cv_rmse.values[0]\n",
    "CV_AUC['randomforestprob'] = prob_forest_best_results.cv_auc.values[0]"
   ]
  },
  {
   "cell_type": "code",
   "execution_count": 277,
   "metadata": {},
   "outputs": [],
   "source": [
    "CV_RMSE_folds_rf_p = list()\n",
    "for i in range(5):\n",
    "    rmse = np.sqrt(-1*(prob_forest_fit.cv_results_['split' + str(i) + '_test_neg_brier_score'])).tolist()[prob_forest_best_results_index]\n",
    "    CV_RMSE_folds_rf_p.append(rmse)\n",
    "CV_RMSE_folds['rf_p'] = CV_RMSE_folds_rf_p\n",
    "\n",
    "CV_AUC_folds_rf_p = list()\n",
    "for i in range(5):\n",
    "    rmse = prob_forest_fit.cv_results_['split' + str(i) + '_test_roc_auc'][prob_forest_best_results_index]\n",
    "    CV_AUC_folds_rf_p.append(rmse)\n",
    "CV_AUC_folds['randomforestprob'] = CV_AUC_folds_rf_p"
   ]
  },
  {
   "cell_type": "markdown",
   "metadata": {},
   "source": [
    "## CART (this is just a try with an extra model - not in the true analysis)"
   ]
  },
  {
   "cell_type": "code",
   "execution_count": 278,
   "metadata": {},
   "outputs": [
    {
     "name": "stdout",
     "output_type": "stream",
     "text": [
      "RMSE (Cross-Validated): 0.5479044829324737\n",
      "AUC (Cross-Validated): 0.5\n"
     ]
    }
   ],
   "source": [
    "from sklearn.tree import DecisionTreeClassifier\n",
    "from sklearn.model_selection import cross_val_score\n",
    "from sklearn.metrics import mean_squared_error, roc_auc_score\n",
    "\n",
    "# Create a new dataframe with the required columns for CART\n",
    "cart_data = data[['year', 'fast_growth']]\n",
    "\n",
    "# Split the data into features (X) and target variable (y)\n",
    "X = cart_data.drop('fast_growth', axis=1)\n",
    "y = cart_data['fast_growth']\n",
    "\n",
    "# Create and fit the CART model\n",
    "model = DecisionTreeClassifier(max_depth=2, min_samples_split=5, min_samples_leaf=2, max_features='sqrt')\n",
    "model.fit(X, y)\n",
    "# Perform cross-validation and calculate RMSE and AUC\n",
    "rmse_scores = np.sqrt(-cross_val_score(model, X, y, cv=5, scoring='neg_mean_squared_error'))\n",
    "auc_scores = cross_val_score(model, X, y, cv=5, scoring='roc_auc')\n",
    "\n",
    "# Display the RMSE and AUC\n",
    "print('RMSE (Cross-Validated):', np.mean(rmse_scores))\n",
    "print('AUC (Cross-Validated):', np.mean(auc_scores))\n"
   ]
  },
  {
   "cell_type": "code",
   "execution_count": 344,
   "metadata": {},
   "outputs": [],
   "source": [
    "## use also CART\n",
    "summary_results2 = pd.DataFrame({\"Model\": list(nvars.keys()) + ['CART'],\n",
    "                              \"Number of predictors\": list(nvars.values()) + [len(X.columns)],\n",
    "                              \"CV RMSE\": list(CV_RMSE.values()) + [np.mean(rmse_scores)],\n",
    "                              \"CV AUC\": list(CV_AUC.values()) + [np.mean(auc_scores)]\n",
    "                               })\n"
   ]
  },
  {
   "cell_type": "code",
   "execution_count": 280,
   "metadata": {},
   "outputs": [
    {
     "data": {
      "text/html": [
       "<div>\n",
       "<style scoped>\n",
       "    .dataframe tbody tr th:only-of-type {\n",
       "        vertical-align: middle;\n",
       "    }\n",
       "\n",
       "    .dataframe tbody tr th {\n",
       "        vertical-align: top;\n",
       "    }\n",
       "\n",
       "    .dataframe thead th {\n",
       "        text-align: right;\n",
       "    }\n",
       "</style>\n",
       "<table border=\"1\" class=\"dataframe\">\n",
       "  <thead>\n",
       "    <tr style=\"text-align: right;\">\n",
       "      <th></th>\n",
       "      <th>Model</th>\n",
       "      <th>Number of predictors</th>\n",
       "      <th>CV RMSE</th>\n",
       "      <th>CV AUC</th>\n",
       "    </tr>\n",
       "  </thead>\n",
       "  <tbody>\n",
       "    <tr>\n",
       "      <th>0</th>\n",
       "      <td>M1</td>\n",
       "      <td>9</td>\n",
       "      <td>0.456</td>\n",
       "      <td>0.621</td>\n",
       "    </tr>\n",
       "    <tr>\n",
       "      <th>1</th>\n",
       "      <td>M2</td>\n",
       "      <td>16</td>\n",
       "      <td>0.444</td>\n",
       "      <td>0.649</td>\n",
       "    </tr>\n",
       "    <tr>\n",
       "      <th>2</th>\n",
       "      <td>M3</td>\n",
       "      <td>30</td>\n",
       "      <td>0.423</td>\n",
       "      <td>0.734</td>\n",
       "    </tr>\n",
       "    <tr>\n",
       "      <th>3</th>\n",
       "      <td>M4</td>\n",
       "      <td>74</td>\n",
       "      <td>0.420</td>\n",
       "      <td>0.743</td>\n",
       "    </tr>\n",
       "    <tr>\n",
       "      <th>4</th>\n",
       "      <td>M5</td>\n",
       "      <td>151</td>\n",
       "      <td>0.423</td>\n",
       "      <td>0.736</td>\n",
       "    </tr>\n",
       "    <tr>\n",
       "      <th>5</th>\n",
       "      <td>LASSO</td>\n",
       "      <td>129</td>\n",
       "      <td>0.415</td>\n",
       "      <td>0.758</td>\n",
       "    </tr>\n",
       "    <tr>\n",
       "      <th>6</th>\n",
       "      <td>randomforestprob</td>\n",
       "      <td>44</td>\n",
       "      <td>0.403</td>\n",
       "      <td>0.788</td>\n",
       "    </tr>\n",
       "    <tr>\n",
       "      <th>7</th>\n",
       "      <td>CART</td>\n",
       "      <td>1</td>\n",
       "      <td>0.548</td>\n",
       "      <td>0.500</td>\n",
       "    </tr>\n",
       "  </tbody>\n",
       "</table>\n",
       "</div>"
      ],
      "text/plain": [
       "              Model  Number of predictors  CV RMSE  CV AUC\n",
       "0                M1                     9    0.456   0.621\n",
       "1                M2                    16    0.444   0.649\n",
       "2                M3                    30    0.423   0.734\n",
       "3                M4                    74    0.420   0.743\n",
       "4                M5                   151    0.423   0.736\n",
       "5             LASSO                   129    0.415   0.758\n",
       "6  randomforestprob                    44    0.403   0.788\n",
       "7              CART                     1    0.548   0.500"
      ]
     },
     "execution_count": 280,
     "metadata": {},
     "output_type": "execute_result"
    }
   ],
   "source": [
    "summary_results2.round(3)"
   ]
  },
  {
   "cell_type": "markdown",
   "metadata": {},
   "source": [
    "## Results"
   ]
  },
  {
   "cell_type": "code",
   "execution_count": 281,
   "metadata": {},
   "outputs": [],
   "source": [
    "nvars['randomforestprob'] = len(rfvars.columns)"
   ]
  },
  {
   "cell_type": "code",
   "execution_count": 282,
   "metadata": {},
   "outputs": [
    {
     "data": {
      "text/html": [
       "<div>\n",
       "<style scoped>\n",
       "    .dataframe tbody tr th:only-of-type {\n",
       "        vertical-align: middle;\n",
       "    }\n",
       "\n",
       "    .dataframe tbody tr th {\n",
       "        vertical-align: top;\n",
       "    }\n",
       "\n",
       "    .dataframe thead th {\n",
       "        text-align: right;\n",
       "    }\n",
       "</style>\n",
       "<table border=\"1\" class=\"dataframe\">\n",
       "  <thead>\n",
       "    <tr style=\"text-align: right;\">\n",
       "      <th></th>\n",
       "      <th>Model</th>\n",
       "      <th>Number of predictors</th>\n",
       "      <th>CV RMSE</th>\n",
       "      <th>CV AUC</th>\n",
       "    </tr>\n",
       "  </thead>\n",
       "  <tbody>\n",
       "    <tr>\n",
       "      <th>0</th>\n",
       "      <td>M1</td>\n",
       "      <td>9</td>\n",
       "      <td>0.456</td>\n",
       "      <td>0.621</td>\n",
       "    </tr>\n",
       "    <tr>\n",
       "      <th>1</th>\n",
       "      <td>M2</td>\n",
       "      <td>16</td>\n",
       "      <td>0.444</td>\n",
       "      <td>0.649</td>\n",
       "    </tr>\n",
       "    <tr>\n",
       "      <th>2</th>\n",
       "      <td>M3</td>\n",
       "      <td>30</td>\n",
       "      <td>0.423</td>\n",
       "      <td>0.734</td>\n",
       "    </tr>\n",
       "    <tr>\n",
       "      <th>3</th>\n",
       "      <td>M4</td>\n",
       "      <td>74</td>\n",
       "      <td>0.420</td>\n",
       "      <td>0.743</td>\n",
       "    </tr>\n",
       "    <tr>\n",
       "      <th>4</th>\n",
       "      <td>M5</td>\n",
       "      <td>151</td>\n",
       "      <td>0.423</td>\n",
       "      <td>0.736</td>\n",
       "    </tr>\n",
       "    <tr>\n",
       "      <th>5</th>\n",
       "      <td>LASSO</td>\n",
       "      <td>129</td>\n",
       "      <td>0.415</td>\n",
       "      <td>0.758</td>\n",
       "    </tr>\n",
       "    <tr>\n",
       "      <th>6</th>\n",
       "      <td>randomforestprob</td>\n",
       "      <td>44</td>\n",
       "      <td>0.403</td>\n",
       "      <td>0.788</td>\n",
       "    </tr>\n",
       "  </tbody>\n",
       "</table>\n",
       "</div>"
      ],
      "text/plain": [
       "              Model  Number of predictors  CV RMSE  CV AUC\n",
       "0                M1                     9    0.456   0.621\n",
       "1                M2                    16    0.444   0.649\n",
       "2                M3                    30    0.423   0.734\n",
       "3                M4                    74    0.420   0.743\n",
       "4                M5                   151    0.423   0.736\n",
       "5             LASSO                   129    0.415   0.758\n",
       "6  randomforestprob                    44    0.403   0.788"
      ]
     },
     "execution_count": 282,
     "metadata": {},
     "output_type": "execute_result"
    }
   ],
   "source": [
    "summary_results1 = pd.DataFrame({\"Model\": list(nvars.keys()),\n",
    "                              \"Number of predictors\": list(nvars.values()),\n",
    "                              \"CV RMSE\": list(CV_RMSE.values()),\n",
    "                              \"CV AUC\": list(CV_AUC.values())\n",
    "                               })\n",
    "\n",
    "summary_results1.round(3)"
   ]
  },
  {
   "cell_type": "markdown",
   "metadata": {},
   "source": [
    "# Classification\n",
    "### I define a loss function such that for a False Positive we will loose 100 thousand dollars while for a False Negative we will loose 60 thousand dollar. "
   ]
  },
  {
   "cell_type": "code",
   "execution_count": 283,
   "metadata": {},
   "outputs": [],
   "source": [
    "# Loss function\n",
    "# relative cost of a false negative classification (as compared with a false positive classification)\n",
    "FP = 100\n",
    "FN = 60\n",
    "cost = FN/FP\n",
    "prevalence = y_train.sum()/len(y_train)"
   ]
  },
  {
   "cell_type": "code",
   "execution_count": 284,
   "metadata": {},
   "outputs": [],
   "source": [
    "\n",
    "best_thresholds_cv = dict()\n",
    "expected_loss_cv = dict()\n",
    "fold5_threshold = dict()\n",
    "fold5_expected_loss = dict()\n",
    "fold5_all_coords = dict()\n",
    "\n",
    "models = logit_models.copy()\n",
    "models['randomforestprob'] = RandomForestClassifier(random_state=42, n_estimators=100, oob_score=True, criterion='gini', max_features=best_mtry, min_samples_split=best_min_node_size)\n",
    "\n",
    "k = KFold(n_splits=5)\n",
    "\n",
    "for i, model_name in enumerate(models):\n",
    "    best_thresholds = []\n",
    "    expected_loss = []\n",
    "    if model_name == 'LASSO':\n",
    "        X = normalized_logitvars\n",
    "    elif model_name != 'randomforestprob':\n",
    "        X = logit_model_vars[i]\n",
    "    else:\n",
    "        X = rfvars_train\n",
    "    c_index = best_lambda_i if model_name == 'LASSO' else 0\n",
    "    fold = 0\n",
    "    for train_index, test_index in k.split(X):\n",
    "        y_fold = y_train.iloc[test_index]\n",
    "        if model_name != 'randomforestprob':\n",
    "            X_fold = X.iloc[test_index, :]\n",
    "            pred_fold = generate_fold_prediction(models[model_name], X_fold, fold, c_index)\n",
    "        else:\n",
    "            X_fold = rfvars_train.iloc[test_index,:]\n",
    "            X_fold_train = rfvars_train.iloc[train_index,:]\n",
    "            y_fold_train = y_train.iloc[train_index]\n",
    "\n",
    "            prob_forest_best = models['randomforestprob']\n",
    "            prob_forest_best_fold = prob_forest_best.fit(X_fold_train, y_fold_train)\n",
    "            pred_fold = prob_forest_best_fold.predict_proba(X_fold)[:,1]\n",
    "\n",
    "\n",
    "        false_pos_rate, true_pos_rate, thresholds = roc_curve(y_fold, pred_fold)\n",
    "        optimal_threshold = sorted(list(zip(\n",
    "            np.abs(true_pos_rate + (1 - prevalence) / (cost * prevalence) * (1 - false_pos_rate)),\n",
    "            thresholds)), key=lambda i: i[0], reverse=True)[0][1]\n",
    "        if optimal_threshold > 1:\n",
    "            optimal_threshold = 1\n",
    "        best_thresholds.append(optimal_threshold)\n",
    "        threshold_prediction = np.where(pred_fold < optimal_threshold, 0, 1)\n",
    "        tn, fp, fn, tp = confusion_matrix(y_fold, threshold_prediction, labels=[0, 1]).ravel()\n",
    "        curr_exp_loss = (fp * FP + fn * FN) / len(y_fold)\n",
    "        expected_loss.append(curr_exp_loss)\n",
    "        fold += 1\n",
    "\n",
    "    best_thresholds_cv[model_name] = np.mean(best_thresholds)\n",
    "    expected_loss_cv[model_name] = np.mean(expected_loss)\n",
    "\n",
    "    fold5_threshold[model_name] = optimal_threshold\n",
    "    fold5_expected_loss[model_name] = curr_exp_loss\n",
    "\n",
    "    all_coords = pd.DataFrame({\n",
    "        'false_pos': false_pos_rate * sum(y_fold == 0),\n",
    "        'true_pos': true_pos_rate * sum(y_fold == 1),\n",
    "        'false_neg': sum(y_fold == 1) - true_pos_rate * sum(y_fold == 1),\n",
    "        'true_neg': sum(y_fold == 0) - false_pos_rate * sum(y_fold == 0),\n",
    "        'pos': sum(y_fold == 1),\n",
    "        'neg': sum(y_fold == 0),\n",
    "        'n': len(y_fold),\n",
    "        'thresholds': thresholds\n",
    "    })\n",
    "\n",
    "    fold5_all_coords[model_name] = all_coords\n"
   ]
  },
  {
   "cell_type": "code",
   "execution_count": 346,
   "metadata": {},
   "outputs": [],
   "source": [
    "from sklearn.model_selection import cross_val_predict\n",
    "\n",
    "best_thresholds_cv = dict()\n",
    "expected_loss_cv = dict()\n",
    "fold5_threshold = dict()\n",
    "fold5_expected_loss = dict()\n",
    "fold5_all_coords = dict()\n",
    "\n",
    "# Crea un dizionario con i modelli\n",
    "models = logit_models.copy()\n",
    "models['randomforestprob'] = RandomForestClassifier(random_state=42, n_estimators=100, oob_score=True, criterion='gini', max_features=best_mtry, min_samples_split=best_min_node_size)\n",
    "\n",
    "# Esegui la cross-validation K-Fold su ogni modello\n",
    "for model_name, model in models.items():\n",
    "    # Seleziona le variabili appropriate per il modello\n",
    "    if model_name == 'LASSO':\n",
    "        X = normalized_logitvars\n",
    "    elif model_name != 'randomforestprob':\n",
    "        X = logit_model_vars[i]\n",
    "    else:\n",
    "        X = rfvars_train\n",
    "\n",
    "    # Esegui la cross-validation e calcola le previsioni\n",
    "    pred = cross_val_predict(model, X, y_train, cv=5, method='predict_proba')[:, 1]\n",
    "\n",
    "    # Calcola le metriche per ogni fold\n",
    "    false_pos_rate, true_pos_rate, thresholds = roc_curve(y_train, pred)\n",
    "    optimal_threshold = thresholds[np.argmax(true_pos_rate - false_pos_rate)]\n",
    "    threshold_prediction = np.where(pred < optimal_threshold, 0, 1)\n",
    "    tn, fp, fn, tp = confusion_matrix(y_train, threshold_prediction).ravel()\n",
    "    curr_exp_loss = (fp * FP + fn * FN) / len(y_train)\n",
    "\n",
    "    # Memorizza i risultati\n",
    "    best_thresholds_cv[model_name] = optimal_threshold\n",
    "    expected_loss_cv[model_name] = curr_exp_loss\n",
    "    fold5_threshold[model_name] = optimal_threshold\n",
    "    fold5_expected_loss[model_name] = curr_exp_loss"
   ]
  },
  {
   "cell_type": "code",
   "execution_count": 285,
   "metadata": {},
   "outputs": [],
   "source": [
    "logit_summary2 = pd.DataFrame(best_thresholds_cv.items(),columns=['Model', 'Avg of optimal thresholds'])\n",
    "logit_summary2['Threshold for Fold5'] = fold5_threshold.values()\n",
    "logit_summary2['Avg expected loss'] = expected_loss_cv.values()\n",
    "logit_summary2['Expected loss for Fold5'] = fold5_expected_loss.values()"
   ]
  },
  {
   "cell_type": "code",
   "execution_count": 286,
   "metadata": {},
   "outputs": [
    {
     "data": {
      "text/html": [
       "<div>\n",
       "<style scoped>\n",
       "    .dataframe tbody tr th:only-of-type {\n",
       "        vertical-align: middle;\n",
       "    }\n",
       "\n",
       "    .dataframe tbody tr th {\n",
       "        vertical-align: top;\n",
       "    }\n",
       "\n",
       "    .dataframe thead th {\n",
       "        text-align: right;\n",
       "    }\n",
       "</style>\n",
       "<table border=\"1\" class=\"dataframe\">\n",
       "  <thead>\n",
       "    <tr style=\"text-align: right;\">\n",
       "      <th></th>\n",
       "      <th>Model</th>\n",
       "      <th>Avg of optimal thresholds</th>\n",
       "      <th>Threshold for Fold5</th>\n",
       "      <th>Avg expected loss</th>\n",
       "      <th>Expected loss for Fold5</th>\n",
       "    </tr>\n",
       "  </thead>\n",
       "  <tbody>\n",
       "    <tr>\n",
       "      <th>0</th>\n",
       "      <td>M1</td>\n",
       "      <td>0.767</td>\n",
       "      <td>0.712</td>\n",
       "      <td>17.998</td>\n",
       "      <td>18.077</td>\n",
       "    </tr>\n",
       "    <tr>\n",
       "      <th>1</th>\n",
       "      <td>M2</td>\n",
       "      <td>0.596</td>\n",
       "      <td>0.607</td>\n",
       "      <td>17.591</td>\n",
       "      <td>17.631</td>\n",
       "    </tr>\n",
       "    <tr>\n",
       "      <th>2</th>\n",
       "      <td>M3</td>\n",
       "      <td>0.622</td>\n",
       "      <td>0.672</td>\n",
       "      <td>17.159</td>\n",
       "      <td>17.433</td>\n",
       "    </tr>\n",
       "    <tr>\n",
       "      <th>3</th>\n",
       "      <td>M4</td>\n",
       "      <td>0.608</td>\n",
       "      <td>0.618</td>\n",
       "      <td>16.843</td>\n",
       "      <td>17.250</td>\n",
       "    </tr>\n",
       "    <tr>\n",
       "      <th>4</th>\n",
       "      <td>M5</td>\n",
       "      <td>0.563</td>\n",
       "      <td>0.561</td>\n",
       "      <td>17.080</td>\n",
       "      <td>17.431</td>\n",
       "    </tr>\n",
       "    <tr>\n",
       "      <th>5</th>\n",
       "      <td>LASSO</td>\n",
       "      <td>0.605</td>\n",
       "      <td>0.647</td>\n",
       "      <td>16.518</td>\n",
       "      <td>16.833</td>\n",
       "    </tr>\n",
       "    <tr>\n",
       "      <th>6</th>\n",
       "      <td>randomforestprob</td>\n",
       "      <td>0.591</td>\n",
       "      <td>0.589</td>\n",
       "      <td>15.779</td>\n",
       "      <td>16.076</td>\n",
       "    </tr>\n",
       "  </tbody>\n",
       "</table>\n",
       "</div>"
      ],
      "text/plain": [
       "              Model  Avg of optimal thresholds  Threshold for Fold5   \n",
       "0                M1                      0.767                0.712  \\\n",
       "1                M2                      0.596                0.607   \n",
       "2                M3                      0.622                0.672   \n",
       "3                M4                      0.608                0.618   \n",
       "4                M5                      0.563                0.561   \n",
       "5             LASSO                      0.605                0.647   \n",
       "6  randomforestprob                      0.591                0.589   \n",
       "\n",
       "   Avg expected loss  Expected loss for Fold5  \n",
       "0             17.998                   18.077  \n",
       "1             17.591                   17.631  \n",
       "2             17.159                   17.433  \n",
       "3             16.843                   17.250  \n",
       "4             17.080                   17.431  \n",
       "5             16.518                   16.833  \n",
       "6             15.779                   16.076  "
      ]
     },
     "execution_count": 286,
     "metadata": {},
     "output_type": "execute_result"
    }
   ],
   "source": [
    "logit_summary2_rounded = logit_summary2.round(3)\n",
    "logit_summary2_rounded"
   ]
  },
  {
   "cell_type": "markdown",
   "metadata": {},
   "source": [
    "# Confusion Table and Discussion"
   ]
  },
  {
   "cell_type": "code",
   "execution_count": 287,
   "metadata": {},
   "outputs": [],
   "source": [
    "# Take the best model - RF - and predict on holdout data\n",
    "\n",
    "best_model = models['randomforestprob']\n",
    "best_model_X_holdout = rfvars_holdout\n",
    "\n",
    "\n",
    "logit_fit_probabilities = best_model.fit(rfvars_train, y_train)\n",
    "logit_predicted_probabilities_holdout = logit_fit_probabilities.predict_proba(best_model_X_holdout)[:,1]\n"
   ]
  },
  {
   "cell_type": "code",
   "execution_count": 288,
   "metadata": {},
   "outputs": [],
   "source": [
    "# Pick best model based on average expected loss ----------------------------------\n",
    "#RF\n",
    "best_logit_optimal_treshold = best_thresholds_cv[\"randomforestprob\"]\n",
    "\n",
    "# Confusion table on holdout\n",
    "holdout_treshold = np.where(logit_predicted_probabilities_holdout < best_logit_optimal_treshold, 0, 1)\n",
    "\n",
    "cm_object1 = confusion_matrix(y_holdout, holdout_treshold, labels=[0,1])\n",
    "cm1 = pd.DataFrame(cm_object1, \n",
    "    index=['Actual slow growth', 'Actual fast growth'], \n",
    "    columns=['Predicted slow growth', 'Predicted fast growth'])\n",
    "cm1\n",
    "\n",
    "cm1_percentage = cm1 / cm1.values.sum() * 100\n",
    "cm1_percentage_rounded = cm1_percentage.round(1)"
   ]
  },
  {
   "cell_type": "code",
   "execution_count": 289,
   "metadata": {},
   "outputs": [
    {
     "data": {
      "text/html": [
       "<div>\n",
       "<style scoped>\n",
       "    .dataframe tbody tr th:only-of-type {\n",
       "        vertical-align: middle;\n",
       "    }\n",
       "\n",
       "    .dataframe tbody tr th {\n",
       "        vertical-align: top;\n",
       "    }\n",
       "\n",
       "    .dataframe thead th {\n",
       "        text-align: right;\n",
       "    }\n",
       "</style>\n",
       "<table border=\"1\" class=\"dataframe\">\n",
       "  <thead>\n",
       "    <tr style=\"text-align: right;\">\n",
       "      <th></th>\n",
       "      <th>Actual slow growth</th>\n",
       "      <th>Actual fast growth</th>\n",
       "    </tr>\n",
       "  </thead>\n",
       "  <tbody>\n",
       "    <tr>\n",
       "      <th>Predicted slow growth</th>\n",
       "      <td>66.5</td>\n",
       "      <td>20.1</td>\n",
       "    </tr>\n",
       "    <tr>\n",
       "      <th>Predicted fast growth</th>\n",
       "      <td>3.6</td>\n",
       "      <td>9.8</td>\n",
       "    </tr>\n",
       "  </tbody>\n",
       "</table>\n",
       "</div>"
      ],
      "text/plain": [
       "                       Actual slow growth  Actual fast growth\n",
       "Predicted slow growth                66.5                20.1\n",
       "Predicted fast growth                 3.6                 9.8"
      ]
     },
     "execution_count": 289,
     "metadata": {},
     "output_type": "execute_result"
    }
   ],
   "source": [
    "cm1_percentage_rounded.T"
   ]
  },
  {
   "cell_type": "code",
   "execution_count": 437,
   "metadata": {},
   "outputs": [
    {
     "data": {
      "image/png": "[encoded data removed]",
      "text/plain": [
       "<Figure size 640x480 with 1 Axes>"
      ]
     },
     "metadata": {
      "image/png": {
       "height": 480,
       "width": 640
      }
     },
     "output_type": "display_data"
    },
    {
     "data": {
      "text/plain": [
       "<Figure Size: (640 x 480)>"
      ]
     },
     "execution_count": 437,
     "metadata": {},
     "output_type": "execute_result"
    }
   ],
   "source": [
    "fig = create_loss_plot(fold5_all_coords['randomforestprob'], fold5_threshold['randomforestprob'], fold5_expected_loss['randomforestprob'])\n",
    "fig.save('/Users/jacopobinati/Desktop/Prediction ML/assignment 3/visualisations/TASK1/loss_plot.png')\n",
    "fig"
   ]
  },
  {
   "cell_type": "code",
   "execution_count": 291,
   "metadata": {},
   "outputs": [
    {
     "data": {
      "image/png": "[encoded data removed]",
      "text/plain": [
       "<Figure size 640x480 with 1 Axes>"
      ]
     },
     "metadata": {
      "image/png": {
       "height": 480,
       "width": 640
      }
     },
     "output_type": "display_data"
    },
    {
     "data": {
      "text/plain": [
       "<Figure Size: (640 x 480)>"
      ]
     },
     "execution_count": 291,
     "metadata": {},
     "output_type": "execute_result"
    }
   ],
   "source": [
    "fig = create_roc_plot_with_optimal(fold5_all_coords['randomforestprob'], fold5_threshold['randomforestprob'])\n",
    "fig.save('/Users/jacopobinati/Desktop/Prediction ML/assignment 3/visualisations/TASK1/ROC_opt.png')\n",
    "fig"
   ]
  },
  {
   "cell_type": "markdown",
   "metadata": {},
   "source": [
    "# Categorize manufacturing and service firms"
   ]
  },
  {
   "cell_type": "code",
   "execution_count": 292,
   "metadata": {},
   "outputs": [
    {
     "data": {
      "text/plain": [
       "ind2\n",
       "56.0    8102\n",
       "55.0    1752\n",
       "28.0    1523\n",
       "33.0    1518\n",
       "26.0     828\n",
       "27.0     497\n",
       "29.0     206\n",
       "30.0     121\n",
       "Name: count, dtype: int64"
      ]
     },
     "execution_count": 292,
     "metadata": {},
     "output_type": "execute_result"
    }
   ],
   "source": [
    "data['ind2'].value_counts()"
   ]
  },
  {
   "cell_type": "code",
   "execution_count": 293,
   "metadata": {},
   "outputs": [],
   "source": [
    "# Create a dummy variable for manufacturing sector\n",
    "manufacturing_list = [27, 29, 28, 26, 30]\n",
    "data['manufacturing_dummy'] = data['ind2'].isin(manufacturing_list).astype(int)"
   ]
  },
  {
   "cell_type": "code",
   "execution_count": 294,
   "metadata": {},
   "outputs": [
    {
     "data": {
      "text/plain": [
       "manufacturing_dummy\n",
       "0    11372\n",
       "1     3175\n",
       "Name: count, dtype: int64"
      ]
     },
     "execution_count": 294,
     "metadata": {},
     "output_type": "execute_result"
    }
   ],
   "source": [
    "data['manufacturing_dummy'].value_counts()"
   ]
  },
  {
   "cell_type": "code",
   "execution_count": 295,
   "metadata": {},
   "outputs": [],
   "source": [
    "# Create a dataframe for the manufacturing sector\n",
    "data_manu = data[data['manufacturing_dummy'] == 1]\n",
    "\n",
    "# Create a dataframe for the service sector\n",
    "data_serv = data[data['manufacturing_dummy'] == 0]"
   ]
  },
  {
   "cell_type": "code",
   "execution_count": 296,
   "metadata": {},
   "outputs": [
    {
     "data": {
      "text/plain": [
       "fast_growth\n",
       "False    2221\n",
       "True      954\n",
       "Name: count, dtype: int64"
      ]
     },
     "execution_count": 296,
     "metadata": {},
     "output_type": "execute_result"
    }
   ],
   "source": [
    "data_manu['fast_growth'].value_counts()"
   ]
  },
  {
   "cell_type": "code",
   "execution_count": 297,
   "metadata": {},
   "outputs": [
    {
     "data": {
      "text/plain": [
       "fast_growth\n",
       "False    7959\n",
       "True     3413\n",
       "Name: count, dtype: int64"
      ]
     },
     "execution_count": 297,
     "metadata": {},
     "output_type": "execute_result"
    }
   ],
   "source": [
    "data_serv['fast_growth'].value_counts()"
   ]
  },
  {
   "cell_type": "markdown",
   "metadata": {},
   "source": [
    "## Manufacturing"
   ]
  },
  {
   "cell_type": "code",
   "execution_count": 298,
   "metadata": {},
   "outputs": [],
   "source": [
    "# Define rfvars for RF\n",
    "rfvars_manu  = pd.concat([data_manu[[\"profit_loss_year_pl\", \"profit_loss_year2_pl\"] + variable1 + hr + qualityvars], firm], axis=1)"
   ]
  },
  {
   "cell_type": "code",
   "execution_count": 299,
   "metadata": {},
   "outputs": [],
   "source": [
    "y_manu = data_manu['fast_growth']"
   ]
  },
  {
   "cell_type": "code",
   "execution_count": 300,
   "metadata": {},
   "outputs": [],
   "source": [
    "indices = np.arange(len(data_manu))\n",
    "index_train, index_holdout= train_test_split(\n",
    "    indices, train_size=0.8, random_state=42)"
   ]
  },
  {
   "cell_type": "code",
   "execution_count": 301,
   "metadata": {},
   "outputs": [],
   "source": [
    "y_train_manu = y_manu.iloc[index_train]\n",
    "y_holdout_manu = y_manu.iloc[index_holdout]"
   ]
  },
  {
   "cell_type": "code",
   "execution_count": 302,
   "metadata": {},
   "outputs": [],
   "source": [
    "rfvars_train_manu = rfvars_manu.iloc[index_train]\n",
    "rfvars_holdout_manu = rfvars_manu.iloc[index_holdout]"
   ]
  },
  {
   "cell_type": "code",
   "execution_count": 303,
   "metadata": {},
   "outputs": [],
   "source": [
    "prob_forest_manu = RandomForestClassifier(random_state=42, n_estimators=100, oob_score=True)\n",
    "prob_forest_grid_manu = GridSearchCV(prob_forest_manu, grid, cv=5, refit='accuracy',\n",
    "                                scoring = ['accuracy', 'roc_auc', 'neg_brier_score'], n_jobs=-1)"
   ]
  },
  {
   "cell_type": "code",
   "execution_count": 304,
   "metadata": {},
   "outputs": [],
   "source": [
    "prob_forest_fit_manu = prob_forest_grid_manu.fit(rfvars_train_manu, y_train_manu)"
   ]
  },
  {
   "cell_type": "code",
   "execution_count": 340,
   "metadata": {},
   "outputs": [
    {
     "data": {
      "text/html": [
       "<div>\n",
       "<style scoped>\n",
       "    .dataframe tbody tr th:only-of-type {\n",
       "        vertical-align: middle;\n",
       "    }\n",
       "\n",
       "    .dataframe tbody tr th {\n",
       "        vertical-align: top;\n",
       "    }\n",
       "\n",
       "    .dataframe thead th {\n",
       "        text-align: right;\n",
       "    }\n",
       "</style>\n",
       "<table border=\"1\" class=\"dataframe\">\n",
       "  <thead>\n",
       "    <tr style=\"text-align: right;\">\n",
       "      <th></th>\n",
       "      <th>max_features</th>\n",
       "      <th>min_samples_split</th>\n",
       "      <th>cv_accuracy_manu</th>\n",
       "      <th>cv_auc_manu</th>\n",
       "      <th>cv_rmse_manu</th>\n",
       "    </tr>\n",
       "  </thead>\n",
       "  <tbody>\n",
       "    <tr>\n",
       "      <th>0</th>\n",
       "      <td>5</td>\n",
       "      <td>10</td>\n",
       "      <td>0.749606</td>\n",
       "      <td>0.691997</td>\n",
       "      <td>0.426658</td>\n",
       "    </tr>\n",
       "    <tr>\n",
       "      <th>1</th>\n",
       "      <td>5</td>\n",
       "      <td>11</td>\n",
       "      <td>0.747638</td>\n",
       "      <td>0.689997</td>\n",
       "      <td>0.426912</td>\n",
       "    </tr>\n",
       "    <tr>\n",
       "      <th>2</th>\n",
       "      <td>6</td>\n",
       "      <td>10</td>\n",
       "      <td>0.748031</td>\n",
       "      <td>0.691531</td>\n",
       "      <td>0.426725</td>\n",
       "    </tr>\n",
       "    <tr>\n",
       "      <th>3</th>\n",
       "      <td>6</td>\n",
       "      <td>11</td>\n",
       "      <td>0.744882</td>\n",
       "      <td>0.689614</td>\n",
       "      <td>0.427273</td>\n",
       "    </tr>\n",
       "    <tr>\n",
       "      <th>4</th>\n",
       "      <td>7</td>\n",
       "      <td>10</td>\n",
       "      <td>0.751969</td>\n",
       "      <td>0.689945</td>\n",
       "      <td>0.427258</td>\n",
       "    </tr>\n",
       "    <tr>\n",
       "      <th>5</th>\n",
       "      <td>7</td>\n",
       "      <td>11</td>\n",
       "      <td>0.747244</td>\n",
       "      <td>0.691841</td>\n",
       "      <td>0.426841</td>\n",
       "    </tr>\n",
       "  </tbody>\n",
       "</table>\n",
       "</div>"
      ],
      "text/plain": [
       "  max_features min_samples_split  cv_accuracy_manu  cv_auc_manu  cv_rmse_manu\n",
       "0            5                10          0.749606     0.691997      0.426658\n",
       "1            5                11          0.747638     0.689997      0.426912\n",
       "2            6                10          0.748031     0.691531      0.426725\n",
       "3            6                11          0.744882     0.689614      0.427273\n",
       "4            7                10          0.751969     0.689945      0.427258\n",
       "5            7                11          0.747244     0.691841      0.426841"
      ]
     },
     "execution_count": 340,
     "metadata": {},
     "output_type": "execute_result"
    }
   ],
   "source": [
    "cv_accuracy_manu = np.mean([prob_forest_fit_manu.cv_results_[f'split{i}_test_accuracy'] for i in range(5)], axis=0)\n",
    "cv_auc_manu = np.mean([prob_forest_fit_manu.cv_results_[f'split{i}_test_roc_auc'] for i in range(5)], axis=0)\n",
    "cv_rmse_manu = np.mean([np.sqrt(-1 * prob_forest_fit_manu.cv_results_[f'split{i}_test_neg_brier_score']) for i in range(5)], axis=0)\n",
    "\n",
    "prob_forest_cv_results_manu = pd.DataFrame({\n",
    "    'max_features': prob_forest_fit_manu.cv_results_['param_max_features'],\n",
    "    'min_samples_split': prob_forest_fit_manu.cv_results_['param_min_samples_split'],\n",
    "    'cv_accuracy_manu': cv_accuracy_manu,\n",
    "    'cv_auc_manu': cv_auc_manu,\n",
    "    'cv_rmse_manu': cv_rmse_manu\n",
    "})\n",
    "prob_forest_cv_results_manu"
   ]
  },
  {
   "cell_type": "code",
   "execution_count": 307,
   "metadata": {},
   "outputs": [
    {
     "data": {
      "text/plain": [
       "{'criterion': 'gini', 'max_features': 7, 'min_samples_split': 10}"
      ]
     },
     "execution_count": 307,
     "metadata": {},
     "output_type": "execute_result"
    }
   ],
   "source": [
    "best_mtry_manu = prob_forest_fit_manu.best_params_['max_features']\n",
    "best_min_node_size_manu = prob_forest_fit_manu.best_params_['min_samples_split']\n",
    "prob_forest_fit_manu.best_params_"
   ]
  },
  {
   "cell_type": "code",
   "execution_count": 308,
   "metadata": {},
   "outputs": [],
   "source": [
    "prob_forest_best_results_manu = prob_forest_cv_results_manu[(prob_forest_cv_results_manu.max_features == best_mtry_manu) & \n",
    "                      (prob_forest_cv_results_manu.min_samples_split == best_min_node_size_manu)]\n",
    "prob_forest_best_results_index_manu = prob_forest_best_results_manu.index.values[0]\n",
    "\n",
    "CV_RMSE_manu = {}\n",
    "CV_AUC_manu = {}\n",
    "\n",
    "CV_RMSE_manu['randomforestprob'] = prob_forest_best_results_manu.cv_rmse_manu.values[0]\n",
    "CV_AUC_manu['randomforestprob'] = prob_forest_best_results_manu.cv_auc_manu.values[0]"
   ]
  },
  {
   "cell_type": "code",
   "execution_count": 309,
   "metadata": {},
   "outputs": [],
   "source": [
    "CV_RMSE_folds_rf_p = list()\n",
    "for i in range(5):\n",
    "    rmse = np.sqrt(-1*(prob_forest_fit.cv_results_['split' + str(i) + '_test_neg_brier_score'])).tolist()[prob_forest_best_results_index]\n",
    "    CV_RMSE_folds_rf_p.append(rmse)\n",
    "CV_RMSE_folds['randomforestprob'] = CV_RMSE_folds_rf_p\n",
    "\n",
    "CV_AUC_folds_rf_p = list()\n",
    "for i in range(5):\n",
    "    rmse = prob_forest_fit.cv_results_['split' + str(i) + '_test_roc_auc'][prob_forest_best_results_index]\n",
    "    CV_AUC_folds_rf_p.append(rmse)\n",
    "CV_AUC_folds['randomforestprob'] = CV_AUC_folds_rf_p"
   ]
  },
  {
   "cell_type": "markdown",
   "metadata": {},
   "source": [
    "Loss Function"
   ]
  },
  {
   "cell_type": "code",
   "execution_count": 310,
   "metadata": {},
   "outputs": [],
   "source": [
    "FP_manu = 100\n",
    "FN_manu = 60\n",
    "cost_manu = FN_manu/FP_manu\n",
    "prevalence_manu = y_train_manu.sum()/len(y_train_manu)"
   ]
  },
  {
   "cell_type": "markdown",
   "metadata": {},
   "source": [
    "Let's check for the best threshold"
   ]
  },
  {
   "cell_type": "code",
   "execution_count": 311,
   "metadata": {},
   "outputs": [],
   "source": [
    "best_thresholds_manu = list()\n",
    "expected_loss_manu = list()\n",
    "\n",
    "fold = 0\n",
    "for train_index, test_index in k.split(rfvars_train_manu):\n",
    "    X_fold_manu = rfvars_train_manu.iloc[test_index,:]\n",
    "    y_fold_manu = y_train_manu.iloc[test_index]\n",
    "    \n",
    "    X_fold_train_manu = rfvars_train_manu.iloc[train_index,:]\n",
    "    y_fold_train_manu = y_train_manu.iloc[train_index]\n",
    "    \n",
    "    prob_forest_best_manu = RandomForestClassifier(random_state=42, n_estimators=100, oob_score=True,\n",
    "                    criterion = 'gini', max_features = best_mtry_manu, min_samples_split = best_min_node_size_manu)\n",
    "    prob_forest_best_fold_manu = prob_forest_best_manu.fit(X_fold_train_manu, y_fold_train_manu)\n",
    "    pred_fold_manu = prob_forest_best_fold_manu.predict_proba(X_fold_manu)[:,1]\n",
    "\n",
    "    false_pos_rate_manu, true_pos_rate_manu, threshold_manu = roc_curve(y_fold_manu, pred_fold_manu)\n",
    "    best_threshold_manu = sorted(list(zip(np.abs(true_pos_rate_manu + (1 - prevalence_manu)/(cost_manu * prevalence_manu)*(1-false_pos_rate_manu)),\\\n",
    "                                       threshold_manu)), key=lambda x: x[0], reverse=True)[0][1]\n",
    "    if best_threshold_manu > 1:\n",
    "        best_threshold_manu = 1\n",
    "    best_thresholds_manu.append(best_threshold_manu)\n",
    "    threshold_prediction_manu = np.where(pred_fold_manu < best_threshold_manu, 0, 1)\n",
    "    tn_manu, fp_manu, fn_manu, tp_manu = confusion_matrix(y_fold_manu, threshold_prediction_manu, labels=[0,1]).ravel()\n",
    "    curr_exp_loss_manu = (fp_manu*FP_manu + fn_manu*FN_manu)/len(y_fold_manu)\n",
    "    expected_loss_manu.append(curr_exp_loss_manu)\n",
    "    \n",
    "fold5_threshold_rf_manu = best_threshold_manu\n",
    "fold5_expected_loss_rf_manu = curr_exp_loss_manu\n",
    "\n",
    "all_coords_rf_manu = pd.DataFrame({\n",
    "    'false_pos': false_pos_rate_manu*sum(y_fold_manu == 0),\n",
    "    'true_pos': true_pos_rate_manu*sum(y_fold_manu == 1),\n",
    "    'false_neg': sum(y_fold_manu == 1) - true_pos_rate_manu*sum(y_fold_manu == 1),\n",
    "    'true_neg': sum(y_fold_manu == 0) - false_pos_rate_manu*sum(y_fold_manu == 0),\n",
    "    'pos': sum(y_fold_manu == 1),\n",
    "    'neg': sum(y_fold_manu == 0),\n",
    "    'n': len(y_fold_manu),\n",
    "    'thresholds': threshold_manu\n",
    "})"
   ]
  },
  {
   "cell_type": "code",
   "execution_count": 312,
   "metadata": {},
   "outputs": [],
   "source": [
    "expected_loss_cv_manu = {}\n",
    "expected_loss_cv_manu['randomforestprob'] = np.mean(expected_loss_manu)\n",
    "\n",
    "best_thresholds_cv_manu = {}\n",
    "best_thresholds_cv_manu['randomforestprob'] = np.mean(best_thresholds_manu)\n"
   ]
  },
  {
   "cell_type": "code",
   "execution_count": 342,
   "metadata": {},
   "outputs": [
    {
     "data": {
      "text/html": [
       "<div>\n",
       "<style scoped>\n",
       "    .dataframe tbody tr th:only-of-type {\n",
       "        vertical-align: middle;\n",
       "    }\n",
       "\n",
       "    .dataframe tbody tr th {\n",
       "        vertical-align: top;\n",
       "    }\n",
       "\n",
       "    .dataframe thead th {\n",
       "        text-align: right;\n",
       "    }\n",
       "</style>\n",
       "<table border=\"1\" class=\"dataframe\">\n",
       "  <thead>\n",
       "    <tr style=\"text-align: right;\">\n",
       "      <th></th>\n",
       "      <th>CV RMSE</th>\n",
       "      <th>CV AUC</th>\n",
       "      <th>Avg of optimal thresholds</th>\n",
       "      <th>Threshold for Fold5</th>\n",
       "      <th>Avg expected loss</th>\n",
       "      <th>Expected loss for Fold5</th>\n",
       "    </tr>\n",
       "  </thead>\n",
       "  <tbody>\n",
       "    <tr>\n",
       "      <th>0</th>\n",
       "      <td>0.427</td>\n",
       "      <td>0.69</td>\n",
       "      <td>0.699</td>\n",
       "      <td>0.688</td>\n",
       "      <td>13.425</td>\n",
       "      <td>15.059</td>\n",
       "    </tr>\n",
       "  </tbody>\n",
       "</table>\n",
       "</div>"
      ],
      "text/plain": [
       "   CV RMSE  CV AUC  Avg of optimal thresholds  Threshold for Fold5   \n",
       "0    0.427    0.69                      0.699                0.688  \\\n",
       "\n",
       "   Avg expected loss  Expected loss for Fold5  \n",
       "0             13.425                   15.059  "
      ]
     },
     "execution_count": 342,
     "metadata": {},
     "output_type": "execute_result"
    }
   ],
   "source": [
    "results = {\n",
    "    'CV RMSE': round(CV_RMSE_manu['randomforestprob'], 3),\n",
    "    'CV AUC': round(CV_AUC_manu['randomforestprob'], 3),\n",
    "    'Avg of optimal thresholds': round(best_thresholds_cv_manu['randomforestprob'], 3),\n",
    "    'Threshold for Fold5': round(best_threshold_manu, 3),\n",
    "    'Avg expected loss': round(expected_loss_cv_manu['randomforestprob'], 3),\n",
    "    'Expected loss for Fold5': round(curr_exp_loss_manu, 3)\n",
    "}\n",
    "\n",
    "# Creazione del DataFrame\n",
    "rf_summary_manu = pd.DataFrame([results])\n",
    "\n",
    "rf_summary_manu"
   ]
  },
  {
   "cell_type": "markdown",
   "metadata": {},
   "source": [
    "RMSE, AUC, and expected loss of the RF model applied on the holdout data of manufacturing firms"
   ]
  },
  {
   "cell_type": "code",
   "execution_count": 343,
   "metadata": {},
   "outputs": [
    {
     "data": {
      "text/html": [
       "<div>\n",
       "<style scoped>\n",
       "    .dataframe tbody tr th:only-of-type {\n",
       "        vertical-align: middle;\n",
       "    }\n",
       "\n",
       "    .dataframe tbody tr th {\n",
       "        vertical-align: top;\n",
       "    }\n",
       "\n",
       "    .dataframe thead th {\n",
       "        text-align: right;\n",
       "    }\n",
       "</style>\n",
       "<table border=\"1\" class=\"dataframe\">\n",
       "  <thead>\n",
       "    <tr style=\"text-align: right;\">\n",
       "      <th></th>\n",
       "      <th>RMSE</th>\n",
       "      <th>AUC</th>\n",
       "      <th>Expected loss</th>\n",
       "    </tr>\n",
       "  </thead>\n",
       "  <tbody>\n",
       "    <tr>\n",
       "      <th>0</th>\n",
       "      <td>0.441</td>\n",
       "      <td>0.68</td>\n",
       "      <td>14.882</td>\n",
       "    </tr>\n",
       "  </tbody>\n",
       "</table>\n",
       "</div>"
      ],
      "text/plain": [
       "    RMSE   AUC  Expected loss\n",
       "0  0.441  0.68         14.882"
      ]
     },
     "execution_count": 343,
     "metadata": {},
     "output_type": "execute_result"
    }
   ],
   "source": [
    "rf_predicted_probabilities_holdout_manu = prob_forest_fit_manu.best_estimator_.predict_proba(rfvars_holdout_manu)[:,1]\n",
    "rmse_rf_manu = np.sqrt(mean_squared_error(y_holdout_manu, rf_predicted_probabilities_holdout_manu))\n",
    "auc_rf_manu = roc_auc_score(y_holdout_manu, rf_predicted_probabilities_holdout_manu)\n",
    "holdout_treshold_manu = np.where(rf_predicted_probabilities_holdout_manu < best_thresholds_cv_manu['randomforestprob'], 0, 1)\n",
    "tn, fp, fn, tp = confusion_matrix(y_holdout_manu, holdout_treshold_manu, labels=[0,1]).ravel()\n",
    "expected_loss_holdout_manu = (fp*FP_manu + fn*FN_manu)/len(y_holdout_manu)\n",
    "\n",
    "# Crea un dizionario con i risultati\n",
    "results = {\n",
    "    'RMSE': round(rmse_rf_manu, 3),\n",
    "    'AUC': round(auc_rf_manu, 3),\n",
    "    'Expected loss': round(expected_loss_holdout_manu, 3)\n",
    "}\n",
    "\n",
    "# Crea il DataFrame con i risultati\n",
    "rf_holdout_results_manu = pd.DataFrame([results])\n",
    "\n",
    "rf_holdout_results_manu"
   ]
  },
  {
   "cell_type": "code",
   "execution_count": 315,
   "metadata": {},
   "outputs": [
    {
     "data": {
      "text/html": [
       "<div>\n",
       "<style scoped>\n",
       "    .dataframe tbody tr th:only-of-type {\n",
       "        vertical-align: middle;\n",
       "    }\n",
       "\n",
       "    .dataframe tbody tr th {\n",
       "        vertical-align: top;\n",
       "    }\n",
       "\n",
       "    .dataframe thead th {\n",
       "        text-align: right;\n",
       "    }\n",
       "</style>\n",
       "<table border=\"1\" class=\"dataframe\">\n",
       "  <thead>\n",
       "    <tr style=\"text-align: right;\">\n",
       "      <th></th>\n",
       "      <th>Predicted slow growth</th>\n",
       "      <th>Predicted fast growth</th>\n",
       "    </tr>\n",
       "  </thead>\n",
       "  <tbody>\n",
       "    <tr>\n",
       "      <th>Actual slow growth</th>\n",
       "      <td>67.6</td>\n",
       "      <td>0.2</td>\n",
       "    </tr>\n",
       "    <tr>\n",
       "      <th>Actual fast growth</th>\n",
       "      <td>29.4</td>\n",
       "      <td>2.8</td>\n",
       "    </tr>\n",
       "  </tbody>\n",
       "</table>\n",
       "</div>"
      ],
      "text/plain": [
       "                    Predicted slow growth  Predicted fast growth\n",
       "Actual slow growth                   67.6                    0.2\n",
       "Actual fast growth                   29.4                    2.8"
      ]
     },
     "execution_count": 315,
     "metadata": {},
     "output_type": "execute_result"
    }
   ],
   "source": [
    "cm_object_manu = confusion_matrix(y_holdout_manu, holdout_treshold_manu, labels=[0,1])\n",
    "cm_manu = pd.DataFrame(cm_object_manu, \n",
    "    index=['Actual slow growth', 'Actual fast growth'], \n",
    "    columns=['Predicted slow growth', 'Predicted fast growth'])\n",
    "cm_manu\n",
    "\n",
    "cm_percentage_manu = cm_manu / cm_manu.values.sum() * 100\n",
    "cm_percentage_rounded_manu = cm_percentage_manu.round(1)\n",
    "cm_percentage_rounded_manu\n"
   ]
  },
  {
   "cell_type": "markdown",
   "metadata": {},
   "source": [
    "## here we plot the loss fun and ROC"
   ]
  },
  {
   "cell_type": "code",
   "execution_count": 316,
   "metadata": {},
   "outputs": [
    {
     "data": {
      "image/png": "[encoded data removed]",
      "text/plain": [
       "<Figure size 640x480 with 1 Axes>"
      ]
     },
     "metadata": {
      "image/png": {
       "height": 480,
       "width": 640
      }
     },
     "output_type": "display_data"
    },
    {
     "data": {
      "text/plain": [
       "<Figure Size: (640 x 480)>"
      ]
     },
     "execution_count": 316,
     "metadata": {},
     "output_type": "execute_result"
    }
   ],
   "source": [
    "fig = create_loss_plot(all_coords_rf_manu, fold5_threshold_rf_manu, fold5_expected_loss_rf_manu)\n",
    "fig.save('/Users/jacopobinati/Desktop/Prediction ML/assignment 3/visualisations/TASK2/loss_MANUFACTURING.png')\n",
    "fig"
   ]
  },
  {
   "cell_type": "code",
   "execution_count": 317,
   "metadata": {},
   "outputs": [
    {
     "data": {
      "image/png": "[encoded data removed]",
      "text/plain": [
       "<Figure size 640x480 with 1 Axes>"
      ]
     },
     "metadata": {
      "image/png": {
       "height": 480,
       "width": 640
      }
     },
     "output_type": "display_data"
    },
    {
     "data": {
      "text/plain": [
       "<Figure Size: (640 x 480)>"
      ]
     },
     "execution_count": 317,
     "metadata": {},
     "output_type": "execute_result"
    }
   ],
   "source": [
    "fig = create_roc_plot_with_optimal(all_coords_rf_manu, fold5_threshold_rf_manu)\n",
    "fig.save('/Users/jacopobinati/Desktop/Prediction ML/assignment 3/visualisations/TASK2/ROC_optimal_manufacturing.png')\n",
    "fig"
   ]
  },
  {
   "cell_type": "markdown",
   "metadata": {},
   "source": [
    "## Service"
   ]
  },
  {
   "cell_type": "code",
   "execution_count": 318,
   "metadata": {},
   "outputs": [],
   "source": [
    "# Define rfvars for RF\n",
    "rfvars_serv  = pd.concat([data_serv[[\"profit_loss_year_pl\", \"profit_loss_year2_pl\"] + rawvars + hr + qualityvars], firm], axis=1)"
   ]
  },
  {
   "cell_type": "code",
   "execution_count": 319,
   "metadata": {},
   "outputs": [],
   "source": [
    "y_serv = data_serv['fast_growth']"
   ]
  },
  {
   "cell_type": "code",
   "execution_count": 320,
   "metadata": {},
   "outputs": [],
   "source": [
    "indices = np.arange(len(data_serv))\n",
    "index_train, index_holdout= train_test_split(\n",
    "    indices, train_size=0.8, random_state=42)"
   ]
  },
  {
   "cell_type": "code",
   "execution_count": 321,
   "metadata": {},
   "outputs": [],
   "source": [
    "y_train_serv = y_serv.iloc[index_train]\n",
    "y_holdout_serv = y_serv.iloc[index_holdout]\n",
    "\n",
    "rfvars_train_serv = rfvars_serv.iloc[index_train]\n",
    "rfvars_holdout_serv = rfvars_serv.iloc[index_holdout]"
   ]
  },
  {
   "cell_type": "code",
   "execution_count": 322,
   "metadata": {},
   "outputs": [],
   "source": [
    "prob_forest_serv = RandomForestClassifier(random_state=42, n_estimators=100, oob_score=True)\n",
    "prob_forest_grid_serv = GridSearchCV(prob_forest_serv, grid, cv=5, refit='accuracy',\n",
    "                                scoring = ['accuracy', 'roc_auc', 'neg_brier_score'], n_jobs=-1)"
   ]
  },
  {
   "cell_type": "code",
   "execution_count": 323,
   "metadata": {},
   "outputs": [],
   "source": [
    "prob_forest_fit_serv = prob_forest_grid_serv.fit(rfvars_train_serv, y_train_serv)"
   ]
  },
  {
   "cell_type": "code",
   "execution_count": 341,
   "metadata": {},
   "outputs": [
    {
     "data": {
      "text/html": [
       "<div>\n",
       "<style scoped>\n",
       "    .dataframe tbody tr th:only-of-type {\n",
       "        vertical-align: middle;\n",
       "    }\n",
       "\n",
       "    .dataframe tbody tr th {\n",
       "        vertical-align: top;\n",
       "    }\n",
       "\n",
       "    .dataframe thead th {\n",
       "        text-align: right;\n",
       "    }\n",
       "</style>\n",
       "<table border=\"1\" class=\"dataframe\">\n",
       "  <thead>\n",
       "    <tr style=\"text-align: right;\">\n",
       "      <th></th>\n",
       "      <th>max_features</th>\n",
       "      <th>min_samples_split</th>\n",
       "      <th>cv_accuracy_serv</th>\n",
       "      <th>cv_auc_serv</th>\n",
       "      <th>cv_rmse_serv</th>\n",
       "    </tr>\n",
       "  </thead>\n",
       "  <tbody>\n",
       "    <tr>\n",
       "      <th>0</th>\n",
       "      <td>5</td>\n",
       "      <td>10</td>\n",
       "      <td>0.772343</td>\n",
       "      <td>0.785756</td>\n",
       "      <td>0.402246</td>\n",
       "    </tr>\n",
       "    <tr>\n",
       "      <th>1</th>\n",
       "      <td>5</td>\n",
       "      <td>11</td>\n",
       "      <td>0.773662</td>\n",
       "      <td>0.785783</td>\n",
       "      <td>0.402231</td>\n",
       "    </tr>\n",
       "    <tr>\n",
       "      <th>2</th>\n",
       "      <td>6</td>\n",
       "      <td>10</td>\n",
       "      <td>0.772013</td>\n",
       "      <td>0.786863</td>\n",
       "      <td>0.401764</td>\n",
       "    </tr>\n",
       "    <tr>\n",
       "      <th>3</th>\n",
       "      <td>6</td>\n",
       "      <td>11</td>\n",
       "      <td>0.772563</td>\n",
       "      <td>0.786877</td>\n",
       "      <td>0.401696</td>\n",
       "    </tr>\n",
       "    <tr>\n",
       "      <th>4</th>\n",
       "      <td>7</td>\n",
       "      <td>10</td>\n",
       "      <td>0.772343</td>\n",
       "      <td>0.788055</td>\n",
       "      <td>0.401112</td>\n",
       "    </tr>\n",
       "    <tr>\n",
       "      <th>5</th>\n",
       "      <td>7</td>\n",
       "      <td>11</td>\n",
       "      <td>0.772343</td>\n",
       "      <td>0.787402</td>\n",
       "      <td>0.401562</td>\n",
       "    </tr>\n",
       "  </tbody>\n",
       "</table>\n",
       "</div>"
      ],
      "text/plain": [
       "  max_features min_samples_split  cv_accuracy_serv  cv_auc_serv  cv_rmse_serv\n",
       "0            5                10          0.772343     0.785756      0.402246\n",
       "1            5                11          0.773662     0.785783      0.402231\n",
       "2            6                10          0.772013     0.786863      0.401764\n",
       "3            6                11          0.772563     0.786877      0.401696\n",
       "4            7                10          0.772343     0.788055      0.401112\n",
       "5            7                11          0.772343     0.787402      0.401562"
      ]
     },
     "execution_count": 341,
     "metadata": {},
     "output_type": "execute_result"
    }
   ],
   "source": [
    "cv_accuracy_serv = np.mean([prob_forest_fit_serv.cv_results_[f'split{i}_test_accuracy'] for i in range(5)], axis=0)\n",
    "cv_auc_serv = np.mean([prob_forest_fit_serv.cv_results_[f'split{i}_test_roc_auc'] for i in range(5)], axis=0)\n",
    "cv_rmse_serv = np.mean([np.sqrt(-1 * prob_forest_fit_serv.cv_results_[f'split{i}_test_neg_brier_score']) for i in range(5)], axis=0)\n",
    "prob_forest_cv_results_serv = pd.DataFrame({\n",
    "    'max_features': prob_forest_fit_serv.cv_results_['param_max_features'],\n",
    "    'min_samples_split': prob_forest_fit_serv.cv_results_['param_min_samples_split'],\n",
    "    'cv_accuracy_serv': cv_accuracy_serv,\n",
    "    'cv_auc_serv': cv_auc_serv,\n",
    "    'cv_rmse_serv': cv_rmse_serv\n",
    "})\n",
    "prob_forest_cv_results_serv"
   ]
  },
  {
   "cell_type": "code",
   "execution_count": 326,
   "metadata": {},
   "outputs": [
    {
     "data": {
      "text/plain": [
       "{'criterion': 'gini', 'max_features': 5, 'min_samples_split': 11}"
      ]
     },
     "execution_count": 326,
     "metadata": {},
     "output_type": "execute_result"
    }
   ],
   "source": [
    "best_mtry_serv = prob_forest_fit_serv.best_params_['max_features']\n",
    "best_min_node_size_serv = prob_forest_fit_serv.best_params_['min_samples_split']\n",
    "prob_forest_fit_serv.best_params_"
   ]
  },
  {
   "cell_type": "code",
   "execution_count": 327,
   "metadata": {},
   "outputs": [],
   "source": [
    "# Get average (ie over the folds) RMSE and AUC ------------------------------------\n",
    "prob_forest_best_results_serv = prob_forest_cv_results_serv[(prob_forest_cv_results_serv.max_features == best_mtry_serv) & \n",
    "                      (prob_forest_cv_results_serv.min_samples_split == best_min_node_size_serv)]\n",
    "prob_forest_best_results_index_serv = prob_forest_best_results_serv.index.values[0]\n",
    "\n",
    "CV_RMSE_serv = {}\n",
    "CV_AUC_serv = {}\n",
    "\n",
    "CV_RMSE_serv['randomforestprob'] = prob_forest_best_results_serv.cv_rmse_serv.values[0]\n",
    "CV_AUC_serv['randomforestprob'] = prob_forest_best_results_serv.cv_auc_serv.values[0]"
   ]
  },
  {
   "cell_type": "code",
   "execution_count": 328,
   "metadata": {},
   "outputs": [],
   "source": [
    "# Get fold level RMSE and AUC ------------------------------------\n",
    "\n",
    "CV_RMSE_folds_rf_p_serv = list()\n",
    "for i in range(5):\n",
    "    rmse = np.sqrt(-1*(prob_forest_fit_serv.cv_results_['split' + str(i) + '_test_neg_brier_score'])).tolist()[prob_forest_best_results_index_serv]\n",
    "    CV_RMSE_folds_rf_p_serv.append(rmse)\n",
    "CV_RMSE_folds['rf_p_serv'] = CV_RMSE_folds_rf_p_serv\n",
    "\n",
    "CV_AUC_folds_rf_p_serv = list()\n",
    "for i in range(5):\n",
    "    rmse = prob_forest_fit_serv.cv_results_['split' + str(i) + '_test_roc_auc'][prob_forest_best_results_index_serv]\n",
    "    CV_AUC_folds_rf_p_serv.append(rmse)\n",
    "CV_AUC_folds['rf_p_serv'] = CV_AUC_folds_rf_p_serv"
   ]
  },
  {
   "cell_type": "markdown",
   "metadata": {},
   "source": [
    "## Loss Function"
   ]
  },
  {
   "cell_type": "code",
   "execution_count": 329,
   "metadata": {},
   "outputs": [],
   "source": [
    "FP_serv = 100\n",
    "FN_serv = 60\n",
    "cost_serv = FN_serv/FP_serv\n",
    "# the prevalence, or the proportion of cases in the population (n.cases/(n.controls+n.cases))\n",
    "prevalence_serv = y_train_serv.sum()/len(y_train_serv)"
   ]
  },
  {
   "cell_type": "code",
   "execution_count": 330,
   "metadata": {},
   "outputs": [],
   "source": [
    "# Now use loss function and search for best thresholds and expected loss over folds -----\n",
    "best_thresholds_serv = list()\n",
    "expected_loss_serv = list()\n",
    "\n",
    "fold = 0\n",
    "for train_index, test_index in k.split(rfvars_train_serv):\n",
    "    X_fold_serv = rfvars_train_serv.iloc[test_index,:]\n",
    "    y_fold_serv = y_train_serv.iloc[test_index]\n",
    "    \n",
    "    X_fold_train_serv = rfvars_train_serv.iloc[train_index,:]\n",
    "    y_fold_train_serv = y_train_serv.iloc[train_index]\n",
    "    \n",
    "    prob_forest_best_serv = RandomForestClassifier(random_state=42, n_estimators=100, oob_score=True,\n",
    "                    criterion = 'gini', max_features = best_mtry_serv, min_samples_split = best_min_node_size_serv)\n",
    "    prob_forest_best_fold_serv = prob_forest_best_serv.fit(X_fold_train_serv, y_fold_train_serv)\n",
    "    pred_fold_serv = prob_forest_best_fold_serv.predict_proba(X_fold_serv)[:,1]\n",
    "\n",
    "    false_pos_rate_serv, true_pos_rate_serv, threshold_serv = roc_curve(y_fold_serv, pred_fold_serv)\n",
    "    best_threshold_serv = sorted(list(zip(np.abs(true_pos_rate_serv + (1 - prevalence_serv)/(cost_serv * prevalence_serv)*(1-false_pos_rate_serv)),\\\n",
    "                                       threshold_serv)), key=lambda x: x[0], reverse=True)[0][1]\n",
    "    if best_threshold_serv > 1:\n",
    "        best_threshold_serv = 1\n",
    "    best_thresholds_serv.append(best_threshold_serv)\n",
    "    threshold_prediction_serv = np.where(pred_fold_serv < best_threshold_serv, 0, 1)\n",
    "    tn_serv, fp_serv, fn_serv, tp_serv = confusion_matrix(y_fold_serv, threshold_prediction_serv, labels=[0,1]).ravel()\n",
    "    curr_exp_loss_serv = (fp_serv*FP_serv + fn_serv*FN_serv)/len(y_fold_serv)\n",
    "    expected_loss_serv.append(curr_exp_loss_serv)\n",
    "    \n",
    "fold5_threshold_rf_serv = best_threshold_serv\n",
    "fold5_expected_loss_rf_serv = curr_exp_loss_serv\n",
    "\n",
    "all_coords_rf_serv = pd.DataFrame({\n",
    "    'false_pos': false_pos_rate_serv*sum(y_fold_serv == 0),\n",
    "    'true_pos': true_pos_rate_serv*sum(y_fold_serv == 1),\n",
    "    'false_neg': sum(y_fold_serv == 1) - true_pos_rate_serv*sum(y_fold_serv == 1),\n",
    "    'true_neg': sum(y_fold_serv == 0) - false_pos_rate_serv*sum(y_fold_serv == 0),\n",
    "    'pos': sum(y_fold_serv == 1),\n",
    "    'neg': sum(y_fold_serv == 0),\n",
    "    'n': len(y_fold_serv),\n",
    "    'thresholds': threshold_serv\n",
    "})"
   ]
  },
  {
   "cell_type": "code",
   "execution_count": 331,
   "metadata": {},
   "outputs": [],
   "source": [
    "expected_loss_cv_serv = {}\n",
    "expected_loss_cv_serv['randomforestprob'] = np.mean(expected_loss_serv)\n",
    "\n",
    "best_thresholds_cv_serv = {}\n",
    "best_thresholds_cv_serv['randomforestprob'] = np.mean(best_thresholds_serv)"
   ]
  },
  {
   "cell_type": "code",
   "execution_count": 332,
   "metadata": {},
   "outputs": [
    {
     "data": {
      "text/html": [
       "<div>\n",
       "<style scoped>\n",
       "    .dataframe tbody tr th:only-of-type {\n",
       "        vertical-align: middle;\n",
       "    }\n",
       "\n",
       "    .dataframe tbody tr th {\n",
       "        vertical-align: top;\n",
       "    }\n",
       "\n",
       "    .dataframe thead th {\n",
       "        text-align: right;\n",
       "    }\n",
       "</style>\n",
       "<table border=\"1\" class=\"dataframe\">\n",
       "  <thead>\n",
       "    <tr style=\"text-align: right;\">\n",
       "      <th></th>\n",
       "      <th>CV RMSE</th>\n",
       "      <th>CV AUC</th>\n",
       "      <th>Avg of optimal thresholds</th>\n",
       "      <th>Threshold for Fold5</th>\n",
       "      <th>Avg expected loss</th>\n",
       "      <th>Expected loss for Fold5</th>\n",
       "    </tr>\n",
       "  </thead>\n",
       "  <tbody>\n",
       "    <tr>\n",
       "      <th>0</th>\n",
       "      <td>0.402</td>\n",
       "      <td>0.786</td>\n",
       "      <td>0.606</td>\n",
       "      <td>0.583</td>\n",
       "      <td>0.267</td>\n",
       "      <td>0.275</td>\n",
       "    </tr>\n",
       "  </tbody>\n",
       "</table>\n",
       "</div>"
      ],
      "text/plain": [
       "   CV RMSE  CV AUC  Avg of optimal thresholds  Threshold for Fold5   \n",
       "0    0.402   0.786                      0.606                0.583  \\\n",
       "\n",
       "   Avg expected loss  Expected loss for Fold5  \n",
       "0              0.267                    0.275  "
      ]
     },
     "execution_count": 332,
     "metadata": {},
     "output_type": "execute_result"
    }
   ],
   "source": [
    "rf_summary_serv = pd.DataFrame(\n",
    "    {'CV RMSE': [round(CV_RMSE_serv['randomforestprob'], 3)],\n",
    "     'CV AUC': [round(CV_AUC_serv['randomforestprob'], 3)],\n",
    "     'Avg of optimal thresholds': [round(best_thresholds_cv_serv['randomforestprob'], 3)],\n",
    "     'Threshold for Fold5': [round(fold5_threshold_rf_serv, 3)],\n",
    "     'Avg expected loss': [round(expected_loss_cv_serv['randomforestprob'], 3)],\n",
    "     'Expected loss for Fold5': [round(fold5_expected_loss_rf_serv, 3)]})\n",
    "\n",
    "rf_summary_serv"
   ]
  },
  {
   "cell_type": "markdown",
   "metadata": {},
   "source": [
    "## Service firms"
   ]
  },
  {
   "cell_type": "code",
   "execution_count": 333,
   "metadata": {},
   "outputs": [
    {
     "data": {
      "text/html": [
       "<div>\n",
       "<style scoped>\n",
       "    .dataframe tbody tr th:only-of-type {\n",
       "        vertical-align: middle;\n",
       "    }\n",
       "\n",
       "    .dataframe tbody tr th {\n",
       "        vertical-align: top;\n",
       "    }\n",
       "\n",
       "    .dataframe thead th {\n",
       "        text-align: right;\n",
       "    }\n",
       "</style>\n",
       "<table border=\"1\" class=\"dataframe\">\n",
       "  <thead>\n",
       "    <tr style=\"text-align: right;\">\n",
       "      <th></th>\n",
       "      <th>RMSE</th>\n",
       "      <th>AUC</th>\n",
       "      <th>Expected loss</th>\n",
       "    </tr>\n",
       "  </thead>\n",
       "  <tbody>\n",
       "    <tr>\n",
       "      <th>0</th>\n",
       "      <td>0.402</td>\n",
       "      <td>0.794</td>\n",
       "      <td>0.291</td>\n",
       "    </tr>\n",
       "  </tbody>\n",
       "</table>\n",
       "</div>"
      ],
      "text/plain": [
       "    RMSE    AUC  Expected loss\n",
       "0  0.402  0.794          0.291"
      ]
     },
     "execution_count": 333,
     "metadata": {},
     "output_type": "execute_result"
    }
   ],
   "source": [
    "prob_forest_fit_best_serv = prob_forest_fit_serv.best_estimator_\n",
    "rf_predicted_probabilities_holdout_serv = prob_forest_fit_best_serv.predict_proba(rfvars_holdout_serv)[:,1]\n",
    "rmse_rf_serv = np.sqrt(mean_squared_error(y_holdout_serv, rf_predicted_probabilities_holdout_serv))\n",
    "auc_rf_serv = roc_auc_score(y_holdout_serv, rf_predicted_probabilities_holdout_serv)\n",
    "holdout_treshold_serv = np.where(rf_predicted_probabilities_holdout_serv < best_thresholds_cv_serv['randomforestprob'], 0, 1)\n",
    "tn, fp, fn, tp = confusion_matrix(y_holdout_serv, holdout_treshold_serv, labels=[0,1]).ravel()\n",
    "expected_loss_holdout_serv = (fp*FP_serv + fn*FN_serv)/len(y_holdout_serv)\n",
    "\n",
    "rf_holdout_results_serv = pd.DataFrame(\n",
    "    {'RMSE': [round(rmse_rf_serv, 3)],\n",
    "     'AUC': [round(auc_rf_serv, 3)],\n",
    "     'Expected loss': [round(expected_loss_holdout_serv, 3)]})\n",
    "\n",
    "rf_holdout_results_serv"
   ]
  },
  {
   "cell_type": "code",
   "execution_count": 334,
   "metadata": {},
   "outputs": [
    {
     "data": {
      "text/html": [
       "<div>\n",
       "<style scoped>\n",
       "    .dataframe tbody tr th:only-of-type {\n",
       "        vertical-align: middle;\n",
       "    }\n",
       "\n",
       "    .dataframe tbody tr th {\n",
       "        vertical-align: top;\n",
       "    }\n",
       "\n",
       "    .dataframe thead th {\n",
       "        text-align: right;\n",
       "    }\n",
       "</style>\n",
       "<table border=\"1\" class=\"dataframe\">\n",
       "  <thead>\n",
       "    <tr style=\"text-align: right;\">\n",
       "      <th></th>\n",
       "      <th>Actual slow growth</th>\n",
       "      <th>Actual fast growth</th>\n",
       "    </tr>\n",
       "  </thead>\n",
       "  <tbody>\n",
       "    <tr>\n",
       "      <th>Predicted slow growth</th>\n",
       "      <td>66.7</td>\n",
       "      <td>21.8</td>\n",
       "    </tr>\n",
       "    <tr>\n",
       "      <th>Predicted fast growth</th>\n",
       "      <td>3.6</td>\n",
       "      <td>7.9</td>\n",
       "    </tr>\n",
       "  </tbody>\n",
       "</table>\n",
       "</div>"
      ],
      "text/plain": [
       "                       Actual slow growth  Actual fast growth\n",
       "Predicted slow growth                66.7                21.8\n",
       "Predicted fast growth                 3.6                 7.9"
      ]
     },
     "execution_count": 334,
     "metadata": {},
     "output_type": "execute_result"
    }
   ],
   "source": [
    "cm_object_serv = confusion_matrix(y_holdout_serv, holdout_treshold_serv, labels=[0,1])\n",
    "cm_serv = pd.DataFrame(cm_object_serv, \n",
    "    index=['Actual slow growth', 'Actual fast growth'], \n",
    "    columns=['Predicted slow growth', 'Predicted fast growth'])\n",
    "cm_serv\n",
    "\n",
    "cm_percentage_serv = cm_serv / cm_serv.values.sum() * 100\n",
    "cm_percentage_rounded_serv = cm_percentage_serv.round(1)\n",
    "cm_percentage_rounded_serv.T"
   ]
  },
  {
   "cell_type": "code",
   "execution_count": 335,
   "metadata": {},
   "outputs": [
    {
     "data": {
      "text/html": [
       "<div>\n",
       "<style scoped>\n",
       "    .dataframe tbody tr th:only-of-type {\n",
       "        vertical-align: middle;\n",
       "    }\n",
       "\n",
       "    .dataframe tbody tr th {\n",
       "        vertical-align: top;\n",
       "    }\n",
       "\n",
       "    .dataframe thead th {\n",
       "        text-align: right;\n",
       "    }\n",
       "</style>\n",
       "<table border=\"1\" class=\"dataframe\">\n",
       "  <thead>\n",
       "    <tr style=\"text-align: right;\">\n",
       "      <th></th>\n",
       "      <th>Actual slow growth</th>\n",
       "      <th>Actual fast growth</th>\n",
       "    </tr>\n",
       "  </thead>\n",
       "  <tbody>\n",
       "    <tr>\n",
       "      <th>Predicted slow growth</th>\n",
       "      <td>66.7</td>\n",
       "      <td>21.8</td>\n",
       "    </tr>\n",
       "    <tr>\n",
       "      <th>Predicted fast growth</th>\n",
       "      <td>3.6</td>\n",
       "      <td>7.9</td>\n",
       "    </tr>\n",
       "  </tbody>\n",
       "</table>\n",
       "</div>"
      ],
      "text/plain": [
       "                       Actual slow growth  Actual fast growth\n",
       "Predicted slow growth                66.7                21.8\n",
       "Predicted fast growth                 3.6                 7.9"
      ]
     },
     "execution_count": 335,
     "metadata": {},
     "output_type": "execute_result"
    }
   ],
   "source": [
    "cm_percentage_rounded_serv.T"
   ]
  },
  {
   "cell_type": "markdown",
   "metadata": {},
   "source": [
    "Loss plot for the RF model applied for service firms in Fold 5 "
   ]
  },
  {
   "cell_type": "code",
   "execution_count": 336,
   "metadata": {},
   "outputs": [
    {
     "data": {
      "image/png": "[encoded data removed]",
      "text/plain": [
       "<Figure size 640x480 with 1 Axes>"
      ]
     },
     "metadata": {
      "image/png": {
       "height": 480,
       "width": 640
      }
     },
     "output_type": "display_data"
    },
    {
     "data": {
      "text/plain": [
       "<Figure Size: (640 x 480)>"
      ]
     },
     "execution_count": 336,
     "metadata": {},
     "output_type": "execute_result"
    }
   ],
   "source": [
    "fig = create_loss_plot(all_coords_rf_serv, fold5_threshold_rf_serv, fold5_expected_loss_rf_serv)\n",
    "fig.save('/Users/jacopobinati/Desktop/Prediction ML/assignment 3/visualisations/TASK2/loss_services.png')\n",
    "fig"
   ]
  },
  {
   "cell_type": "code",
   "execution_count": 337,
   "metadata": {},
   "outputs": [
    {
     "data": {
      "image/png": "[encoded data removed]",
      "text/plain": [
       "<Figure size 640x480 with 1 Axes>"
      ]
     },
     "metadata": {
      "image/png": {
       "height": 480,
       "width": 640
      }
     },
     "output_type": "display_data"
    },
    {
     "data": {
      "text/plain": [
       "<Figure Size: (640 x 480)>"
      ]
     },
     "execution_count": 337,
     "metadata": {},
     "output_type": "execute_result"
    }
   ],
   "source": [
    "fig = create_roc_plot_with_optimal(all_coords_rf_serv, fold5_threshold_rf_serv)\n",
    "fig.save('/Users/jacopobinati/Desktop/Prediction ML/assignment 3/visualisations/TASK2/ROC_optimal_services.png')\n",
    "fig"
   ]
  }
 ],
 "metadata": {
  "kernelspec": {
   "display_name": "Python 3",
   "language": "python",
   "name": "python3"
  },
  "language_info": {
   "codemirror_mode": {
    "name": "ipython",
    "version": 3
   },
   "file_extension": ".py",
   "mimetype": "text/x-python",
   "name": "python",
   "nbconvert_exporter": "python",
   "pygments_lexer": "ipython3",
   "version": "3.9.17"
  }
 },
 "nbformat": 4,
 "nbformat_minor": 2
}
